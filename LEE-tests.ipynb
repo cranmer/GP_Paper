{
 "cells": [
  {
   "cell_type": "code",
   "execution_count": 1,
   "metadata": {
    "collapsed": false,
    "deletable": true,
    "editable": true
   },
   "outputs": [
    {
     "name": "stderr",
     "output_type": "stream",
     "text": [
      "/Users/MeghanFrate/anaconda2/lib/python2.7/site-packages/matplotlib/font_manager.py:273: UserWarning: Matplotlib is building the font cache using fc-list. This may take a moment.\n",
      "  warnings.warn('Matplotlib is building the font cache using fc-list. This may take a moment.')\n"
     ]
    },
    {
     "name": "stdout",
     "output_type": "stream",
     "text": [
      "Populating the interactive namespace from numpy and matplotlib\n"
     ]
    }
   ],
   "source": [
    "%pylab inline --no-import-all"
   ]
  },
  {
   "cell_type": "code",
   "execution_count": 2,
   "metadata": {
    "collapsed": false,
    "deletable": true,
    "editable": true
   },
   "outputs": [],
   "source": [
    "import george\n",
    "from george.kernels import MyDijetKernelSimp, SignalKernel\n",
    "\n",
    "import math\n",
    "import time\n",
    "import numpy as np\n",
    "import scipy.stats as ss\n",
    "import scipy.special as ssp\n",
    "import scipy.optimize as op\n",
    "from iminuit import Minuit\n",
    "import corner\n",
    "\n",
    "import ROOT as r\n",
    "from rootpy.plotting import Hist, Hist2D, Legend, Canvas\n",
    "import rootpy.plotting.root2matplotlib as rplt\n",
    "\n"
   ]
  },
  {
   "cell_type": "markdown",
   "metadata": {},
   "source": [
    "### load inputs"
   ]
  },
  {
   "cell_type": "code",
   "execution_count": 3,
   "metadata": {
    "collapsed": false,
    "deletable": true,
    "editable": true
   },
   "outputs": [],
   "source": [
    "#Full bin centers (xvalO), counts (yvalO), bin width (xerrO), and bin low edges (xlowO) from ATLAS\n",
    "xvalO = np.load(\"newoutputs/xvalO.npy\")\n",
    "yvalO = np.load(\"newoutputs/yvalO.npy\")\n",
    "xerrO = np.load(\"newoutputs/xerrO.npy\")\n",
    "xlowO = list(np.load(\"newoutputs/xlowO.npy\"))\n",
    "\n",
    "#Same, but with bins with zero counts removed. GP fits better without zero counts\n",
    "xval = np.load(\"newoutputs/xval.npy\")\n",
    "yval = np.load(\"newoutputs/yval.npy\")\n",
    "xerr = np.load(\"newoutputs/xerr.npy\")\n",
    "\n",
    "#hyperparameters (kernel and mean) from GP fit to ATLAS data.\n",
    "\n",
    "\n",
    "\n"
   ]
  },
  {
   "cell_type": "markdown",
   "metadata": {},
   "source": [
    "### Gaussian signal function"
   ]
  },
  {
   "cell_type": "code",
   "execution_count": 4,
   "metadata": {
    "collapsed": true,
    "deletable": true,
    "editable": true
   },
   "outputs": [],
   "source": [
    "def sig_model(x, N=1e5, mass=2000., width=100., xErr=xerr):\n",
    "    return N*(np.exp(-(x-mass)**2/2/width/width)/np.sqrt(2*np.pi)/width)*xErr"
   ]
  },
  {
   "cell_type": "markdown",
   "metadata": {},
   "source": [
    "### Calculate z values and chi squared "
   ]
  },
  {
   "cell_type": "code",
   "execution_count": 5,
   "metadata": {
    "collapsed": true,
    "deletable": true,
    "editable": true
   },
   "outputs": [],
   "source": [
    "def calcSignificance(Data, Bkg):\n",
    "    pvals = []\n",
    "    zvals = []\n",
    "    chi2 = 0\n",
    "    for i, nD in enumerate(Data):\n",
    "        nB = Bkg[i]\n",
    "        if nD != 0:\n",
    "            if nB > nD:\n",
    "                pval = 1.-ssp.gammainc(nD+1.,nB)\n",
    "            else:\n",
    "                pval = ssp.gammainc(nD,nB)\n",
    "            prob = 1-2*pval\n",
    "            if prob > -1 and prob < 1:\n",
    "                zval = math.sqrt(2.)*ssp.erfinv(prob)\n",
    "            else:\n",
    "                zval = np.inf\n",
    "            if zval > 100: zval = 20\n",
    "            if zval < 0: zval = 0\n",
    "            if (nD < nB): zval = -zval\n",
    "        else: zval = 0\n",
    "            \n",
    "        zvals.append(zval)\n",
    "        chi2 += ((nD - nB) ** 2 / abs(nB)) \n",
    "    return zvals, chi2"
   ]
  },
  {
   "cell_type": "markdown",
   "metadata": {},
   "source": [
    "#### mean and variance of non-central chi2"
   ]
  },
  {
   "cell_type": "code",
   "execution_count": 6,
   "metadata": {
    "collapsed": true
   },
   "outputs": [],
   "source": [
    "def chi2_mean_variance(DOF, nc):\n",
    "    mean = nc\n",
    "    variance = np.sqrt(nc)\n",
    "    return mean, variance"
   ]
  },
  {
   "cell_type": "markdown",
   "metadata": {},
   "source": [
    "### Poisson log likelihood"
   ]
  },
  {
   "cell_type": "code",
   "execution_count": 7,
   "metadata": {
    "collapsed": true
   },
   "outputs": [],
   "source": [
    "def simpleLogPoisson(x, par):\n",
    "    if x < 0: \n",
    "        return np.inf\n",
    "    elif (x == 0): return -1.*par\n",
    "    else:\n",
    "        lnpoisson = x*np.log(par)-par-ssp.gammaln(x+1.) \n",
    "        return lnpoisson"
   ]
  },
  {
   "cell_type": "markdown",
   "metadata": {},
   "source": [
    "### remove zero count bins to use for GP fits"
   ]
  },
  {
   "cell_type": "code",
   "execution_count": 8,
   "metadata": {
    "collapsed": true
   },
   "outputs": [],
   "source": [
    "def removeZeros(data):\n",
    "    indices = [i for i, x in enumerate(data) if x == 0]\n",
    "    newylist=[]\n",
    "    newxlist=[]\n",
    "    newxerrlist=[]\n",
    "    for k in range(len(data)):\n",
    "        if k not in indices:\n",
    "            newylist.append(data[k])\n",
    "            newxlist.append(xvalO[k])\n",
    "            newxerrlist.append(xerrO[k])\n",
    "    return np.array(newylist), np.array(newxlist), np.array(newxerrlist)"
   ]
  },
  {
   "cell_type": "markdown",
   "metadata": {},
   "source": [
    "### fit for noncentrality parameter of non central chi-squared"
   ]
  },
  {
   "cell_type": "code",
   "execution_count": 9,
   "metadata": {
    "collapsed": true,
    "deletable": true,
    "editable": true
   },
   "outputs": [],
   "source": [
    "def ncchi(x, nc):\n",
    "    return ss.ncx2.pdf(x, 1., nc) "
   ]
  },
  {
   "cell_type": "markdown",
   "metadata": {},
   "source": [
    "### pretty plots showing background only fit and background+signal fit"
   ]
  },
  {
   "cell_type": "code",
   "execution_count": 10,
   "metadata": {
    "collapsed": true
   },
   "outputs": [],
   "source": [
    "def makePrettyPlots_signal(xs, ys, bkgs, bkgsigs, title, mass, col = 'g', ymax = 2e5):\n",
    "    f, (ax1, ax2, ax3) = plt.subplots(3, sharex=True, figsize=(12,12), gridspec_kw = {'height_ratios':[3, 1, 1]})\n",
    "    f.suptitle(title, fontsize=40)\n",
    "    dataPlot = ax1.errorbar(xs, ys, marker='o', ls='None', yerr = np.sqrt(ys), c='black', markersize=10, label=\"ATLAS data+Injected signal\")\n",
    "    bkg1Plot, = ax1.plot(xs, bkgs, color=col, linewidth=3.0, label=\"Background only\")\n",
    "    bkg2Plot, = ax1.plot(xs, bkgsigs, color='r', linewidth=3.0, label=\"Signal-plus-background\")\n",
    "    ax1.legend(prop={'size':20})\n",
    "    ax1.set_ylabel('Events per bin', fontsize=40)\n",
    "    ax1.set_yscale('log', nonposy=\"clip\")\n",
    "    ax1.set_xscale('log')\n",
    "    ax1.set_xlim([1000, 7500])\n",
    "    ax1.set_ylim([0.3, ymax])\n",
    "    ax1.tick_params(axis='y', labelsize=30)\n",
    "    ax1.axvline(mass, color='black', lw=1, linestyle=\"--\")\n",
    "    #ax1.arrow(mass, 1.5e2, 0, 3e2, lw=5, head_width=50, head_length=125)\n",
    "    \n",
    "    #bin by bin significance   \n",
    "    zvals_1, chi2_1 = calcSignificance(ys, bkgs)\n",
    "    print \"chi2 bkg+signal mu=0\", chi2_1\n",
    "    h1 = Hist(xlowO,markersize=0)\n",
    "    for x in range(len(zvals_1)):\n",
    "        if zvals_1[x] == np.inf or zvals_1[x] == -np.inf: h1[x] = 20\n",
    "        else: h1[x] = zvals_1[x]  \n",
    "    h1.fillstyle = 'solid'\n",
    "    if col == 'g':\n",
    "         h1.fillcolor = 'green'\n",
    "    elif col == 'b':\n",
    "         h1.fillcolor = 'blue'\n",
    "    elif col == 'r':\n",
    "         h1.fillcolor = 'red'\n",
    "    else:\n",
    "        h1.fillcolor = 'black'\n",
    "    h1.linecolor = 'black'\n",
    "    h1.linewidth = 1\n",
    "    h1.Draw(\"histX0\")\n",
    "\n",
    "    rplt.bar(h1, xerr=None, yerr=None, axes=ax2)\n",
    "    ax2.axhline(0, color='black', lw=1)\n",
    "    #ax2.set_ylabel('Significance', fontsize=20)\n",
    "    ax2.set_ylabel('Sig.', fontsize=40, labelpad=20)\n",
    "    ax2.set_xscale('log')\n",
    "    ax2.tick_params(axis='y', labelsize=30)\n",
    "    ax2.set_xlim([1000, 7500])\n",
    "    ax2.set_ylim([-5, 5])\n",
    "    ax2.axvline(mass, color='black', lw=1, linestyle=\"--\")\n",
    "    #ax2.arrow(mass, -3, 0, 1.7, lw=5,head_width=50, head_length=0.5)\n",
    "\n",
    "    zvals_2, chi2_2 = calcSignificance(ys, bkgsigs)\n",
    "    print \"chi2 bkg+signal\", chi2_2\n",
    "    h2 = Hist(xlowO,markersize=0)\n",
    "    for x in range(len(zvals_2)):\n",
    "        if zvals_2[x] == np.inf or zvals_2[x] == -np.inf: h2[x] = 20\n",
    "        else: h2[x] = zvals_2[x]  \n",
    "    h2.fillstyle = 'solid'\n",
    "    h2.fillcolor = 'red'\n",
    "    h2.linecolor = 'black'\n",
    "    h2.linewidth = 1\n",
    "    h2.Draw(\"histX0\")\n",
    "    rplt.bar(h2, xerr=None, yerr=None, axes=ax3)\n",
    "    ax3.axhline(0, color='black', lw=1)\n",
    "    ax3.set_xlabel(r\"$m_{jj}$ [TeV]\", fontsize=40)\n",
    "    #ax3.set_ylabel('Significance', fontsize=20)\n",
    "    ax3.set_ylabel('Sig.', fontsize=40, labelpad=20)\n",
    "    ax3.set_xscale('log')\n",
    "    ax3.tick_params(axis='y', labelsize=30)\n",
    "    ax3.tick_params(axis='x', labelsize=30)\n",
    "    ax3.set_ylim([-5, 5])\n",
    "    ax3.set_xlim([1000, 7500])\n",
    "    ax3.axvline(mass, color='black', lw=1, linestyle=\"--\")\n",
    "    #ax3.arrow(mass, -3, 0, 1.7, lw=5,head_width=50, head_length=0.5)\n",
    "    \n",
    "\n",
    "    ax3.set_xticks([1000, 2000, 3000, 4000, 5000, 6000, 7000])\n",
    "    ax3.get_xaxis().set_major_formatter(matplotlib.ticker.ScalarFormatter())\n",
    "    minor_ticks = np.arange(1000, 7500, 100)\n",
    "    ax3.set_xticks(minor_ticks, minor=True)  \n",
    "    labels = [\"1\",\"2\",\"3\",\"4\",\"5\",\"6\",\"7\"]\n",
    "    ax3.set_xticklabels(labels)\n",
    "    \n",
    "    f.subplots_adjust(hspace=0)\n",
    "    plt.setp([a.get_xticklabels() for a in f.axes[:-1]], visible=False)    \n",
    "    plt.show()\n"
   ]
  },
  {
   "cell_type": "markdown",
   "metadata": {},
   "source": [
    "### plot distribution of log likelihood from fits to toys"
   ]
  },
  {
   "cell_type": "code",
   "execution_count": 11,
   "metadata": {
    "collapsed": true,
    "deletable": true,
    "editable": true
   },
   "outputs": [],
   "source": [
    "def makePrettyPlots_LLH(small_LLH, large_LLH, title, drawchi2=False, xname=r'$\\chi^{2}$', label1=\"\", label2 = \"\"):\n",
    "    f, (ax1, ax2) = plt.subplots(2, figsize=(12,12), gridspec_kw = {'height_ratios':[1, 1]})\n",
    "#    f.suptitle(title, fontsize=30)\n",
    "   # f.text(0.0, 0.5, 'Toy Data Experiment', va='center', rotation='vertical', fontsize=40)\n",
    "\n",
    "\n",
    "    lowx = min(min(small_LLH), min(large_LLH))\n",
    "    highx = max(max(small_LLH), max(large_LLH))\n",
    "    bins = np.linspace(lowx, highx, 200)\n",
    "    dx = bins[1]-bins[0]\n",
    "    bin_centers = bins[:-1] + dx/2.\n",
    "    \n",
    "    hSmall, _, _ = ax1.hist(small_LLH, bins=bins, color=\"b\")\n",
    "    ax1.tick_params(axis='y', labelsize=30)\n",
    "    ax1.tick_params(axis='x', labelsize=30)\n",
    "    ax1.set_title(label1, fontsize=30)\n",
    "    ax1.set_ylim([0.1, 10000])\n",
    "    ax1.set_xlim([0, highx])\n",
    "    #ax1.set_xlim([0, 30])\n",
    "    ax1.set_yscale('log')\n",
    "    if drawchi2:\n",
    "        chi2_Small =sum(hSmall)*(bins[1]-bins[0])*ss.chi2.pdf(bin_centers, 1.)\n",
    "        ax1.plot(bin_centers, chi2_Small, c='r', linewidth=2)\n",
    "    \n",
    "    \n",
    "    hLarge, _, _ =ax2.hist(large_LLH, bins=bins, color='g')\n",
    "    ax2.tick_params(axis='y', labelsize=30)\n",
    "    ax2.tick_params(axis='x', labelsize=30)\n",
    "    ax2.set_xlabel(xname, fontsize=40)\n",
    "    ax2.set_title(label2, fontsize=30)\n",
    "    ax2.set_ylim([0.1, 10000])\n",
    "    ax2.set_xlim([0, highx])\n",
    "    #ax2.set_xlim([0, 30])\n",
    "    ax2.set_yscale('log')\n",
    "    if drawchi2:\n",
    "        chi2_Large = sum(hLarge)*(bins[1]-bins[0])*ss.chi2.pdf(bin_centers, 1.) \n",
    "        ax2.plot(bin_centers, chi2_Large, c='r', linewidth=2)\n",
    "\n",
    "\n",
    "    plt.show()\n",
    "\n",
    "\n"
   ]
  },
  {
   "cell_type": "markdown",
   "metadata": {},
   "source": [
    "### Poisson likelihood to use for Gaussian Process, for 3 parameter fit functions, 3 parameter fit function with signal strength parameter, 5 parameter fit function, and 5 parameter fit function with signal strength parameter. "
   ]
  },
  {
   "cell_type": "code",
   "execution_count": 12,
   "metadata": {
    "collapsed": true,
    "deletable": true,
    "editable": true
   },
   "outputs": [],
   "source": [
    "def logLike_gpLikeFF(y1, y2):\n",
    "    logL = 0\n",
    "    for ibin in range(len(y1)):\n",
    "        data = y1[ibin]\n",
    "        bkg = y2[ibin]\n",
    "        logL += -simpleLogPoisson(data, bkg)\n",
    "    try:\n",
    "        logL\n",
    "        return logL\n",
    "    except:\n",
    "        return np.inf  \n",
    "        \n"
   ]
  },
  {
   "cell_type": "markdown",
   "metadata": {},
   "source": [
    "### mean function for GP - 3 parameter fit function. negative log likelihood for Gaussian Process - from george. Minuit minimzation for GP negative log likelihood. Hyperparameters and mean function parameters are fixed, just fitting signal strength"
   ]
  },
  {
   "cell_type": "code",
   "execution_count": 13,
   "metadata": {
    "collapsed": true,
    "deletable": true,
    "editable": true
   },
   "outputs": [],
   "source": [
    "def model_gp(params, t, xerr=xerr): \n",
    "    p0, p1, p2 = params\n",
    "    sqrts = 13000.\n",
    "    return (p0 * (1.-t/sqrts)**p1 * (t/sqrts)**(p2))*xerr\n",
    "\n",
    "class logLike_gp_fitM_fixedH:\n",
    "    def __init__(self, x, y, xerr, params):\n",
    "        self.x = x\n",
    "        self.y = y\n",
    "        self.xerr = xerr\n",
    "        self.params = params\n",
    "    def __call__(self, mass):\n",
    "        Amp, decay, length, power, sub, p0, p1, p2 = fixedHyperparams\n",
    "        A, tau, L = self.params\n",
    "        kernel1 = Amp * MyDijetKernelSimp(a = decay, b = length, c = power, d = sub)\n",
    "        kernel2 = A * SignalKernel(m = mass, t = tau, L=L)\n",
    "        kernel = kernel1+kernel2\n",
    "        gp = george.GP(kernel)\n",
    "        try:\n",
    "            gp.compute(self.x, np.sqrt(self.y))\n",
    "            return -gp.lnlikelihood(self.y - model_gp((p0,p1,p2), self.x, self.xerr))\n",
    "        except:\n",
    "            return np.inf        \n",
    "        \n",
    "def fit_gp_fitM_fixedH_minuit(lnprob, Print = True):\n",
    "    minLLH = np.inf\n",
    "    best_fit_params = (0)\n",
    "    passedFit = False\n",
    "    numRetries = 0\n",
    "    while not passedFit and numRetries < 5:\n",
    "        init0 = np.random.random() * 3500.\n",
    "        m = Minuit(lnprob, throw_nan = False, pedantic = False, print_level = 0, \n",
    "                   mass = init0, error_mass = 0.1, limit_mass = (2000, 5000)) \n",
    "        fit = m.migrad()\n",
    "        if fit[0]['is_valid']: \n",
    "            passedFit=True\n",
    "        if m.fval < minLLH:\n",
    "            minLLH = m.fval\n",
    "            best_fit_params = m.args     \n",
    "            \n",
    "        if numRetries == 4: \n",
    "            print \"retry number = \", 5, \": failed fits\"\n",
    "            minLLH=np.inf\n",
    "            best_fit_params=(0)\n",
    "        numRetries+=1\n",
    "    if Print:\n",
    "        print \"min LL\", minLLH\n",
    "        print \"best fit vals\",best_fit_params\n",
    "    return minLLH, best_fit_params\n",
    "\n",
    "\n"
   ]
  },
  {
   "cell_type": "markdown",
   "metadata": {},
   "source": [
    "### Distribution of log likelihood ratio for Gaussian Process from george and Poisson likelihood calculations, with non central chi2 overlaid"
   ]
  },
  {
   "cell_type": "code",
   "execution_count": 27,
   "metadata": {
    "collapsed": false
   },
   "outputs": [
    {
     "name": "stdout",
     "output_type": "stream",
     "text": [
      "(300, 3500, 250)\n",
      "0\n",
      "background only time: 0.00358200073242\n",
      "327.958703024 329.958518988 327.958703024\n",
      "background + signal time: 0.038339138031\n",
      "500\n",
      "background only time: 0.00308990478516\n",
      "348.49013837 353.969218031 349.203260175\n",
      "background + signal time: 0.0340311527252\n",
      "1000\n",
      "background only time: 0.0029411315918\n",
      "338.703658404 344.807753069 338.703658404\n",
      "background + signal time: 0.0333590507507\n",
      "1500\n",
      "background only time: 0.00302791595459\n",
      "326.762143618 331.36616661 326.762143618\n",
      "background + signal time: 0.0344729423523\n",
      "2000\n",
      "background only time: 0.00293612480164\n",
      "332.6285475 334.827270811 334.978333214\n",
      "background + signal time: 0.0333268642426\n",
      "2500\n",
      "background only time: 0.00298690795898\n",
      "321.593096484 329.41912032 325.427223144\n",
      "background + signal time: 0.0342090129852\n",
      "3000\n",
      "background only time: 0.0034601688385\n",
      "321.292693069 328.198935301 326.857317382\n",
      "background + signal time: 0.0344769954681\n",
      "3500\n",
      "background only time: 0.00313186645508\n",
      "331.489989506 341.038989547 332.07378416\n",
      "background + signal time: 0.0324771404266\n",
      "4000\n",
      "background only time: 0.00300312042236\n",
      "335.222959984 340.287218894 335.222959984\n",
      "background + signal time: 0.0326120853424\n",
      "4500\n",
      "background only time: 0.00294899940491\n",
      "328.136624678 332.798865963 329.077898452\n",
      "background + signal time: 0.0327289104462\n",
      "5000\n",
      "background only time: 0.00361895561218\n",
      "334.978428739 340.733353127 334.978428739\n",
      "background + signal time: 0.0356750488281\n",
      "5500\n",
      "background only time: 0.00330591201782\n",
      "335.73456134 344.783444438 335.73456134\n",
      "background + signal time: 0.0336201190948\n",
      "6000\n",
      "background only time: 0.00307202339172\n",
      "342.598054358 349.273749639 342.598054358\n",
      "background + signal time: 0.0337090492249\n",
      "6500\n",
      "background only time: 0.00299310684204\n",
      "338.850551654 349.407663193 348.639994011\n",
      "background + signal time: 0.0328710079193\n",
      "7000\n",
      "background only time: 0.00315093994141\n",
      "320.773340467 327.348066498 323.126254679\n",
      "background + signal time: 0.0327980518341\n",
      "7500\n",
      "background only time: 0.00309491157532\n",
      "330.689939242 335.591196458 330.689939242\n",
      "background + signal time: 0.0329549312592\n",
      "8000\n",
      "background only time: 0.00300097465515\n",
      "336.777161176 344.383431058 337.321336\n",
      "background + signal time: 0.0330851078033\n",
      "8500\n",
      "background only time: 0.0031099319458\n",
      "345.467111187 347.460124667 345.467111187\n",
      "background + signal time: 0.032222032547\n",
      "9000\n",
      "background only time: 0.00299501419067\n",
      "327.891705038 335.888598666 336.934660088\n",
      "background + signal time: 0.0325810909271\n",
      "9500\n",
      "background only time: 0.00298190116882\n",
      "326.417301516 339.274572318 337.024309205\n",
      "background + signal time: 0.0351450443268\n",
      "took 0.106963835027hours\n"
     ]
    }
   ],
   "source": [
    "toyList = np.load(\"newoutputs/toyList_3500.npy\")\n",
    "fixedHyperparams = np.load(\"newoutputs/fixedHyperparams_3500.npy\")\n",
    "\n",
    "btime=time.time()\n",
    "\n",
    "#LLH ratio george likelihood\n",
    "LLlistGP_largeL={}\n",
    "\n",
    "\n",
    "standardParamSets = [(300, 3500, 250)]\n",
    "for pSet in standardParamSets:\n",
    "    n, m, w = pSet\n",
    "    print pSet\n",
    "    LLlistGP_largeL[m]=[]\n",
    "\n",
    "\n",
    "    for itoy, toy in enumerate(toyList):\n",
    "        if not itoy%500: \n",
    "            print itoy\n",
    "        ytoy, xtoy, xtoyerr = removeZeros(toy)\n",
    "        ydata = ytoy\n",
    "\n",
    "        ydataO = toy\n",
    "\n",
    "        #BACKGROUND ONLY FIT GP\n",
    "        if not itoy%500:\n",
    "            pgpb_stime = time.time()   \n",
    "        Amp, decay, length, power, sub, p0, p1, p2 = fixedHyperparams\n",
    "        kernel1 = Amp * MyDijetKernelSimp(a = decay, b = length, c = power, d = sub)\n",
    "        gp1 = george.GP(kernel1)\n",
    "        gp1.compute(xtoy, np.sqrt(ydata))\n",
    "        MAP1p, covGP1 = gp1.predict(ydata - model_gp((p0,p1,p2),xtoy, xtoyerr), xvalO)\n",
    "        MAP1 = MAP1p + model_gp((p0,p1,p2),xvalO, xerrO)\n",
    "        gpLLH = gp1.lnlikelihood(ydata - model_gp((p0,p1,p2),xtoy, xtoyerr))\n",
    "        if not itoy%500:\n",
    "            pgpb_etime = time.time()\n",
    "            print \"background only time:\", pgpb_etime-pgpb_stime\n",
    "        noSigLL = logLike_gpLikeFF(ydataO, MAP1)\n",
    "\n",
    "        '''\n",
    "                #BACKGROUND+SIGNAL FIT GP\n",
    "        if not itoy%500:\n",
    "            pgpsb_stime = time.time()\n",
    "        lnProb = logLike_gp_fitM_fixedH(xtoy,ydata, xtoyerr, (200, 600, 600))\n",
    "        minLLH, best_fit_gp = fit_gp_fitM_fixedH_minuit(lnProb, False)\n",
    "        #print best_fit_gp\n",
    "        if np.isinf(minLLH): \n",
    "            continue  \n",
    "        '''    \n",
    "        if not itoy%500:\n",
    "            pgpsb_stime = time.time()\n",
    "        lowestLL = np.inf\n",
    "        for mm in [2000, 2500, 3000, 3500, 4000, 4500, 5000]:\n",
    "            Amp, decay, length, power, sub, p0, p1, p2 = fixedHyperparams\n",
    "            A, mass, tau, L = 200, mm, 600, 600\n",
    "            kernel1 = Amp * MyDijetKernelSimp(a = decay, b = length, c = power, d = sub)\n",
    "            kernel2 = A * SignalKernel(m = mass, t = tau, L=L)\n",
    "            kernel = kernel1+kernel2\n",
    "            gp = george.GP(kernel)\n",
    "            gp.compute(xtoy, np.sqrt(ydata))\n",
    "            MAPp, covGP = gp.predict(ydata - model_gp((p0,p1,p2),xtoy, xtoyerr), xvalO)\n",
    "            MAP = MAPp + model_gp((p0,p1,p2),xvalO,xerrO)\n",
    "            gpLLHSig = gp.lnlikelihood(ydata - model_gp((p0,p1,p2),xtoy, xtoyerr))\n",
    "            lowestLL = min(lowestLL, logLike_gpLikeFF(ydataO, MAP))\n",
    "        if not itoy%500:\n",
    "                print lowestLL, noSigLL, logLike_gpLikeFF(ydataO, MAP)\n",
    "                pgpsb_etime = time.time()\n",
    "                print \"background + signal time:\", pgpsb_etime - pgpsb_stime\n",
    "        LLlistGP_largeL[m].append(-2*(-noSigLL+lowestLL))\n",
    "\n",
    "\n",
    "etime = time.time()\n",
    "print \"took \"+str((etime-btime)/(60.*60.)) + \"hours\"  "
   ]
  },
  {
   "cell_type": "code",
   "execution_count": 29,
   "metadata": {
    "collapsed": false
   },
   "outputs": [
    {
     "name": "stdout",
     "output_type": "stream",
     "text": [
      "(300, 3500, 250)\n",
      "0\n",
      "background only time: 0.00440096855164\n",
      "327.290384742 329.958518988 327.632942683\n",
      "background + signal time: 0.0382370948792\n",
      "500\n",
      "background only time: 0.00380611419678\n",
      "343.178101449 353.969218031 343.178101449\n",
      "background + signal time: 0.0476448535919\n",
      "1000\n",
      "background only time: 0.00296497344971\n",
      "335.981326191 344.807753069 335.981326191\n",
      "background + signal time: 0.0331289768219\n",
      "1500\n",
      "background only time: 0.00321793556213\n",
      "323.822653121 331.36616661 324.539765251\n",
      "background + signal time: 0.0345549583435\n",
      "2000\n",
      "background only time: 0.00296497344971\n",
      "329.143922258 334.827270811 329.809055788\n",
      "background + signal time: 0.0343191623688\n",
      "2500\n",
      "background only time: 0.00293803215027\n",
      "321.165730182 329.41912032 324.472465259\n",
      "background + signal time: 0.0326418876648\n",
      "3000\n",
      "background only time: 0.00318002700806\n",
      "320.264826616 328.198935301 323.523197047\n",
      "background + signal time: 0.0327467918396\n",
      "3500\n",
      "background only time: 0.00297403335571\n",
      "326.581102171 341.038989547 326.581102171\n",
      "background + signal time: 0.0328981876373\n",
      "4000\n",
      "background only time: 0.00345706939697\n",
      "329.847724582 340.287218894 329.847724582\n",
      "background + signal time: 0.0325589179993\n",
      "4500\n",
      "background only time: 0.00299406051636\n",
      "326.536680154 332.798865963 328.503314864\n",
      "background + signal time: 0.034970998764\n",
      "5000\n",
      "background only time: 0.00317192077637\n",
      "331.032979989 340.733353127 331.032979989\n",
      "background + signal time: 0.0367369651794\n",
      "5500\n",
      "background only time: 0.00322389602661\n",
      "332.560724356 344.783444438 332.560724356\n",
      "background + signal time: 0.0330169200897\n",
      "6000\n",
      "background only time: 0.0029091835022\n",
      "340.173269127 349.273749639 341.252243913\n",
      "background + signal time: 0.033075094223\n",
      "6500\n",
      "background only time: 0.00290894508362\n",
      "334.499944508 349.407663193 349.340842359\n",
      "background + signal time: 0.0328969955444\n",
      "7000\n",
      "background only time: 0.00302481651306\n",
      "318.906157766 327.348066498 322.180221514\n",
      "background + signal time: 0.0326960086823\n",
      "7500\n",
      "background only time: 0.00299310684204\n",
      "325.167187906 335.591196458 325.622565991\n",
      "background + signal time: 0.0328710079193\n",
      "8000\n",
      "background only time: 0.00310683250427\n",
      "334.583049695 344.383431058 335.250174542\n",
      "background + signal time: 0.0333108901978\n",
      "8500\n",
      "background only time: 0.00294995307922\n",
      "341.726094726 347.460124667 341.888935655\n",
      "background + signal time: 0.0341610908508\n",
      "9000\n",
      "background only time: 0.00308895111084\n",
      "327.042977755 335.888598666 334.984799064\n",
      "background + signal time: 0.0377848148346\n",
      "9500\n",
      "background only time: 0.00302004814148\n",
      "325.036661975 339.274572318 335.236136541\n",
      "background + signal time: 0.0327250957489\n",
      "took 0.103694777489hours\n"
     ]
    }
   ],
   "source": [
    "#sigToys = np.load(\"newoutputs/signalToys_3500.npy\")\n",
    "#sigToysO = np.load(\"newoutputs/signalToysO_3500.npy\")\n",
    "#toyList = np.load(\"newoutputs/toyList_3500.npy\")\n",
    "\n",
    "btime=time.time()\n",
    "\n",
    "#LLH ratio george likelihood\n",
    "LLlistGP_smallL={}\n",
    "\n",
    "standardParamSets = [(300, 3500, 250)]\n",
    "for pSet in standardParamSets:\n",
    "    n, m, w = pSet\n",
    "    print pSet\n",
    "    LLlistGP_smallL[m]=[]\n",
    "\n",
    "\n",
    "    for itoy, toy in enumerate(toyList):\n",
    "        if not itoy%500: \n",
    "            print itoy\n",
    "        ytoy, xtoy, xtoyerr = removeZeros(toy)\n",
    "        ydata = ytoy \n",
    "\n",
    "        ydataO = toy \n",
    "\n",
    "        #BACKGROUND ONLY FIT GP\n",
    "        if not itoy%500:\n",
    "            pgpb_stime = time.time()\n",
    "        Amp, decay, length, power, sub, p0, p1, p2 = fixedHyperparams\n",
    "        kernel1 = Amp * MyDijetKernelSimp(a = decay, b = length, c = power, d = sub)\n",
    "        gp1 = george.GP(kernel1)\n",
    "        gp1.compute(xtoy, np.sqrt(ydata))\n",
    "        MAP1p, covGP1 = gp1.predict(ydata - model_gp((p0,p1,p2),xtoy, xtoyerr), xvalO)\n",
    "        MAP1 = MAP1p + model_gp((p0,p1,p2),xvalO, xerrO)\n",
    "        gpLLH = gp1.lnlikelihood(ydata - model_gp((p0,p1,p2),xtoy, xtoyerr))\n",
    "        if not itoy%500:\n",
    "            pgpb_etime = time.time()\n",
    "            print \"background only time:\", pgpb_etime-pgpb_stime\n",
    "        noSigLL = logLike_gpLikeFF(ydataO, MAP1)\n",
    "        \n",
    "        #BACKGROUND+SIGNAL FIT GP\n",
    "        if not itoy%500:\n",
    "            pgpsb_stime = time.time()\n",
    "        lowestLL = np.inf\n",
    "        for mm in [2000, 2500, 3000, 3500, 4000, 4500, 5000]:\n",
    "            Amp, decay, length, power, sub, p0, p1, p2 = fixedHyperparams\n",
    "            A, mass, tau, L = 200, mm, 600, 200\n",
    "            kernel1 = Amp * MyDijetKernelSimp(a = decay, b = length, c = power, d = sub)\n",
    "            kernel2 = A * SignalKernel(m = mass, t = tau, L=L)\n",
    "            kernel = kernel1+kernel2\n",
    "            gp = george.GP(kernel)\n",
    "            gp.compute(xtoy, np.sqrt(ydata))\n",
    "            MAPp, covGP = gp.predict(ydata - model_gp((p0,p1,p2),xtoy, xtoyerr), xvalO)\n",
    "            MAP = MAPp + model_gp((p0,p1,p2),xvalO,xerrO)\n",
    "            gpLLHSig = gp.lnlikelihood(ydata - model_gp((p0,p1,p2),xtoy, xtoyerr))\n",
    "            lowestLL = min(lowestLL, logLike_gpLikeFF(ydataO, MAP))\n",
    "        if not itoy%500:\n",
    "                print lowestLL, noSigLL, logLike_gpLikeFF(ydataO, MAP)\n",
    "                pgpsb_etime = time.time()\n",
    "                print \"background + signal time:\", pgpsb_etime - pgpsb_stime\n",
    "        LLlistGP_smallL[m].append(-2*(-noSigLL+lowestLL))\n",
    "\n",
    "\n",
    "\n",
    "\n",
    "etime = time.time()\n",
    "print \"took \"+str((etime-btime)/(60.*60.)) + \"hours\"  "
   ]
  },
  {
   "cell_type": "code",
   "execution_count": 30,
   "metadata": {
    "collapsed": false,
    "editable": true,
    "scrolled": true
   },
   "outputs": [
    {
     "name": "stdout",
     "output_type": "stream",
     "text": [
      "george LL% < 0:  0.0\n",
      "george LL% < 0:  0.0\n"
     ]
    },
    {
     "data": {
      "image/png": "[encoded data removed]",
      "text/plain": [
       "<matplotlib.figure.Figure at 0x1233bd310>"
      ]
     },
     "metadata": {},
     "output_type": "display_data"
    },
    {
     "data": {
      "image/png": "[encoded data removed]",
      "text/plain": [
       "<matplotlib.figure.Figure at 0x12346ab50>"
      ]
     },
     "metadata": {},
     "output_type": "display_data"
    }
   ],
   "source": [
    "msignals = [standardParamSets[i][1] for i in range(len(standardParamSets))]\n",
    "\n",
    "for m in msignals:\n",
    "    gp_smallL = [s for s in LLlistGP_smallL[m] if not (np.isinf(s) or np.isnan(s))]\n",
    "    \n",
    "    gp_neg_frac_smallL = round(100.*sum(i < 0 for i in gp_smallL)/len(gp_smallL),2)\n",
    "    print \"george LL% < 0: \", gp_neg_frac_smallL\n",
    "    \n",
    "    gp_smallL = [s for s in gp_smallL if s > 0]\n",
    "    \n",
    "    gp_largeL = [s for s in LLlistGP_largeL[m] if not (np.isinf(s) or np.isnan(s))]\n",
    "    \n",
    "    gp_neg_frac_largeL = round(100.*sum(i < 0 for i in gp_largeL)/len(gp_largeL),2)\n",
    "    print \"george LL% < 0: \", gp_neg_frac_largeL\n",
    "    \n",
    "    gp_largeL = [s for s in gp_largeL if s > 0]\n",
    "    \n",
    "    label = r\"-2log($\\Lambda$) for mass \"+str(int(m))\n",
    "    makePrettyPlots_LLH(gp_smallL, gp_largeL, label, drawchi2=True, xname = r\"-2log($\\Lambda$)\", label1 =r\"$l = t/3$\", label2 = r\"$l = t$\")\n",
    "    \n",
    "    makePrettyPlots_LLH(gp_smallL, gp_largeL, label, drawchi2=False, xname = r\"-2log($\\Lambda$)\", label1 =r\"$l = t/3$\", label2 = r\"$l = t$\")\n",
    "\n"
   ]
  },
  {
   "cell_type": "code",
   "execution_count": null,
   "metadata": {
    "collapsed": true
   },
   "outputs": [],
   "source": []
  }
 ],
 "metadata": {
  "anaconda-cloud": {},
  "kernelspec": {
   "display_name": "Python [Root]",
   "language": "python",
   "name": "Python [Root]"
  },
  "language_info": {
   "codemirror_mode": {
    "name": "ipython",
    "version": 2
   },
   "file_extension": ".py",
   "mimetype": "text/x-python",
   "name": "python",
   "nbconvert_exporter": "python",
   "pygments_lexer": "ipython2",
   "version": "2.7.12"
  }
 },
 "nbformat": 4,
 "nbformat_minor": 2
}
