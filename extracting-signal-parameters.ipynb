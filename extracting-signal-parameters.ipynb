{
 "cells": [
  {
   "cell_type": "code",
   "execution_count": 2,
   "metadata": {
    "collapsed": false,
    "deletable": true,
    "editable": true
   },
   "outputs": [
    {
     "name": "stdout",
     "output_type": "stream",
     "text": [
      "Populating the interactive namespace from numpy and matplotlib\n"
     ]
    }
   ],
   "source": [
    "%pylab inline --no-import-all"
   ]
  },
  {
   "cell_type": "code",
   "execution_count": 3,
   "metadata": {
    "collapsed": false,
    "deletable": true,
    "editable": true
   },
   "outputs": [],
   "source": [
    "import george\n",
    "from george.kernels import MyDijetKernelSimp\n",
    "\n",
    "\n",
    "import math\n",
    "import time\n",
    "import numpy as np\n",
    "import scipy.stats as ss\n",
    "import scipy.special as ssp\n",
    "import scipy.optimize as op\n",
    "from iminuit import Minuit\n",
    "\n",
    "#import ROOT as r\n",
    "#import warnings\n",
    "#from rootpy.plotting import Hist, Hist2D, Legend, Canvas\n",
    "#import rootpy.plotting.root2matplotlib as rplt"
   ]
  },
  {
   "cell_type": "markdown",
   "metadata": {
    "deletable": true,
    "editable": true
   },
   "source": [
    "## Section 1: including and visualizing 13 TeV dataset"
   ]
  },
  {
   "cell_type": "code",
   "execution_count": 4,
   "metadata": {
    "collapsed": false
   },
   "outputs": [],
   "source": [
    "#Full bin centers (xvalO), counts (yvalO), bin width (xerrO), and bin low edges (xlowO) from ATLAS\n",
    "xvalO = np.load(\"savedOutputs/xvalO.npy\")\n",
    "yvalO = np.load(\"savedOutputs/yvalO.npy\")\n",
    "xerrO = np.load(\"savedOutputs/xerrO.npy\")\n",
    "xlowO = np.load(\"savedOutputs/xlowO.npy\")\n",
    "\n",
    "#Same, but with bins with zero counts removed. GP fits better without zero counts\n",
    "xval = np.load(\"savedOutputs/xval.npy\")\n",
    "yval = np.load(\"savedOutputs/yval.npy\")\n",
    "xerr = np.load(\"savedOutputs/xerr.npy\")\n",
    "\n",
    "#10000 toys - created from 5 parameter fit to data with Poisson noise\n",
    "toyList = np.load(\"savedOutputs/toyList.npy\")\n",
    "fixedHyperparams = np.load(\"savedOutputs/fixedHyperparams.npy\")\n",
    "\n",
    "\n",
    "sigToys = np.load(\"savedOutputs/signalToys.npy\")\n",
    "sigToysO = np.load(\"savedOutputs/signalToysO.npy\")\n",
    "standardParamSets = [(2000,2000,250), (700, 2500, 250), (250, 3000, 250), (125, 3500, 250), (70, 4000, 250), \n",
    "             (40, 4500, 250), (25, 5000, 250), (15,5500, 250), (10, 6000,250)]"
   ]
  },
  {
   "cell_type": "markdown",
   "metadata": {
    "deletable": true,
    "editable": true
   },
   "source": [
    "### Gaussian Signal"
   ]
  },
  {
   "cell_type": "code",
   "execution_count": 5,
   "metadata": {
    "collapsed": false,
    "deletable": true,
    "editable": true
   },
   "outputs": [],
   "source": [
    "def sig_model(x, N=1e5, mass=2000., width=100., xErr=xerr):\n",
    "    return N*(np.exp(-(x-mass)**2/2/width/width)/np.sqrt(2*np.pi)/width)*xErr"
   ]
  },
  {
   "cell_type": "markdown",
   "metadata": {
    "deletable": true,
    "editable": true
   },
   "source": [
    "### 4 parameters fit function"
   ]
  },
  {
   "cell_type": "code",
   "execution_count": 6,
   "metadata": {
    "collapsed": false,
    "deletable": true,
    "editable": true
   },
   "outputs": [],
   "source": [
    "def model_3param(t, params, xErr=xerr): \n",
    "    p0, p1, p2 = params\n",
    "    sqrts = 13000.\n",
    "    return (p0 * ((1.-t/sqrts)**p1) * (t/sqrts)**(p2))*(xErr)  #1./(t/sqrts)\n",
    "def model_5param(t, params, xErr=xerr): \n",
    "    p0, p1, p2, p3, p4 = params\n",
    "    sqrts = 13000.\n",
    "    return (p0 * ((1.-t/sqrts)**p1) * (t/sqrts)**(p2+p3*np.log(t/sqrts)+p4*np.log(t/sqrts)**2))*(xErr)"
   ]
  },
  {
   "cell_type": "markdown",
   "metadata": {
    "deletable": true,
    "editable": true
   },
   "source": [
    "## Set up minimization. Look at GP and fit function background only fits to data, and GP and fit function signal+background fits to data+signal"
   ]
  },
  {
   "cell_type": "markdown",
   "metadata": {
    "deletable": true,
    "editable": true
   },
   "source": [
    "### Calculate bin by bin significance\n",
    "### calculate bin p value, convert to significance (z). If z is negative, set to 0. If bkg < data, make z negative"
   ]
  },
  {
   "cell_type": "code",
   "execution_count": 7,
   "metadata": {
    "collapsed": true,
    "deletable": true,
    "editable": true
   },
   "outputs": [],
   "source": [
    "def calcSignificance(Data, Bkg):\n",
    "    pvals = []\n",
    "    zvals = []\n",
    "    chi2 = 0\n",
    "    for i, nD in enumerate(Data):\n",
    "        nB = Bkg[i]\n",
    "        if nD != 0:\n",
    "            if nB > nD:\n",
    "                #pval = 1.-r.TMath.Gamma(nD+1.,nB)\n",
    "                pval = 1.-ssp.gammainc(nD+1.,nB)\n",
    "            else:\n",
    "                #pval = pval = r.TMath.Gamma(nD,nB)\n",
    "                pval = ssp.gammainc(nD,nB)\n",
    "            prob = 1-2*pval\n",
    "            if prob > -1 and prob < 1:\n",
    "                #zval = math.sqrt(2.)*r.TMath.ErfInverse(prob)\n",
    "                zval = math.sqrt(2.)*ssp.erfinv(prob)\n",
    "            else:\n",
    "                zval = np.inf\n",
    "                #print \"crap\"\n",
    "            if zval > 100: zval = 20\n",
    "            if zval < 0: zval = 0\n",
    "            if (nD < nB): zval = -zval\n",
    "        else: zval = 0\n",
    "            \n",
    "        zvals.append(zval)\n",
    "        chi2 += ((nD - nB) ** 2 / abs(nB)) #/len(nB)\n",
    "    return zvals, chi2\n",
    "\n",
    "'''\n",
    "if D != 0:\n",
    "pval = PoissonPval(D,B)\n",
    "frac = probtosigma(pval)\n",
    "if frac > 100: frac = 20\n",
    "if frac < 0: frac = 0\n",
    "if (D<B): frac = -frac\n",
    "else: 0\n",
    "\n",
    "poissonPval:\n",
    "if d>= b: Gamma(d,b)\n",
    "else: 1-Gamma(d+1, b)\n",
    "\n",
    "probtosigma: \n",
    "if 1-2*pval > -1 and < 1: z = sqrt(2)* ErfInverse(1-2*pval)\n",
    "'''\n",
    "\n",
    "def simpleLogPoisson(x, par):\n",
    "    if x < 0: \n",
    "        #print \"crap\"\n",
    "        return np.inf\n",
    "    elif (x == 0): return -1.*par\n",
    "    else:\n",
    "        #lnpoisson = x*np.log(par)-par-r.TMath.LnGamma(x+1.)\n",
    "        lnpoisson = x*np.log(par)-par-ssp.gammaln(x+1.)\n",
    "        return lnpoisson\n",
    "    \n",
    "def makeToys(dataset, nPseudo=1000, lumi = 3.6):\n",
    "    toys = []\n",
    "    for n in range(nPseudo):\n",
    "        pseudo = np.random.poisson(dataset*lumi/3.6)\n",
    "        toys.append(pseudo)\n",
    "    return toys\n",
    "\n",
    "def removeZeros(data):\n",
    "    indices = [i for i, x in enumerate(data) if x == 0]\n",
    "    newylist=[]\n",
    "    newxlist=[]\n",
    "    newxerrlist=[]\n",
    "    for k in range(len(data)):\n",
    "        if k not in indices:\n",
    "            newylist.append(data[k])\n",
    "            newxlist.append(xvalO[k])\n",
    "            newxerrlist.append(xerrO[k])\n",
    "    return np.array(newylist), np.array(newxlist), np.array(newxerrlist)"
   ]
  },
  {
   "cell_type": "markdown",
   "metadata": {
    "deletable": true,
    "editable": true
   },
   "source": [
    "### Calculate NLL for fit function using poisson statistics - with or without signal. lnprob functions calls logLike function to calculate NLL."
   ]
  },
  {
   "cell_type": "markdown",
   "metadata": {
    "deletable": true,
    "editable": true
   },
   "source": [
    "### Minimize NLL of fit function.  fit functions call Minuit to minimize lnLike functions. Kick initial parameters, constrain parameters.  Minimize NLL of fit function with signal - add in signal strength parameter"
   ]
  },
  {
   "cell_type": "code",
   "execution_count": 8,
   "metadata": {
    "collapsed": true,
    "deletable": true,
    "editable": true
   },
   "outputs": [],
   "source": [
    "class logLike_3ff_fitsig:\n",
    "    def __init__(self, x, y, xe):\n",
    "        self.x = x\n",
    "        self.y = y\n",
    "        self.xe = xe\n",
    "    def __call__(self, p0, p1, p2, Num, mu, sigma):\n",
    "        params = p0, p1, p2\n",
    "        bkgFunc = model_3param(self.x, params, self.xe)  \n",
    "        signal = sig_model(self.x, Num, mu, sigma, self.xe)\n",
    "        logL = 0\n",
    "        for ibin in range(len(self.y)):\n",
    "            data = self.y[ibin]\n",
    "            bkg = bkgFunc[ibin] \n",
    "            sig = signal[ibin]\n",
    "            logL += -simpleLogPoisson(data, bkg+sig)\n",
    "        try:\n",
    "            logL\n",
    "            return logL\n",
    "        except:\n",
    "            return np.inf\n",
    "\n",
    "def fit_3ff_fitsig(lnprob, Print = True):\n",
    "  #  np.random.seed(1234)\n",
    "    bestval = np.inf\n",
    "    bestargs = (0., 0., 0., 0., 0., 0.)\n",
    "    passedFit = False\n",
    "    numRetries = 0\n",
    "   # while not passedFit and numRetries < 5:\n",
    "    for i in range(100):\n",
    "        init0 = np.random.random() * 1.\n",
    "        init1 = np.random.random() * 8.\n",
    "        init2 = np.random.random() * 6.\n",
    "        init3 = np.random.random() * 5000.\n",
    "        init4 = np.random.random() * 4000.\n",
    "        init5 = np.random.random() * 200.\n",
    "        m = Minuit(lnprob, throw_nan = False, pedantic = False, print_level = 0, errordef = 0.5,\n",
    "                  p0 = init0, p1 = init1, p2 = init2, Num = init3, mu = init4, sigma = init5,\n",
    "                  error_p0 = 1e-2, error_p1 = 1e-2, error_p2 = 1e-2, \n",
    "                  error_Num = 1., error_mu = 1., error_sigma = 1.,\n",
    "                  limit_p0 = (0, 100.), limit_p1 = (-100., 100.), limit_p2 = (-100., 100.), \n",
    "                  limit_Num = (1, 50000), limit_mu = (1500, 7000), limit_sigma = (100, 500))\n",
    "        fit = m.migrad()\n",
    "        \n",
    "        '''\n",
    "        if fit[0]['is_valid']: \n",
    "            passedFit=True\n",
    "     \n",
    "            \n",
    "        if numRetries == 4: \n",
    "            print \"retry number = \", 5, \": failed fits\"\n",
    "            bestval=np.inf\n",
    "            bestargs=(0, 0, 0, 0, 0, 0, 0, 0)\n",
    "        numRetries+=1 \n",
    "\n",
    "\n",
    "        '''\n",
    "        if m.fval < bestval:\n",
    "            bestval = m.fval\n",
    "            bestargs = m.args\n",
    "\n",
    "    if Print:\n",
    "        print \"min LL\",bestval\n",
    "        print \"best fit vals\", bestargs\n",
    "    return bestval, bestargs"
   ]
  },
  {
   "cell_type": "markdown",
   "metadata": {
    "deletable": true,
    "editable": true
   },
   "source": [
    "### Minimize NLL of GP using george lnlikelihood function - logLike functions calls gp.lnlikelihood to calculate NLL. "
   ]
  },
  {
   "cell_type": "markdown",
   "metadata": {
    "deletable": true,
    "editable": true
   },
   "source": [
    "### Minimize NLL of GP. call Minuit to minimize logLike functions. Kick initial parameters, constrain parameters. Minimize NLL of GP with signal - add in signal strength parameter"
   ]
  },
  {
   "cell_type": "code",
   "execution_count": 9,
   "metadata": {
    "collapsed": true,
    "deletable": true,
    "editable": true
   },
   "outputs": [],
   "source": [
    "def model_gp(params, t, xerr=xerr): \n",
    "    #global xerr\n",
    "    p0, p1, p2 = params\n",
    "    sqrts = 13000.\n",
    "    return (p0 * (1.-t/sqrts)**p1 * (t/sqrts)**(p2))*xerr\n",
    "\n",
    "class logLike_gp_sig_fixedH:\n",
    "    def __init__(self, x, y, xerr):\n",
    "        self.x = x\n",
    "        self.y = y\n",
    "        self.xerr = xerr\n",
    "    def __call__(self, Num, mu, sigma):\n",
    "        Amp, decay, length, power, sub, p0, p1, p2 = fixedHyperparams\n",
    "        kernel = Amp * MyDijetKernelSimp(a = decay, b = length, c = power, d = sub)\n",
    "        gp = george.GP(kernel)\n",
    "        try:\n",
    "            gp.compute(self.x, np.sqrt(self.y))\n",
    "            signal = sig_model(self.x, Num, mu, sigma, self.xerr)\n",
    "            return -gp.lnlikelihood(self.y - model_gp((p0,p1,p2), self.x, self.xerr)-signal)\n",
    "        except:\n",
    "            return np.inf        \n",
    "        \n",
    "def fit_gp_sig_fixedH_minuit(lnprob, Print = True):\n",
    "    #np.random.seed(1234)\n",
    "    bestval = np.inf\n",
    "    bestargs = (0, 0, 0)\n",
    "    passedFit = False\n",
    "    numRetries = 0\n",
    "    #while not passedFit and numRetries < 5:\n",
    "    for i in range(100):\n",
    "        init0 = np.random.random() * 5000.\n",
    "        init1 = np.random.random() * 4000.\n",
    "        init2 = np.random.random() * 200.\n",
    "        m = Minuit(lnprob, throw_nan = False, pedantic = False, print_level = 0, errordef = 0.5,\n",
    "                  Num = init0, mu = init1, sigma = init2, \n",
    "                  error_Num = 1., error_mu = 1., error_sigma = 1.,\n",
    "                  limit_Num = (1, 50000), limit_mu = (1500, 7000), limit_sigma = (100, 500)) \n",
    "        fit = m.migrad()\n",
    "        '''\n",
    "        if fit[0]['is_valid']: \n",
    "            passedFit=True\n",
    "        if numRetries == 4: \n",
    "            print \"retry number = \", 5, \": failed fits\"\n",
    "            bestval=np.inf\n",
    "            bestargs=(0, 0, 0, 0, 0, 0, 0, 0)\n",
    "        numRetries+=1\n",
    "        '''\n",
    "        if m.fval < bestval:\n",
    "            bestval = m.fval\n",
    "            bestargs = m.args     \n",
    "            \n",
    "\n",
    "    if Print:\n",
    "        print \"min LL\", bestval\n",
    "        print \"best fit vals\",bestargs\n",
    "    return bestval, bestargs"
   ]
  },
  {
   "cell_type": "code",
   "execution_count": 10,
   "metadata": {
    "collapsed": true,
    "deletable": true,
    "editable": true
   },
   "outputs": [],
   "source": [
    "def basicPlot(xs, ys, bkgs, title, col='g'):\n",
    "    f, (ax1) = plt.subplots(1, sharex=True, figsize=(12,12))\n",
    "    f.suptitle(title, fontsize=30)\n",
    "    dataPlot = ax1.errorbar(xs, ys, marker='o', ls='None', yerr = np.sqrt(ys), c='black', markersize=10, label=\"QCD MC\")\n",
    "    bkgPlot, = ax1.plot(xs, bkgs, color=col, linewidth=3.0, label=\"GP fit\")\n",
    "    ax1.legend()\n",
    "    ax1.set_ylabel('Events', fontsize=20)\n",
    "    ax1.tick_params(axis='y', labelsize=20)\n",
    "    ax1.set_yscale('log', nonposy=\"clip\")\n",
    "    ax1.set_xscale('log')\n",
    "    ax1.set_xlim([1000, 7500])\n",
    "    ax1.set_ylim([0.01, 2e6])"
   ]
  },
  {
   "cell_type": "markdown",
   "metadata": {
    "deletable": true,
    "editable": true
   },
   "source": [
    "## Figures 8 - 11"
   ]
  },
  {
   "cell_type": "markdown",
   "metadata": {
    "deletable": true,
    "editable": true
   },
   "source": [
    "### VARY WIDTH"
   ]
  },
  {
   "cell_type": "code",
   "execution_count": 12,
   "metadata": {
    "collapsed": false,
    "deletable": true,
    "editable": true
   },
   "outputs": [
    {
     "name": "stdout",
     "output_type": "stream",
     "text": [
      "5000 3000 500\n",
      "0\n",
      "10\n",
      "20\n",
      "30\n",
      "40\n",
      "50\n",
      "60\n",
      "70\n",
      "80\n",
      "90\n",
      "5000 3000 400\n",
      "0\n",
      "10\n",
      "20\n",
      "30\n",
      "40\n",
      "50\n",
      "60\n",
      "70\n",
      "80\n",
      "90\n",
      "5000 3000 300\n",
      "0\n",
      "10\n",
      "20\n",
      "30\n",
      "40\n",
      "50\n",
      "60\n",
      "70\n",
      "80\n",
      "90\n",
      "5000 3000 250\n",
      "0\n",
      "10\n",
      "20\n",
      "30\n",
      "40\n",
      "50\n",
      "60\n",
      "70\n",
      "80\n",
      "90\n",
      "5000 3000 200\n",
      "0\n",
      "10\n",
      "20\n",
      "30\n",
      "40\n",
      "50\n",
      "60\n",
      "70\n",
      "80\n",
      "90\n",
      "5000 3000 100\n",
      "0\n",
      "10\n",
      "20\n",
      "30\n",
      "40\n",
      "50\n",
      "60\n",
      "70\n"
     ]
    },
    {
     "name": "stderr",
     "output_type": "stream",
     "text": [
      "/Users/MeghanFrate/anaconda2/lib/python2.7/site-packages/ipykernel/__main__.py:42: RuntimeWarning: fcn returns Nan\n",
      "fcn is called with following arguments:\n",
      "       p0 = nan\n",
      "       p1 = nan\n",
      "       p2 = nan\n",
      "      Num = nan\n",
      "       mu = nan\n",
      "    sigma = nan\n",
      "\n"
     ]
    },
    {
     "name": "stdout",
     "output_type": "stream",
     "text": [
      "80\n",
      "90\n",
      "{3000: [[5213.8720290695173, 211.37268099220736], [5345.6444897279116, 279.24944639153597], [5179.8083389463836, 187.5183753846963], [5144.8903389218558, 135.60021035797467], [5108.4190933495183, 104.13761139799375], [5058.6075230070401, 72.682561213432791]]}\n",
      "50 5500 500\n",
      "0\n",
      "10\n",
      "20\n",
      "30\n",
      "40\n",
      "50\n",
      "60\n",
      "70\n",
      "80\n",
      "90\n",
      "50 5500 400\n",
      "0\n",
      "10\n",
      "20\n",
      "30\n",
      "40\n",
      "50\n",
      "60\n",
      "70\n",
      "80\n",
      "90\n",
      "50 5500 300\n",
      "0\n",
      "10\n",
      "20\n",
      "30\n",
      "40\n",
      "50\n",
      "60\n",
      "70\n",
      "80\n",
      "90\n",
      "50 5500 250\n",
      "0\n",
      "10\n",
      "20\n",
      "30\n",
      "40\n",
      "50\n",
      "60\n",
      "70\n",
      "80\n",
      "90\n",
      "50 5500 200\n",
      "0\n",
      "10\n",
      "20\n",
      "30\n",
      "40\n",
      "50\n",
      "60\n",
      "70\n",
      "80\n",
      "90\n",
      "50 5500 100\n",
      "0\n",
      "10\n",
      "20\n",
      "30\n",
      "40\n",
      "50\n",
      "60\n",
      "70\n",
      "80\n",
      "90\n",
      "{3000: [[5213.8720290695173, 211.37268099220736], [5345.6444897279116, 279.24944639153597], [5179.8083389463836, 187.5183753846963], [5144.8903389218558, 135.60021035797467], [5108.4190933495183, 104.13761139799375], [5058.6075230070401, 72.682561213432791]], 5500: [[53.586048122590221, 10.197634752734722], [52.221698790991859, 9.4041337584430007], [50.726154223362585, 9.7334458673346571], [51.89845694761997, 9.240591348810554], [53.328208567744234, 8.1749461465590425], [52.555874485638768, 7.1194822797920159]]}\n",
      "I'm done\n"
     ]
    }
   ],
   "source": [
    "\n",
    "massDict_2 = {#2000: 50000,\n",
    "            #2500: 10000,\n",
    "            3000: 5000,\n",
    "            #3500: 1000,\n",
    "            #4000: 500, \n",
    "            #4500: 200, \n",
    "            #5000: 100,\n",
    "            5500: 50}\n",
    "            #6000: 25}\n",
    "\n",
    "listSTD_paramN_dict_2={}\n",
    "listGP_paramN_dict_2={}\n",
    "listSTD_paramM_dict_2={}\n",
    "listGP_paramM_dict_2={}\n",
    "listSTD_paramW_dict_2={}\n",
    "listGP_paramW_dict_2={}\n",
    "for m in massDict_2.keys():\n",
    "    listSTD_param_n=[]\n",
    "    listGP_param_n=[]\n",
    "    listSTD_param_m=[]\n",
    "    listGP_param_m=[]\n",
    "    listSTD_param_w=[]\n",
    "    listGP_param_w=[]\n",
    "    wparamSets = [500, 400, 300, 250, 200, 100]\n",
    "    for pSet in wparamSets:\n",
    "        n = massDict_2[m]  \n",
    "        w = pSet\n",
    "        print n, m, w\n",
    "        listSTD_paramToy_n=[]\n",
    "        listGP_paramToy_n=[]\n",
    "        listSTD_paramToy_m=[]\n",
    "        listGP_paramToy_m=[]\n",
    "        listSTD_paramToy_w=[]\n",
    "        listGP_paramToy_w=[]\n",
    "        for itoy, toy in enumerate(toyList[:100]): \n",
    "            if itoy%10 ==0: print itoy\n",
    "            ytoy, xtoy, xtoyerr = removeZeros(toy)\n",
    "     \n",
    "            signalTemplate = sig_model(xtoy, n, m, w, xtoyerr)\n",
    "            signalTemplate = np.random.poisson(np.around(signalTemplate))\n",
    "            ydata = ytoy + signalTemplate\n",
    "            \n",
    "            signalTemplateO = sig_model(xvalO, n, m, w, xerrO)\n",
    "            signalTemplateO = np.random.poisson(np.around(signalTemplateO))\n",
    "            ydataO = toy + signalTemplateO\n",
    "        \n",
    "            #################################\n",
    "            lnProb = logLike_3ff_fitsig(xvalO,ydataO,xerrO)\n",
    "            bestval, best_fit_new = fit_3ff_fitsig(lnProb, False)\n",
    "            if np.isinf(bestval): continue\n",
    "            a1, a2, a3, Nff, Mff, Wff = best_fit_new\n",
    "\n",
    "            listSTD_paramToy_n.append(Nff)\n",
    "            listSTD_paramToy_m.append(Mff)\n",
    "            listSTD_paramToy_w.append(Wff)\n",
    "            #########################################\n",
    "\n",
    "            lnProb = logLike_gp_sig_fixedH(xtoy, ydata, xtoyerr)\n",
    "            bestval, best_fit = fit_gp_sig_fixedH_minuit(lnProb, False)\n",
    "            if np.isinf(bestval): continue\n",
    "                \n",
    "            N, M, W = best_fit\n",
    "            listGP_paramToy_n.append(N)\n",
    "            listGP_paramToy_m.append(M)\n",
    "            listGP_paramToy_w.append(W)\n",
    "\n",
    "\n",
    "        listSTD_param_n.append([np.mean(listSTD_paramToy_n, axis=0), np.std(listSTD_paramToy_n, axis=0)])\n",
    "        listGP_param_n.append([np.mean(listGP_paramToy_n, axis=0), np.std(listGP_paramToy_n, axis=0)])\n",
    "        listSTD_param_m.append([np.mean(listSTD_paramToy_m, axis=0), np.std(listSTD_paramToy_m, axis=0)])\n",
    "        listGP_param_m.append([np.mean(listGP_paramToy_m, axis=0), np.std(listGP_paramToy_m, axis=0)])\n",
    "        listSTD_param_w.append([np.mean(listSTD_paramToy_w, axis=0), np.std(listSTD_paramToy_w, axis=0)])\n",
    "        listGP_param_w.append([np.mean(listGP_paramToy_w, axis=0), np.std(listGP_paramToy_w, axis=0)])\n",
    "\n",
    "    listSTD_paramN_dict_2[m] = listSTD_param_n\n",
    "    listGP_paramN_dict_2[m] = listGP_param_n\n",
    "    listSTD_paramM_dict_2[m] = listSTD_param_m\n",
    "    listGP_paramM_dict_2[m] = listGP_param_m\n",
    "    listSTD_paramW_dict_2[m] = listSTD_param_w\n",
    "    listGP_paramW_dict_2[m] = listGP_param_w\n",
    "    \n",
    "    print listSTD_paramN_dict_2\n",
    "print \"I'm done\"\n"
   ]
  },
  {
   "cell_type": "code",
   "execution_count": 12,
   "metadata": {
    "collapsed": false
   },
   "outputs": [],
   "source": [
    "massDict_2 = {#2000: 50000,\n",
    "            #2500: 10000,\n",
    "            3000: 5000,\n",
    "            #3500: 1000,\n",
    "            #4000: 500, \n",
    "            #4500: 200, \n",
    "            #5000: 100,\n",
    "            5500: 50}\n",
    "            #6000: 25}\n",
    "\n",
    "\n",
    "listSTD_paramN_dict_2={}\n",
    "listGP_paramN_dict_2={}\n",
    "listSTD_paramM_dict_2={}\n",
    "listGP_paramM_dict_2={}\n",
    "listSTD_paramW_dict_2={}\n",
    "listGP_paramW_dict_2={}\n",
    "for m in massDict_2.keys():\n",
    "    '''\n",
    "    np.save(\"savedOutputs/STD_paramN_\"+str(m), listSTD_paramN_dict_2[m])\n",
    "    np.save(\"savedOutputs/STD_paramM_\"+str(m), listSTD_paramM_dict_2[m])\n",
    "    np.save(\"savedOutputs/STD_paramW_\"+str(m), listSTD_paramW_dict_2[m])\n",
    "    np.save(\"savedOutputs/GP_paramN_\"+str(m), listGP_paramN_dict_2[m])\n",
    "    np.save(\"savedOutputs/GP_paramM_\"+str(m), listGP_paramM_dict_2[m])\n",
    "    np.save(\"savedOutputs/GP_paramW_\"+str(m), listGP_paramW_dict_2[m])\n",
    "    '''\n",
    "    listSTD_paramN_dict_2[m] = np.load(\"savedOutputs/STD_paramN_\"+str(m)+\".npy\")\n",
    "    listSTD_paramM_dict_2[m] = np.load(\"savedOutputs/STD_paramM_\"+str(m)+\".npy\")\n",
    "    listSTD_paramW_dict_2[m] = np.load(\"savedOutputs/STD_paramW_\"+str(m)+\".npy\")\n",
    "    listGP_paramN_dict_2[m] = np.load(\"savedOutputs/GP_paramN_\"+str(m)+\".npy\")\n",
    "    listGP_paramM_dict_2[m] = np.load(\"savedOutputs/GP_paramM_\"+str(m)+\".npy\")\n",
    "    listGP_paramW_dict_2[m] = np.load(\"savedOutputs/GP_paramW_\"+str(m)+\".npy\")\n",
    "\n"
   ]
  },
  {
   "cell_type": "code",
   "execution_count": 16,
   "metadata": {
    "collapsed": false,
    "deletable": true,
    "editable": true
   },
   "outputs": [
    {
     "data": {
      "image/png": "[encoded data removed]",
      "text/plain": [
       "<matplotlib.figure.Figure at 0x11cdd1c90>"
      ]
     },
     "metadata": {},
     "output_type": "display_data"
    },
    {
     "data": {
      "image/png": "[encoded data removed]",
      "text/plain": [
       "<matplotlib.figure.Figure at 0x11d03cd10>"
      ]
     },
     "metadata": {},
     "output_type": "display_data"
    }
   ],
   "source": [
    "sortMass2 = sorted(massDict_2.keys())\n",
    "\n",
    "for m in sortMass2:\n",
    "    wparamSets = [500,400,300,250,200,100]\n",
    "    N = massDict_2[m]\n",
    "\n",
    "    plt.figure()\n",
    "    plt.title(\"mass = \" + str(m) + \" N = \"+str(N))\n",
    "    plt.errorbar(wparamSets,[listGP_paramW_dict_2[m][i][0] for i in range(len(wparamSets))],yerr = [listGP_paramW_dict_2[m][i][1] for i in range(len(wparamSets))],color=\"r\", label=\"Gaussian Process\")\n",
    "    plt.errorbar(wparamSets,[listSTD_paramW_dict_2[m][i][0] for i in range(len(wparamSets))],yerr = [listSTD_paramW_dict_2[m][i][1] for i in range(len(wparamSets))],color=\"b\", label=\"3 Parameter Fit Function\")\n",
    "    plt.plot(wparamSets, wparamSets, ls='-', color='black')\n",
    "    plt.xlabel(r'$\\sigma$ true', fontsize=15)\n",
    "    plt.ylabel(r'$\\sigma$ predicted', fontsize=15)\n",
    "    plt.xlim([90, 510])\n",
    "    plt.ylim([90, 510])\n",
    "    plt.legend(loc=2)\n",
    "\n"
   ]
  },
  {
   "cell_type": "markdown",
   "metadata": {
    "deletable": true,
    "editable": true
   },
   "source": [
    "### VARY N"
   ]
  },
  {
   "cell_type": "code",
   "execution_count": null,
   "metadata": {
    "collapsed": false,
    "deletable": true,
    "editable": true
   },
   "outputs": [
    {
     "name": "stdout",
     "output_type": "stream",
     "text": [
      "0\n"
     ]
    }
   ],
   "source": [
    "massDict = {#2000: [50000, 40000, 30000, 20000, 10000, 5000, 1000, 500],\n",
    "            #2500: [10000, 7500, 5000, 2500, 1000, 500, 100],\n",
    "            #3000: [5000, 2500, 2000, 1500, 1000, 500],\n",
    "            #3500: [1000, 750, 500, 250, 100, 50],\n",
    "            #4000: [500, 250, 100, 50, 25], \n",
    "            #4500: [200, 100, 75, 50, 25], \n",
    "            #5000: [100, 75, 50, 25, 10],\n",
    "            5500: [100]}#[200, 150, 100, 50, 25]}\n",
    "            #6000: [25, 20, 25, 10]}\n",
    "\n",
    "listSTD_paramN_dict={}\n",
    "#listGP_paramN_dict={}\n",
    "listSTD_paramM_dict={}\n",
    "#listGP_paramM_dict={}\n",
    "listSTD_paramW_dict={}\n",
    "#listGP_paramW_dict={}\n",
    "for m in massDict.keys():\n",
    "    nparamSets = massDict[m]\n",
    "    listSTD_param_n=[]\n",
    " #   listGP_param_n=[]\n",
    "    listSTD_param_m=[]\n",
    "  #  listGP_param_m=[]\n",
    "    listSTD_param_w=[]\n",
    "  #  listGP_param_w=[]\n",
    "    for pSet in nparamSets:\n",
    "        n = pSet    \n",
    "        w = 250\n",
    "\n",
    "        listSTD_paramToy_n=[]\n",
    "   #     listGP_paramToy_n=[]\n",
    "        listSTD_paramToy_m=[]\n",
    "    #    listGP_paramToy_m=[]\n",
    "        listSTD_paramToy_w=[]\n",
    "     #   listGP_paramToy_w=[]\n",
    "        \n",
    "        for itoy, toy in enumerate(toyList[:100]): \n",
    "            if itoy%10 ==0: print itoy\n",
    "            #ytoy, xtoy, xtoyerr = removeZeros(toy)\n",
    "            #signalTemplate = sig_model(xtoy, n, m, w, xtoyerr)\n",
    "            #signalTemplate = np.random.poisson(np.around(signalTemplate))\n",
    "            #ydata = ytoy + signalTemplate\n",
    "            signalTemplateO = sig_model(xvalO, n, m, w, xerrO)\n",
    "            signalTemplateO = np.random.poisson(np.around(signalTemplateO))\n",
    "            ydataO = toy + signalTemplateO\n",
    "        \n",
    "            #################################\n",
    "            lnProb = logLike_3ff_fitsig(xvalO,ydataO,xerrO)\n",
    "            bestval, best_fit_new = fit_3ff_fitsig(lnProb, False)\n",
    "            a1, a2, a3, Nff, Mff, Wff = best_fit_new\n",
    "\n",
    "            listSTD_paramToy_n.append(Nff)\n",
    "            listSTD_paramToy_m.append(Mff)\n",
    "            listSTD_paramToy_w.append(Wff)\n",
    "            #########################################\n",
    "\n",
    "            '''\n",
    "            #print \"making signal plots\"\n",
    "            #label=\"Fit Function bkg+signal: N=\"+str(n)+\" m=\"+str(m)+\" width=\"+str(w) + \"\\n Fit params: N=\"+str(round(Nff,1))+\" m=\"+str(round(Mff,1))+\" width=\"+str(round(Wff,1))\n",
    "            #makePrettyPlots_signal(xvalO, ydataO, bkg2, bkgsig, label)\n",
    "    \n",
    "            lnProb = logLike_gp_sig_fixedH(xtoy,ydata, xtoyerr)\n",
    "            bestval, best_fit = fit_gp_sig_fixedH_minuit(lnProb, False)\n",
    "    \n",
    "            N, M, W = best_fit\n",
    "\n",
    "            #if M < 2000: continue\n",
    "            #print \"n, m, w\", N, M, W\n",
    "            listGP_paramToy_n.append(N)\n",
    "            listGP_paramToy_m.append(M)\n",
    "            listGP_paramToy_w.append(W)\n",
    "            '''\n",
    "\n",
    "        listSTD_param_n.append([np.mean(listSTD_paramToy_n, axis=0), np.var(listSTD_paramToy_n, axis=0)])\n",
    "        #listGP_param_n.append([np.mean(listGP_paramToy_n, axis=0), np.var(listGP_paramToy_n, axis=0)])\n",
    "        listSTD_param_m.append([np.mean(listSTD_paramToy_m, axis=0), np.var(listSTD_paramToy_m, axis=0)])\n",
    "        #listGP_param_m.append([np.mean(listGP_paramToy_m, axis=0), np.var(listGP_paramToy_m, axis=0)])\n",
    "        listSTD_param_w.append([np.mean(listSTD_paramToy_w, axis=0), np.var(listSTD_paramToy_w, axis=0)])\n",
    "       # listGP_param_w.append([np.mean(listGP_paramToy_w, axis=0), np.var(listGP_paramToy_w, axis=0)])\n",
    "        \n",
    "\n",
    "    listSTD_paramN_dict[m] = listSTD_param_n\n",
    "   # listGP_paramN_dict[m] = listGP_param_n\n",
    "    listSTD_paramM_dict[m] = listSTD_param_m\n",
    "   # listGP_paramM_dict[m] = listGP_param_m\n",
    "    listSTD_paramW_dict[m] = listSTD_param_w\n",
    "   # listGP_paramW_dict[m] = listGP_param_w\n",
    "    \n",
    "    print listSTD_paramN_dict\n",
    "print \"I'm done\"\n"
   ]
  },
  {
   "cell_type": "code",
   "execution_count": 35,
   "metadata": {
    "collapsed": false
   },
   "outputs": [
    {
     "name": "stdout",
     "output_type": "stream",
     "text": [
      "8.1331331684\n",
      "[[28.615334517174812, 66.14785513498633]]\n",
      "[[252.22021165338185, 7002.345696227243]]\n",
      "[[5508.8036422280493, 8560.4907074345447]]\n"
     ]
    }
   ],
   "source": [
    "###STOPPPPP\n",
    "print np.sqrt(listSTD_paramN_dict[5500][0][1])\n",
    "print listSTD_paramN_dict[5500]\n",
    "print listSTD_paramW_dict[5500]\n",
    "print listSTD_paramM_dict[5500]"
   ]
  },
  {
   "cell_type": "code",
   "execution_count": 53,
   "metadata": {
    "collapsed": false
   },
   "outputs": [],
   "source": [
    "massDict_2 = {#2000: 50000,\n",
    "            #2500: 10000,\n",
    "            3000: 5000,\n",
    "            #3500: 1000,\n",
    "            #4000: 500, \n",
    "            #4500: 200, \n",
    "            #5000: 100,\n",
    "            5500: 50}\n",
    "            #6000: 25}\n",
    "\n",
    "\n",
    "listSTD_paramN_dict={}\n",
    "listGP_paramN_dict={}\n",
    "listSTD_paramM_dict={}\n",
    "listGP_paramM_dict={}\n",
    "listSTD_paramW_dict={}\n",
    "listGP_paramW_dict={}\n",
    "for m in massDict_2.keys():\n",
    "    '''\n",
    "    np.save(\"savedOutputs/STD_paramN_varyN_\"+str(m), listSTD_paramN_dict[m])\n",
    "    np.save(\"savedOutputs/STD_paramM_varyN_\"+str(m), listSTD_paramM_dict[m])\n",
    "    np.save(\"savedOutputs/STD_paramW_varyN_\"+str(m), listSTD_paramW_dict[m])\n",
    "    np.save(\"savedOutputs/GP_paramN_varyN_\"+str(m), listGP_paramN_dict[m])\n",
    "    np.save(\"savedOutputs/GP_paramM_varyN_\"+str(m), listGP_paramM_dict[m])\n",
    "    np.save(\"savedOutputs/GP_paramW_varyN_\"+str(m), listGP_paramW_dict[m])\n",
    "    '''\n",
    "\n",
    "\n",
    "\n",
    "    listSTD_paramN_dict[m] = np.load(\"savedOutputs/STD_paramN_varyN_\"+str(m)+\".npy\")\n",
    "    listSTD_paramM_dict[m] = np.load(\"savedOutputs/STD_paramM_varyN_\"+str(m)+\".npy\")\n",
    "    listSTD_paramW_dict[m] = np.load(\"savedOutputs/STD_paramW_varyN_\"+str(m)+\".npy\")\n",
    "    listGP_paramN_dict[m] = np.load(\"savedOutputs/GP_paramN_varyN_\"+str(m)+\".npy\")\n",
    "    listGP_paramM_dict[m] = np.load(\"savedOutputs/GP_paramM_varyN_\"+str(m)+\".npy\")\n",
    "    listGP_paramW_dict[m] = np.load(\"savedOutputs/GP_paramW_varyN_\"+str(m)+\".npy\")\n",
    "\n",
    "\n"
   ]
  },
  {
   "cell_type": "code",
   "execution_count": 58,
   "metadata": {
    "collapsed": false
   },
   "outputs": [
    {
     "name": "stdout",
     "output_type": "stream",
     "text": [
      "[[   5503.11652037     570.85240049]\n",
      " [   5495.50296782     601.87820641]\n",
      " [   5459.30683603  159262.07052894]\n",
      " [   5486.25206812    3045.0393712 ]\n",
      " [   5508.80364223    8560.49070743]]\n"
     ]
    }
   ],
   "source": [
    "#listSTD_paramN_dict[5500]=np.append(listSTD_paramN_dict[5500],[[28.615334517174812, 66.14785513498633]], axis=0)\n",
    "#listSTD_paramW_dict[5500]=np.append(listSTD_paramW_dict[5500],[[252.22021165338185, 7002.345696227243]], axis=0)\n",
    "#listSTD_paramM_dict[5500]=np.append(listSTD_paramM_dict[5500],[[5508.8036422280493, 8560.4907074345447]],axis=0)\n",
    "print listSTD_paramM_dict[5500]"
   ]
  },
  {
   "cell_type": "code",
   "execution_count": 59,
   "metadata": {
    "collapsed": false,
    "deletable": true,
    "editable": true
   },
   "outputs": [
    {
     "name": "stdout",
     "output_type": "stream",
     "text": [
      "GP [[  4934.25971916  10879.21180114]\n",
      " [  2450.05393546   7535.44656517]\n",
      " [  1951.39008855   5934.60658536]\n",
      " [  1447.86621089   6549.31247592]\n",
      " [   954.77885294   4784.34147289]\n",
      " [   459.05798315   4142.60047159]]\n",
      "STD [[  5158.65706498  21664.41937238]\n",
      " [  2643.13044789  15495.7933785 ]\n",
      " [  2143.93376822  17403.52217475]\n",
      " [  1653.58722691  14957.84208728]\n",
      " [  1163.29641189  15926.63360277]\n",
      " [   708.17958889  35751.79286254]]\n",
      "GP [[ 198.40690452  368.62617921]\n",
      " [ 148.76204951  278.28838729]\n",
      " [  99.59453828  200.76345473]\n",
      " [  49.74893561  148.86686515]\n",
      " [  28.49150162  100.12107246]]\n",
      "STD [[  2.04736949e+02   2.32034159e+02]\n",
      " [  1.54889647e+02   1.77933959e+02]\n",
      " [  1.73268463e+02   5.11242401e+05]\n",
      " [  5.30811533e+01   9.90076332e+01]\n",
      " [  2.86153345e+01   6.61478551e+01]]\n"
     ]
    },
    {
     "data": {
      "text/plain": [
       "'\\nbinsm = np.linspace(1500, 6000, 100)\\nbinsw = np.linspace(100, 500, 100)\\nprint \"masses\"    \\nfor m in sortMass:\\n    nparamSets = massDict[m]\\n\\n    plt.figure()\\n    plt.title(\"GP mass = \" + str(m) + \" sigma = 250\")\\n    plt.hist([listGP_paramM_dict[m][i][0]  for i in range(len(nparamSets))], binsm)\\n    plt.xlabel(\\'m predicted\\', fontsize=15)\\n    \\n    plt.figure()\\n    plt.title(\"STD mass = \" + str(m) + \" sigma = 250\")\\n    plt.hist([listSTD_paramM_dict[m][i][0] for i in range(len(nparamSets))], binsm)\\n    plt.xlabel(\\'m predicted\\', fontsize=15)\\n\\nprint \"widths\"\\nfor m in sortMass:\\n    nparamSets = massDict[m]\\n\\n    plt.figure()\\n    plt.title(\"GP mass = \" + str(m) + \" sigma = 250\")\\n    plt.hist([listGP_paramW_dict[m][i][0] for i in range(len(nparamSets))], binsw)\\n    plt.xlabel(\\'w predicted\\', fontsize=15)\\n\\n    \\n    plt.figure()\\n    plt.title(\"STD mass = \" + str(m) + \" sigma = 250\")\\n    plt.hist([listSTD_paramW_dict[m][i][0] for i in range(len(nparamSets))], binsw)\\n    plt.xlabel(\\'w predicted\\', fontsize=15)\\n\\n\\n    \\n'"
      ]
     },
     "execution_count": 59,
     "metadata": {},
     "output_type": "execute_result"
    },
    {
     "data": {
      "image/png": "[encoded data removed]",
      "text/plain": [
       "<matplotlib.figure.Figure at 0x11d05cf10>"
      ]
     },
     "metadata": {},
     "output_type": "display_data"
    },
    {
     "data": {
      "image/png": "[encoded data removed]",
      "text/plain": [
       "<matplotlib.figure.Figure at 0x11a4a29d0>"
      ]
     },
     "metadata": {},
     "output_type": "display_data"
    }
   ],
   "source": [
    "massDict = {#2000: [50000, 40000, 30000, 20000, 10000, 5000, 1000, 500],\n",
    "            #2500: [10000, 7500, 5000, 2500, 1000, 500, 100],\n",
    "            3000: [5000, 2500, 2000, 1500, 1000, 500], #[5000, 2500, 1000, 500, 100, 50],\n",
    "            #3500: [1000, 750, 500, 250, 100, 50],\n",
    "            #4000: [500, 250, 100, 50, 25], \n",
    "            #4500: [200, 100, 75, 50, 25], \n",
    "            #5000: [100, 75, 50, 25, 10],\n",
    "            5500: [200, 150, 100, 50, 25]}#[50, 40, 30, 20]}\n",
    "            #6000: [25, 20, 25, 10]}\n",
    "\n",
    "\n",
    "sortMass = sorted(massDict.keys())\n",
    "\n",
    "for m in sortMass:\n",
    "    nparamSets = massDict[m]\n",
    "    print \"GP\", listGP_paramN_dict[m]\n",
    "    print \"STD\", listSTD_paramN_dict[m]\n",
    "\n",
    "\n",
    "    plt.figure()\n",
    "    plt.title(\"mass = \" + str(m) + \" $\\sigma$ = 250\")\n",
    "    plt.errorbar(nparamSets,[listGP_paramN_dict[m][i][0] for i in range(len(nparamSets))],yerr = np.sqrt([listGP_paramN_dict[m][i][1] for i in range(len(nparamSets))]),color=\"r\", label=\"Gaussian Process\")\n",
    "    plt.errorbar(nparamSets,[listSTD_paramN_dict[m][i][0] for i in range(len(nparamSets))],yerr = np.sqrt([listSTD_paramN_dict[m][i][1] for i in range(len(nparamSets))]),color=\"b\", label=\"3 Parameter Fit Function\")\n",
    "    plt.plot(nparamSets, nparamSets, ls='-', color='black')\n",
    "    plt.xlabel('N true', fontsize=15)\n",
    "    plt.ylabel('N predicted', fontsize=15)\n",
    "    plt.xlim([nparamSets[-1]*.25, nparamSets[0]*1.1])\n",
    "    plt.xscale('log')\n",
    "    plt.yscale('log')\n",
    "    if m == 3000:\n",
    "        plt.xlim([400,6000])\n",
    "        plt.ylim([400,6000])\n",
    "    else:\n",
    "        plt.xlim([20,300])\n",
    "        plt.ylim([20,300])\n",
    "    plt.legend(loc=2)\n",
    "    \n",
    "    '''\n",
    "    plt.figure()\n",
    "    plt.title(\"GP mass = \" + str(m) + \" sigma = 250\")\n",
    "    plt.plot(nparamSets,nparamSets, c='black', ls='-')\n",
    "    plt.errorbar(nparamSets,[listGP_paramN_dict[m][i][0] for i in range(len(nparamSets))],yerr = np.sqrt([listGP_paramN_dict[m][i][1] for i in range(len(nparamSets))]), marker=\"o\", linestyle=\"None\")\n",
    "    plt.xlabel('N true', fontsize=15)\n",
    "    plt.ylabel('N predicted', fontsize=15)\n",
    "    plt.xlim([nparamSets[-1]*.25, nparamSets[0]*1.1])\n",
    "    plt.xscale('log')\n",
    "    plt.yscale('log')\n",
    "    if m == 3000:\n",
    "        plt.xlim([400,6000])\n",
    "        plt.ylim([400,6000])\n",
    "    else:\n",
    "        plt.xlim([20,300])\n",
    "        plt.ylim([20,300])\n",
    "    \n",
    "    plt.figure()\n",
    "    plt.title(\"STD mass = \" + str(m) + \" sigma = 250\")\n",
    "    plt.plot(nparamSets,nparamSets, c='black', ls='-')\n",
    "    plt.errorbar(nparamSets,[listSTD_paramN_dict[m][i][0] for i in range(len(nparamSets))],yerr = np.sqrt([listSTD_paramN_dict[m][i][1] for i in range(len(nparamSets))]), marker=\"o\", linestyle=\"None\")\n",
    "    plt.xlabel('N true', fontsize=15)\n",
    "    plt.ylabel('N predicted', fontsize=15)\n",
    "    plt.xlim([nparamSets[-1]*.25,nparamSets[0]*1.1])\n",
    "    plt.xscale('log')\n",
    "    plt.yscale('log')\n",
    "    if m == 3000:\n",
    "        plt.xlim([400,6000])\n",
    "        plt.ylim([400,6000])\n",
    "    else:\n",
    "        plt.xlim([20,300])\n",
    "        plt.ylim([20,300])\n",
    "    '''\n",
    "\n",
    "\n",
    "'''\n",
    "binsm = np.linspace(1500, 6000, 100)\n",
    "binsw = np.linspace(100, 500, 100)\n",
    "print \"masses\"    \n",
    "for m in sortMass:\n",
    "    nparamSets = massDict[m]\n",
    "\n",
    "    plt.figure()\n",
    "    plt.title(\"GP mass = \" + str(m) + \" sigma = 250\")\n",
    "    plt.hist([listGP_paramM_dict[m][i][0]  for i in range(len(nparamSets))], binsm)\n",
    "    plt.xlabel('m predicted', fontsize=15)\n",
    "    \n",
    "    plt.figure()\n",
    "    plt.title(\"STD mass = \" + str(m) + \" sigma = 250\")\n",
    "    plt.hist([listSTD_paramM_dict[m][i][0] for i in range(len(nparamSets))], binsm)\n",
    "    plt.xlabel('m predicted', fontsize=15)\n",
    "\n",
    "print \"widths\"\n",
    "for m in sortMass:\n",
    "    nparamSets = massDict[m]\n",
    "\n",
    "    plt.figure()\n",
    "    plt.title(\"GP mass = \" + str(m) + \" sigma = 250\")\n",
    "    plt.hist([listGP_paramW_dict[m][i][0] for i in range(len(nparamSets))], binsw)\n",
    "    plt.xlabel('w predicted', fontsize=15)\n",
    "\n",
    "    \n",
    "    plt.figure()\n",
    "    plt.title(\"STD mass = \" + str(m) + \" sigma = 250\")\n",
    "    plt.hist([listSTD_paramW_dict[m][i][0] for i in range(len(nparamSets))], binsw)\n",
    "    plt.xlabel('w predicted', fontsize=15)\n",
    "\n",
    "\n",
    "    \n",
    "'''\n"
   ]
  },
  {
   "cell_type": "markdown",
   "metadata": {
    "collapsed": false,
    "deletable": true,
    "editable": true
   },
   "source": [
    "#plt.plot(nparamSets,nparamSets, c='black', ls='-')\n",
    "plt.errorbar([30000, 25000, 20000, 15000, 10000, 5000, 1000, 500],[listGP_param_n_fixN[i][0] for i in range(len(listGP_param_n_fixN))],yerr = np.sqrt([listGP_param_n_fixN[i][1] for i in range(len(listGP_param_n_fixN))]), marker=\".\", linestyle=\"-\")\n",
    "plt.xlabel('N true', fontsize=15)\n",
    "plt.ylabel('N predicted', fontsize=15)\n",
    "\n",
    "\n",
    "plt.figure()\n",
    "print listGP_param_w_fixW\n",
    "plt.errorbar([500, 400, 300, 200, 100, 50],[listGP_param_w_fixW[i][0] for i in range(len(listGP_param_w_fixW))],yerr = np.sqrt([listGP_param_w_fixW[i][1] for i in range(len(listGP_param_w_fixW))]), marker=\".\", linestyle=\"-\")\n",
    "plt.xlabel('sigma true', fontsize=15)\n",
    "plt.ylabel('sigma predicted', fontsize=15)\n",
    "\n",
    "plt.figure()\n",
    "print listGP_param_w_fixW_2\n",
    "plt.errorbar([500, 400, 300, 200, 100, 50],[listGP_param_w_fixW_2[i][0] for i in range(len(listGP_param_w_fixW_2))],yerr = np.sqrt([listGP_param_w_fixW_2[i][1] for i in range(len(listGP_param_w_fixW_2))]), marker=\".\", linestyle=\"-\")\n",
    "plt.xlabel('sigma true', fontsize=15)\n",
    "plt.ylabel('sigma predicted', fontsize=15)\n",
    "\n",
    "plt.figure()\n",
    "print listGP_param_m_fixN_2\n",
    "plt.errorbar([125, 100, 75, 50, 25, 10],[listGP_param_n_fixN_2[i][0] for i in range(len(listGP_param_n_fixN_2))],yerr = np.sqrt([listGP_param_n_fixN_2[i][1] for i in range(len(listGP_param_n_fixN_2))]), marker=\".\", linestyle=\"-\")\n",
    "plt.xlabel('N true', fontsize=15)\n",
    "plt.ylabel('N predicted', fontsize=15)\n",
    "#plt.ylim(1, 500)\n",
    "\n",
    "\n"
   ]
  },
  {
   "cell_type": "code",
   "execution_count": null,
   "metadata": {
    "collapsed": false,
    "deletable": true,
    "editable": true
   },
   "outputs": [],
   "source": [
    "\n",
    "def model_mean(t):\n",
    "    global xerr\n",
    "    p0, p1, p2 = fixedHyperparams[5:]\n",
    "    sqrts=13000.\n",
    "    return (p0 * (1.-t/sqrts)**p1 * (t/sqrts)**(p2))*xerr\n",
    "\n",
    "  \n",
    "class logLike_mean:\n",
    "    def __init__(self, x, y, xerr):\n",
    "        self.x = x\n",
    "        self.y = y\n",
    "        self.xerr = xerr\n",
    "    def __call__(self, Amp, decay, length, power, sub):\n",
    "        kernel = Amp * MyDijetKernelSimp(a = decay, b = length, c = power, d=sub)\n",
    "        mean = model_mean(self.x)\n",
    "        gp = george.GP(kernel, mean = model_mean)\n",
    "        try:\n",
    "            gp.compute(self.x, np.sqrt(self.y))\n",
    "            return -gp.lnlikelihood(self.y)\n",
    "        except:\n",
    "            return np.inf  \n",
    "        \n",
    "def fit_gp_mean(num, lnprob):\n",
    "    #np.random.seed(1234)\n",
    "    bestval = np.inf\n",
    "    bestargs = (0, 0, 0, 0, 0)\n",
    "    for i in range(num):\n",
    "        init0 = np.random.random() * 1e6+1\n",
    "        init1 = np.random.random() * 400.\n",
    "        init2 = np.random.random() * 10. \n",
    "        init3 = np.random.random() * -100.\n",
    "        init4 = np.random.random() * 650.\n",
    "        m = Minuit(lnprob, throw_nan = False, pedantic = False, print_level = 0,\n",
    "                  Amp = init0, decay = init1, length = init2, power = init3, sub = init4, \n",
    "                  error_Amp = 1e1, error_decay = 1e1, error_length = 1e-1, error_power = 1e-1, \n",
    "                   error_sub = 1e-1,\n",
    "                  limit_Amp = (1, 1e15), limit_decay = (0, 500), limit_length = (0, 200), \n",
    "                   limit_power = (-200, 200), limit_sub = (0, 1000)) \n",
    "        m.migrad()\n",
    "        if m.fval < bestval:\n",
    "            bestval = m.fval\n",
    "            bestargs = m.args\n",
    "    print \"min LL\", bestval\n",
    "    print \"best fit vals\",bestargs\n",
    "    return bestval, bestargs\n",
    "\n",
    "\n",
    "lnProb = logLike_mean(xval,yval, xerr)\n",
    "bestval, best_fit_new = fit_gp_mean(100, lnProb)\n",
    "Amp, decay, length, power, sub = best_fit_new\n",
    "kernel = Amp * MyDijetKernelSimp(a = decay, b = length, c = power, d=sub)\n",
    "def model_mean2(t):\n",
    "    global xerr\n",
    "    p0, p1, p2 = fixedHyperparams[5:]\n",
    "    print len(t), len(xerr)\n",
    "    sqrts=13000.\n",
    "    return (p0 * (1.-t/sqrts)**p1 * (t/sqrts)**(p2))*xerr\n",
    "gp = george.GP(kernel, mean = model_mean2)\n",
    "gp.compute(xval, np.sqrt(yval))\n",
    "meanGP = gp.predict(yval, xval)[0]\n",
    "makePrettyPlots(xval, yval, meanGP,\"\")"
   ]
  },
  {
   "cell_type": "markdown",
   "metadata": {
    "deletable": true,
    "editable": true
   },
   "source": [
    "## DONE"
   ]
  }
 ],
 "metadata": {
  "anaconda-cloud": {},
  "kernelspec": {
   "display_name": "Python [Root]",
   "language": "python",
   "name": "Python [Root]"
  },
  "language_info": {
   "codemirror_mode": {
    "name": "ipython",
    "version": 2
   },
   "file_extension": ".py",
   "mimetype": "text/x-python",
   "name": "python",
   "nbconvert_exporter": "python",
   "pygments_lexer": "ipython2",
   "version": "2.7.12"
  }
 },
 "nbformat": 4,
 "nbformat_minor": 0
}
