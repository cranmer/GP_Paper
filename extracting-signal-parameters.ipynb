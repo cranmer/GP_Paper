{
 "cells": [
  {
   "cell_type": "code",
   "execution_count": 1,
   "metadata": {
    "collapsed": false,
    "deletable": true,
    "editable": true
   },
   "outputs": [
    {
     "name": "stderr",
     "output_type": "stream",
     "text": [
      "/Users/MeghanFrate/anaconda2/lib/python2.7/site-packages/matplotlib/font_manager.py:273: UserWarning: Matplotlib is building the font cache using fc-list. This may take a moment.\n",
      "  warnings.warn('Matplotlib is building the font cache using fc-list. This may take a moment.')\n"
     ]
    },
    {
     "name": "stdout",
     "output_type": "stream",
     "text": [
      "Populating the interactive namespace from numpy and matplotlib\n"
     ]
    }
   ],
   "source": [
    "%pylab inline --no-import-all"
   ]
  },
  {
   "cell_type": "code",
   "execution_count": 2,
   "metadata": {
    "collapsed": false,
    "deletable": true,
    "editable": true
   },
   "outputs": [],
   "source": [
    "import george\n",
    "from george.kernels import MyDijetKernelSimp\n",
    "\n",
    "\n",
    "import math\n",
    "import time\n",
    "import numpy as np\n",
    "import scipy.stats as ss\n",
    "import scipy.special as ssp\n",
    "import scipy.optimize as op\n",
    "from iminuit import Minuit\n",
    "\n",
    "import ROOT as r\n",
    "from rootpy.plotting import Hist, Hist2D, Legend, Canvas\n",
    "import rootpy.plotting.root2matplotlib as rplt"
   ]
  },
  {
   "cell_type": "markdown",
   "metadata": {
    "deletable": true,
    "editable": true
   },
   "source": [
    "## Inputs"
   ]
  },
  {
   "cell_type": "code",
   "execution_count": 3,
   "metadata": {
    "collapsed": false
   },
   "outputs": [],
   "source": [
    "#Full bin centers (xvalO), counts (yvalO), bin width (xerrO), and bin low edges (xlowO) from ATLAS\n",
    "xvalO = np.load(\"newoutputs/xvalO.npy\")\n",
    "yvalO = np.load(\"newoutputs/yvalO.npy\")\n",
    "xerrO = np.load(\"newoutputs/xerrO.npy\")\n",
    "xlowO = np.load(\"newoutputs/xlowO.npy\")\n",
    "\n",
    "#Same, but with bins with zero counts removed. GP fits better without zero counts\n",
    "xval = np.load(\"newoutputs/xval.npy\")\n",
    "yval = np.load(\"newoutputs/yval.npy\")\n",
    "xerr = np.load(\"newoutputs/xerr.npy\")\n",
    "\n",
    "#10000 toys - created from 5 parameter fit to data with Poisson noise\n",
    "toyList = np.load(\"newoutputs/toyList.npy\")\n",
    "fixedHyperparams = np.load(\"newoutputs/fixedHyperparams.npy\")\n",
    "\n",
    "# Gaussian signals\n",
    "sigToys = np.load(\"newoutputs/signalToys.npy\")\n",
    "sigToysO = np.load(\"newoutputs/signalToysO.npy\")\n",
    "standardParamSets = [(2000,2000,250), (700, 2500, 250), (250, 3000, 250), (125, 3500, 250), (70, 4000, 250), \n",
    "             (40, 4500, 250), (25, 5000, 250), (15,5500, 250), (10, 6000,250)]"
   ]
  },
  {
   "cell_type": "markdown",
   "metadata": {
    "deletable": true,
    "editable": true
   },
   "source": [
    "### Gaussian Signal"
   ]
  },
  {
   "cell_type": "code",
   "execution_count": 4,
   "metadata": {
    "collapsed": false,
    "deletable": true,
    "editable": true
   },
   "outputs": [],
   "source": [
    "def sig_model(x, N=1e5, mass=2000., width=100., xErr=xerr):\n",
    "    return N*(np.exp(-(x-mass)**2/2/width/width)/np.sqrt(2*np.pi)/width)*xErr"
   ]
  },
  {
   "cell_type": "markdown",
   "metadata": {
    "deletable": true,
    "editable": true
   },
   "source": [
    "### 3 and 5 parameters fit function"
   ]
  },
  {
   "cell_type": "code",
   "execution_count": 5,
   "metadata": {
    "collapsed": false,
    "deletable": true,
    "editable": true
   },
   "outputs": [],
   "source": [
    "def model_3param(t, params, xErr=xerr): \n",
    "    p0, p1, p2 = params\n",
    "    sqrts = 13000.\n",
    "    return (p0 * ((1.-t/sqrts)**p1) * (t/sqrts)**(p2))*(xErr) \n",
    "def model_5param(t, params, xErr=xerr): \n",
    "    p0, p1, p2, p3, p4 = params\n",
    "    sqrts = 13000.\n",
    "    return (p0 * ((1.-t/sqrts)**p1) * (t/sqrts)**(p2+p3*np.log(t/sqrts)+p4*np.log(t/sqrts)**2))*(xErr)"
   ]
  },
  {
   "cell_type": "markdown",
   "metadata": {
    "deletable": true,
    "editable": true
   },
   "source": [
    "### Calculate z values and chi squared"
   ]
  },
  {
   "cell_type": "code",
   "execution_count": 6,
   "metadata": {
    "collapsed": true,
    "deletable": true,
    "editable": true
   },
   "outputs": [],
   "source": [
    "def calcSignificance(Data, Bkg):\n",
    "    pvals = []\n",
    "    zvals = []\n",
    "    chi2 = 0\n",
    "    for i, nD in enumerate(Data):\n",
    "        nB = Bkg[i]\n",
    "        if nD != 0:\n",
    "            if nB > nD:\n",
    "                pval = 1.-ssp.gammainc(nD+1.,nB)\n",
    "            else:\n",
    "                pval = ssp.gammainc(nD,nB)\n",
    "            prob = 1-2*pval\n",
    "            if prob > -1 and prob < 1:\n",
    "                zval = math.sqrt(2.)*ssp.erfinv(prob)\n",
    "            else:\n",
    "                zval = np.inf\n",
    "            if zval > 100: zval = 20\n",
    "            if zval < 0: zval = 0\n",
    "            if (nD < nB): zval = -zval\n",
    "        else: zval = 0\n",
    "            \n",
    "        zvals.append(zval)\n",
    "        chi2 += ((nD - nB) ** 2 / abs(nB)) \n",
    "    return zvals, chi2"
   ]
  },
  {
   "cell_type": "markdown",
   "metadata": {},
   "source": [
    "### Poisson likelihood"
   ]
  },
  {
   "cell_type": "code",
   "execution_count": 7,
   "metadata": {
    "collapsed": true
   },
   "outputs": [],
   "source": [
    "def simpleLogPoisson(x, par):\n",
    "    if x < 0: \n",
    "        return np.inf\n",
    "    elif (x == 0): return -1.*par\n",
    "    else:\n",
    "        lnpoisson = x*np.log(par)-par-ssp.gammaln(x+1.)\n",
    "        return lnpoisson"
   ]
  },
  {
   "cell_type": "markdown",
   "metadata": {},
   "source": [
    "### Poisson log likelihood"
   ]
  },
  {
   "cell_type": "code",
   "execution_count": 8,
   "metadata": {
    "collapsed": true
   },
   "outputs": [],
   "source": [
    "def removeZeros(data):\n",
    "    indices = [i for i, x in enumerate(data) if x == 0]\n",
    "    newylist=[]\n",
    "    newxlist=[]\n",
    "    newxerrlist=[]\n",
    "    for k in range(len(data)):\n",
    "        if k not in indices:\n",
    "            newylist.append(data[k])\n",
    "            newxlist.append(xvalO[k])\n",
    "            newxerrlist.append(xerrO[k])\n",
    "    return np.array(newylist), np.array(newxlist), np.array(newxerrlist)"
   ]
  },
  {
   "cell_type": "markdown",
   "metadata": {
    "deletable": true,
    "editable": true
   },
   "source": [
    "### Minimize poisson likelihood using minuit to fit 3 parameter fit function parameters and Gaussian signal parameters"
   ]
  },
  {
   "cell_type": "code",
   "execution_count": 9,
   "metadata": {
    "collapsed": true,
    "deletable": true,
    "editable": true
   },
   "outputs": [],
   "source": [
    "class logLike_3ff_fitsig:\n",
    "    def __init__(self, x, y, xe):\n",
    "        self.x = x\n",
    "        self.y = y\n",
    "        self.xe = xe\n",
    "    def __call__(self, p0, p1, p2, Num, mu, sigma):\n",
    "        params = p0, p1, p2\n",
    "        bkgFunc = model_3param(self.x, params, self.xe)  \n",
    "        signal = sig_model(self.x, Num, mu, sigma, self.xe)\n",
    "        logL = 0\n",
    "        for ibin in range(len(self.y)):\n",
    "            data = self.y[ibin]\n",
    "            bkg = bkgFunc[ibin] \n",
    "            sig = signal[ibin]\n",
    "            logL += -simpleLogPoisson(data, bkg+sig)\n",
    "        try:\n",
    "            logL\n",
    "            return logL\n",
    "        except:\n",
    "            return np.inf\n",
    "\n",
    "def fit_3ff_fitsig(lnprob, Print = True):\n",
    "    bestval = np.inf\n",
    "    bestargs = (0., 0., 0., 0., 0., 0.)\n",
    "    passedFit = False\n",
    "    numRetries = 0\n",
    "    for i in range(100):\n",
    "        init0 = np.random.random() * 1.\n",
    "        init1 = np.random.random() * 8.\n",
    "        init2 = np.random.random() * 6.\n",
    "        init3 = np.random.random() * 5000.\n",
    "        init4 = np.random.random() * 4000.\n",
    "        init5 = np.random.random() * 200.\n",
    "        m = Minuit(lnprob, throw_nan = False, pedantic = False, print_level = 0, errordef = 0.5,\n",
    "                  p0 = init0, p1 = init1, p2 = init2, Num = init3, mu = init4, sigma = init5,\n",
    "                  error_p0 = 1e-2, error_p1 = 1e-2, error_p2 = 1e-2, \n",
    "                  error_Num = 1., error_mu = 1., error_sigma = 1.,\n",
    "                  limit_p0 = (0, 100.), limit_p1 = (-100., 100.), limit_p2 = (-100., 100.), \n",
    "                  limit_Num = (1, 50000), limit_mu = (1500, 7000), limit_sigma = (100, 500))\n",
    "        fit = m.migrad()\n",
    "        \n",
    "        if m.fval < bestval:\n",
    "            bestval = m.fval\n",
    "            bestargs = m.args\n",
    "\n",
    "    if Print:\n",
    "        print \"min LL\",bestval\n",
    "        print \"best fit vals\", bestargs\n",
    "    return bestval, bestargs"
   ]
  },
  {
   "cell_type": "markdown",
   "metadata": {
    "deletable": true,
    "editable": true
   },
   "source": [
    "### Mean GP function"
   ]
  },
  {
   "cell_type": "code",
   "execution_count": 10,
   "metadata": {
    "collapsed": true,
    "deletable": true,
    "editable": true
   },
   "outputs": [],
   "source": [
    "def model_gp(params, t, xerr=xerr): \n",
    "    p0, p1, p2 = params\n",
    "    sqrts = 13000.\n",
    "    return (p0 * (1.-t/sqrts)**p1 * (t/sqrts)**(p2))*xerr"
   ]
  },
  {
   "cell_type": "markdown",
   "metadata": {},
   "source": [
    "### Minimize george likelihood using minuit to get Gaussian signal parameters. GP hyperparameters are fixed"
   ]
  },
  {
   "cell_type": "code",
   "execution_count": 11,
   "metadata": {
    "collapsed": true
   },
   "outputs": [],
   "source": [
    "class logLike_gp_sig_fixedH:\n",
    "    def __init__(self, x, y, xerr):\n",
    "        self.x = x\n",
    "        self.y = y\n",
    "        self.xerr = xerr\n",
    "    def __call__(self, Num, mu, sigma):\n",
    "        Amp, decay, length, power, sub, p0, p1, p2 = fixedHyperparams\n",
    "        kernel = Amp * MyDijetKernelSimp(a = decay, b = length, c = power, d = sub)\n",
    "        gp = george.GP(kernel)\n",
    "        try:\n",
    "            gp.compute(self.x, np.sqrt(self.y))\n",
    "            signal = sig_model(self.x, Num, mu, sigma, self.xerr)\n",
    "            return -gp.lnlikelihood(self.y - model_gp((p0,p1,p2), self.x, self.xerr)-signal)\n",
    "        except:\n",
    "            return np.inf        \n",
    "        \n",
    "def fit_gp_sig_fixedH_minuit(lnprob, Print = True):\n",
    "    bestval = np.inf\n",
    "    bestargs = (0, 0, 0)\n",
    "    passedFit = False\n",
    "    numRetries = 0\n",
    "    for i in range(100):\n",
    "        init0 = np.random.random() * 5000.\n",
    "        init1 = np.random.random() * 4000.\n",
    "        init2 = np.random.random() * 200.\n",
    "        m = Minuit(lnprob, throw_nan = False, pedantic = False, print_level = 0, errordef = 0.5,\n",
    "                  Num = init0, mu = init1, sigma = init2, \n",
    "                  error_Num = 1., error_mu = 1., error_sigma = 1.,\n",
    "                  limit_Num = (1, 50000), limit_mu = (1500, 7000), limit_sigma = (100, 500)) \n",
    "        fit = m.migrad()\n",
    "        if m.fval < bestval:\n",
    "            bestval = m.fval\n",
    "            bestargs = m.args     \n",
    "            \n",
    "\n",
    "    if Print:\n",
    "        print \"min LL\", bestval\n",
    "        print \"best fit vals\",bestargs\n",
    "    return bestval, bestargs"
   ]
  },
  {
   "cell_type": "markdown",
   "metadata": {},
   "source": [
    "### basic plot"
   ]
  },
  {
   "cell_type": "code",
   "execution_count": 12,
   "metadata": {
    "collapsed": true,
    "deletable": true,
    "editable": true
   },
   "outputs": [],
   "source": [
    "def basicPlot(xs, ys, bkgs, title, col='g'):\n",
    "    f, (ax1) = plt.subplots(1, sharex=True, figsize=(12,12))\n",
    "    f.suptitle(title, fontsize=30)\n",
    "    dataPlot = ax1.errorbar(xs, ys, marker='o', ls='None', yerr = np.sqrt(ys), c='black', markersize=10, label=\"QCD MC\")\n",
    "    bkgPlot, = ax1.plot(xs, bkgs, color=col, linewidth=3.0, label=\"GP fit\")\n",
    "    ax1.legend()\n",
    "    ax1.set_ylabel('Events', fontsize=20)\n",
    "    ax1.tick_params(axis='y', labelsize=20)\n",
    "    ax1.set_yscale('log', nonposy=\"clip\")\n",
    "    ax1.set_xscale('log')\n",
    "    ax1.set_xlim([1000, 7500])\n",
    "    ax1.set_ylim([0.01, 2e6])"
   ]
  },
  {
   "cell_type": "markdown",
   "metadata": {
    "deletable": true,
    "editable": true
   },
   "source": [
    "### Keep mean and amplitude of Gaussian signal fixed, but vary sigma. Fit for all three parameters in a signal+background fit"
   ]
  },
  {
   "cell_type": "code",
   "execution_count": 12,
   "metadata": {
    "collapsed": false,
    "deletable": true,
    "editable": true
   },
   "outputs": [
    {
     "name": "stdout",
     "output_type": "stream",
     "text": [
      "5000 3000 500\n",
      "0\n",
      "10\n",
      "20\n",
      "30\n",
      "40\n",
      "50\n",
      "60\n",
      "70\n",
      "80\n",
      "90\n",
      "5000 3000 400\n",
      "0\n",
      "10\n",
      "20\n",
      "30\n",
      "40\n",
      "50\n",
      "60\n",
      "70\n",
      "80\n",
      "90\n",
      "5000 3000 300\n",
      "0\n",
      "10\n",
      "20\n",
      "30\n",
      "40\n",
      "50\n",
      "60\n",
      "70\n",
      "80\n",
      "90\n",
      "5000 3000 250\n",
      "0\n",
      "10\n",
      "20\n",
      "30\n",
      "40\n",
      "50\n",
      "60\n",
      "70\n",
      "80\n",
      "90\n",
      "5000 3000 200\n",
      "0\n",
      "10\n",
      "20\n",
      "30\n",
      "40\n",
      "50\n",
      "60\n",
      "70\n",
      "80\n",
      "90\n",
      "5000 3000 100\n",
      "0\n",
      "10\n",
      "20\n",
      "30\n",
      "40\n",
      "50\n",
      "60\n",
      "70\n"
     ]
    },
    {
     "name": "stderr",
     "output_type": "stream",
     "text": [
      "/Users/MeghanFrate/anaconda2/lib/python2.7/site-packages/ipykernel/__main__.py:42: RuntimeWarning: fcn returns Nan\n",
      "fcn is called with following arguments:\n",
      "       p0 = nan\n",
      "       p1 = nan\n",
      "       p2 = nan\n",
      "      Num = nan\n",
      "       mu = nan\n",
      "    sigma = nan\n",
      "\n"
     ]
    },
    {
     "name": "stdout",
     "output_type": "stream",
     "text": [
      "80\n",
      "90\n",
      "{3000: [[5213.8720290695173, 211.37268099220736], [5345.6444897279116, 279.24944639153597], [5179.8083389463836, 187.5183753846963], [5144.8903389218558, 135.60021035797467], [5108.4190933495183, 104.13761139799375], [5058.6075230070401, 72.682561213432791]]}\n",
      "50 5500 500\n",
      "0\n",
      "10\n",
      "20\n",
      "30\n",
      "40\n",
      "50\n",
      "60\n",
      "70\n",
      "80\n",
      "90\n",
      "50 5500 400\n",
      "0\n",
      "10\n",
      "20\n",
      "30\n",
      "40\n",
      "50\n",
      "60\n",
      "70\n",
      "80\n",
      "90\n",
      "50 5500 300\n",
      "0\n",
      "10\n",
      "20\n",
      "30\n",
      "40\n",
      "50\n",
      "60\n",
      "70\n",
      "80\n",
      "90\n",
      "50 5500 250\n",
      "0\n",
      "10\n",
      "20\n",
      "30\n",
      "40\n",
      "50\n",
      "60\n",
      "70\n",
      "80\n",
      "90\n",
      "50 5500 200\n",
      "0\n",
      "10\n",
      "20\n",
      "30\n",
      "40\n",
      "50\n",
      "60\n",
      "70\n",
      "80\n",
      "90\n",
      "50 5500 100\n",
      "0\n",
      "10\n",
      "20\n",
      "30\n",
      "40\n",
      "50\n",
      "60\n",
      "70\n",
      "80\n",
      "90\n",
      "{3000: [[5213.8720290695173, 211.37268099220736], [5345.6444897279116, 279.24944639153597], [5179.8083389463836, 187.5183753846963], [5144.8903389218558, 135.60021035797467], [5108.4190933495183, 104.13761139799375], [5058.6075230070401, 72.682561213432791]], 5500: [[53.586048122590221, 10.197634752734722], [52.221698790991859, 9.4041337584430007], [50.726154223362585, 9.7334458673346571], [51.89845694761997, 9.240591348810554], [53.328208567744234, 8.1749461465590425], [52.555874485638768, 7.1194822797920159]]}\n",
      "I'm done\n"
     ]
    }
   ],
   "source": [
    "\n",
    "massDict_2 = {3000: 5000,\n",
    "            5500: 50}\n",
    "\n",
    "listSTD_paramN_dict_2={}\n",
    "listGP_paramN_dict_2={}\n",
    "listSTD_paramM_dict_2={}\n",
    "listGP_paramM_dict_2={}\n",
    "listSTD_paramW_dict_2={}\n",
    "listGP_paramW_dict_2={}\n",
    "for m in massDict_2.keys():\n",
    "    listSTD_param_n=[]\n",
    "    listGP_param_n=[]\n",
    "    listSTD_param_m=[]\n",
    "    listGP_param_m=[]\n",
    "    listSTD_param_w=[]\n",
    "    listGP_param_w=[]\n",
    "    wparamSets = [500, 400, 300, 250, 200, 100]\n",
    "    for pSet in wparamSets:\n",
    "        n = massDict_2[m]  \n",
    "        w = pSet\n",
    "        print n, m, w\n",
    "        listSTD_paramToy_n=[]\n",
    "        listGP_paramToy_n=[]\n",
    "        listSTD_paramToy_m=[]\n",
    "        listGP_paramToy_m=[]\n",
    "        listSTD_paramToy_w=[]\n",
    "        listGP_paramToy_w=[]\n",
    "        for itoy, toy in enumerate(toyList[:100]): \n",
    "            if itoy%10 ==0: print itoy\n",
    "            ytoy, xtoy, xtoyerr = removeZeros(toy)\n",
    "     \n",
    "            signalTemplate = sig_model(xtoy, n, m, w, xtoyerr)\n",
    "            signalTemplate = np.random.poisson(np.around(signalTemplate))\n",
    "            ydata = ytoy + signalTemplate\n",
    "            \n",
    "            signalTemplateO = sig_model(xvalO, n, m, w, xerrO)\n",
    "            signalTemplateO = np.random.poisson(np.around(signalTemplateO))\n",
    "            ydataO = toy + signalTemplateO\n",
    "        \n",
    "            #################################\n",
    "            lnProb = logLike_3ff_fitsig(xvalO,ydataO,xerrO)\n",
    "            bestval, best_fit_new = fit_3ff_fitsig(lnProb, False)\n",
    "            if np.isinf(bestval): continue\n",
    "            a1, a2, a3, Nff, Mff, Wff = best_fit_new\n",
    "\n",
    "            listSTD_paramToy_n.append(Nff)\n",
    "            listSTD_paramToy_m.append(Mff)\n",
    "            listSTD_paramToy_w.append(Wff)\n",
    "            #########################################\n",
    "\n",
    "            lnProb = logLike_gp_sig_fixedH(xtoy, ydata, xtoyerr)\n",
    "            bestval, best_fit = fit_gp_sig_fixedH_minuit(lnProb, False)\n",
    "            if np.isinf(bestval): continue\n",
    "                \n",
    "            N, M, W = best_fit\n",
    "            listGP_paramToy_n.append(N)\n",
    "            listGP_paramToy_m.append(M)\n",
    "            listGP_paramToy_w.append(W)\n",
    "\n",
    "\n",
    "        listSTD_param_n.append([np.mean(listSTD_paramToy_n, axis=0), np.std(listSTD_paramToy_n, axis=0)])\n",
    "        listGP_param_n.append([np.mean(listGP_paramToy_n, axis=0), np.std(listGP_paramToy_n, axis=0)])\n",
    "        listSTD_param_m.append([np.mean(listSTD_paramToy_m, axis=0), np.std(listSTD_paramToy_m, axis=0)])\n",
    "        listGP_param_m.append([np.mean(listGP_paramToy_m, axis=0), np.std(listGP_paramToy_m, axis=0)])\n",
    "        listSTD_param_w.append([np.mean(listSTD_paramToy_w, axis=0), np.std(listSTD_paramToy_w, axis=0)])\n",
    "        listGP_param_w.append([np.mean(listGP_paramToy_w, axis=0), np.std(listGP_paramToy_w, axis=0)])\n",
    "\n",
    "    listSTD_paramN_dict_2[m] = listSTD_param_n\n",
    "    listGP_paramN_dict_2[m] = listGP_param_n\n",
    "    listSTD_paramM_dict_2[m] = listSTD_param_m\n",
    "    listGP_paramM_dict_2[m] = listGP_param_m\n",
    "    listSTD_paramW_dict_2[m] = listSTD_param_w\n",
    "    listGP_paramW_dict_2[m] = listGP_param_w\n",
    "    \n",
    "print \"I'm done\"\n"
   ]
  },
  {
   "cell_type": "markdown",
   "metadata": {},
   "source": [
    "### Save or load (if previously saved) signal parameters"
   ]
  },
  {
   "cell_type": "code",
   "execution_count": 13,
   "metadata": {
    "collapsed": false
   },
   "outputs": [],
   "source": [
    "massDict_2 = {3000: 5000,\n",
    "            5500: 50}\n",
    "\n",
    "listSTD_paramN_dict_2={}\n",
    "listGP_paramN_dict_2={}\n",
    "listSTD_paramM_dict_2={}\n",
    "listGP_paramM_dict_2={}\n",
    "listSTD_paramW_dict_2={}\n",
    "listGP_paramW_dict_2={}\n",
    "for m in massDict_2.keys():\n",
    "    '''\n",
    "    np.save(\"newoutputs/STD_paramN_\"+str(m), listSTD_paramN_dict_2[m])\n",
    "    np.save(\"newoutputs/STD_paramM_\"+str(m), listSTD_paramM_dict_2[m])\n",
    "    np.save(\"newoutputs/STD_paramW_\"+str(m), listSTD_paramW_dict_2[m])\n",
    "    np.save(\"newoutputs/GP_paramN_\"+str(m), listGP_paramN_dict_2[m])\n",
    "    np.save(\"newoutputs/GP_paramM_\"+str(m), listGP_paramM_dict_2[m])\n",
    "    np.save(\"newoutputs/GP_paramW_\"+str(m), listGP_paramW_dict_2[m])\n",
    "    '''\n",
    "    listSTD_paramN_dict_2[m] = np.load(\"newoutputs/STD_paramN_\"+str(m)+\".npy\")\n",
    "    listSTD_paramM_dict_2[m] = np.load(\"newoutputs/STD_paramM_\"+str(m)+\".npy\")\n",
    "    listSTD_paramW_dict_2[m] = np.load(\"newoutputs/STD_paramW_\"+str(m)+\".npy\")\n",
    "    listGP_paramN_dict_2[m] = np.load(\"newoutputs/GP_paramN_\"+str(m)+\".npy\")\n",
    "    listGP_paramM_dict_2[m] = np.load(\"newoutputs/GP_paramM_\"+str(m)+\".npy\")\n",
    "    listGP_paramW_dict_2[m] = np.load(\"newoutputs/GP_paramW_\"+str(m)+\".npy\")\n",
    "\n"
   ]
  },
  {
   "cell_type": "markdown",
   "metadata": {},
   "source": [
    "### Plot mean and standard deviation of sigma of all fits"
   ]
  },
  {
   "cell_type": "code",
   "execution_count": 43,
   "metadata": {
    "collapsed": false,
    "deletable": true,
    "editable": true
   },
   "outputs": [
    {
     "data": {
      "image/png": "[encoded data removed]",
      "text/plain": [
       "<matplotlib.figure.Figure at 0x127763b10>"
      ]
     },
     "metadata": {},
     "output_type": "display_data"
    },
    {
     "data": {
      "image/png": "[encoded data removed]",
      "text/plain": [
       "<matplotlib.figure.Figure at 0x127642f50>"
      ]
     },
     "metadata": {},
     "output_type": "display_data"
    }
   ],
   "source": [
    "sortMass2 = sorted(massDict_2.keys())\n",
    "\n",
    "for m in sortMass2:\n",
    "    wparamSets = [500,400,300,250,200,100]\n",
    "    N = massDict_2[m]\n",
    "\n",
    "    plt.figure()\n",
    "    plt.title(r\"$m_{jj}$ = \" + str(m) + \" GeV, N = \"+str(N), fontsize=25,y=1.07)\n",
    "    plt.errorbar(wparamSets,[listGP_paramW_dict_2[m][i][0] for i in range(len(wparamSets))],yerr = [listGP_paramW_dict_2[m][i][1] for i in range(len(wparamSets))],color=\"r\", lw=2,label=\"Gaussian Process\")\n",
    "    plt.errorbar(wparamSets,[listSTD_paramW_dict_2[m][i][0] for i in range(len(wparamSets))],yerr = [listSTD_paramW_dict_2[m][i][1] for i in range(len(wparamSets))],color=\"b\",lw=2, label=\"3 Parameter Fit Function\")\n",
    "    plt.plot([0]+wparamSets+[600], [0]+wparamSets+[600], ls='-', lw=2, color='black')\n",
    "    plt.xlabel(r'$\\sigma$ true', fontsize=25)\n",
    "    plt.ylabel(r'$\\sigma$ extracted', fontsize=25)\n",
    "    plt.xlim([90, 510])\n",
    "    plt.ylim([90, 510])\n",
    "    plt.legend(loc=2, prop={'size':14})\n",
    "    plt.tick_params(axis='x', labelsize=25)\n",
    "    plt.tick_params(axis='y', labelsize=25)\n",
    "\n"
   ]
  },
  {
   "cell_type": "markdown",
   "metadata": {
    "deletable": true,
    "editable": true
   },
   "source": [
    "### Keep mean and sigma of Gaussian signals fixed, vary amplitude. Fit all three signal parameters in signal+background fit"
   ]
  },
  {
   "cell_type": "code",
   "execution_count": 60,
   "metadata": {
    "collapsed": false,
    "deletable": true,
    "editable": true
   },
   "outputs": [
    {
     "name": "stdout",
     "output_type": "stream",
     "text": [
      "0\n",
      "10\n",
      "20\n",
      "30\n",
      "40\n",
      "50\n",
      "60\n",
      "70\n"
     ]
    },
    {
     "name": "stderr",
     "output_type": "stream",
     "text": [
      "/Users/MeghanFrate/anaconda2/lib/python2.7/site-packages/ipykernel/__main__.py:42: RuntimeWarning: fcn returns Nan\n",
      "fcn is called with following arguments:\n",
      "       p0 = nan\n",
      "       p1 = nan\n",
      "       p2 = nan\n",
      "      Num = nan\n",
      "       mu = nan\n",
      "    sigma = nan\n",
      "\n"
     ]
    },
    {
     "name": "stdout",
     "output_type": "stream",
     "text": [
      "80\n",
      "90\n",
      "{5500: [[103.09632786806729, 105.82988383949801]]}\n",
      "I'm done\n"
     ]
    }
   ],
   "source": [
    "massDict = {3000: [5000, 2500, 2000, 1500, 1000, 500],\n",
    "            5500: [200, 150, 100, 50, 25]}\n",
    "\n",
    "\n",
    "listSTD_paramN_dict={}\n",
    "listGP_paramN_dict={}\n",
    "listSTD_paramM_dict={}\n",
    "listGP_paramM_dict={}\n",
    "listSTD_paramW_dict={}\n",
    "listGP_paramW_dict={}\n",
    "for m in massDict.keys():\n",
    "    nparamSets = massDict[m]\n",
    "    listSTD_param_n=[]\n",
    "    listGP_param_n=[]\n",
    "    listSTD_param_m=[]\n",
    "    listGP_param_m=[]\n",
    "    listSTD_param_w=[]\n",
    "    listGP_param_w=[]\n",
    "    for pSet in nparamSets:\n",
    "        n = pSet    \n",
    "        w = 250\n",
    "\n",
    "        listSTD_paramToy_n=[]\n",
    "        listGP_paramToy_n=[]\n",
    "        listSTD_paramToy_m=[]\n",
    "        listGP_paramToy_m=[]\n",
    "        listSTD_paramToy_w=[]\n",
    "        listGP_paramToy_w=[]\n",
    "        \n",
    "        for itoy, toy in enumerate(toyList[:100]): \n",
    "            if itoy%10 ==0: print itoy\n",
    "            ytoy, xtoy, xtoyerr = removeZeros(toy)\n",
    "            signalTemplate = sig_model(xtoy, n, m, w, xtoyerr)\n",
    "            signalTemplate = np.random.poisson(np.around(signalTemplate))\n",
    "            ydata = ytoy + signalTemplate\n",
    "            signalTemplateO = sig_model(xvalO, n, m, w, xerrO)\n",
    "            signalTemplateO = np.random.poisson(np.around(signalTemplateO))\n",
    "            ydataO = toy + signalTemplateO\n",
    "        \n",
    "            #################################\n",
    "            lnProb = logLike_3ff_fitsig(xvalO,ydataO,xerrO)\n",
    "            bestval, best_fit_new = fit_3ff_fitsig(lnProb, False)\n",
    "            a1, a2, a3, Nff, Mff, Wff = best_fit_new\n",
    "\n",
    "            listSTD_paramToy_n.append(Nff)\n",
    "            listSTD_paramToy_m.append(Mff)\n",
    "            listSTD_paramToy_w.append(Wff)\n",
    "            #########################################\n",
    "\n",
    "            if itoy%50:\n",
    "                label=\"Fit Function bkg+signal: N=\"+str(n)+\" m=\"+str(m)+\" width=\"+str(w) + \"\\n Fit params: N=\"+str(round(Nff,1))+\" m=\"+str(round(Mff,1))+\" width=\"+str(round(Wff,1))\n",
    "                makePrettyPlots_signal(xvalO, ydataO, bkg2, bkgsig, label)\n",
    "    \n",
    "            lnProb = logLike_gp_sig_fixedH(xtoy,ydata, xtoyerr)\n",
    "            bestval, best_fit = fit_gp_sig_fixedH_minuit(lnProb, False)\n",
    "    \n",
    "            N, M, W = best_fit\n",
    "\n",
    "            listGP_paramToy_n.append(N)\n",
    "            listGP_paramToy_m.append(M)\n",
    "            listGP_paramToy_w.append(W)\n",
    "\n",
    "\n",
    "        listSTD_param_n.append([np.mean(listSTD_paramToy_n, axis=0), np.var(listSTD_paramToy_n, axis=0)])\n",
    "        listGP_param_n.append([np.mean(listGP_paramToy_n, axis=0), np.var(listGP_paramToy_n, axis=0)])\n",
    "        listSTD_param_m.append([np.mean(listSTD_paramToy_m, axis=0), np.var(listSTD_paramToy_m, axis=0)])\n",
    "        listGP_param_m.append([np.mean(listGP_paramToy_m, axis=0), np.var(listGP_paramToy_m, axis=0)])\n",
    "        listSTD_param_w.append([np.mean(listSTD_paramToy_w, axis=0), np.var(listSTD_paramToy_w, axis=0)])\n",
    "        listGP_param_w.append([np.mean(listGP_paramToy_w, axis=0), np.var(listGP_paramToy_w, axis=0)])\n",
    "        \n",
    "\n",
    "    listSTD_paramN_dict[m] = listSTD_param_n\n",
    "    listGP_paramN_dict[m] = listGP_param_n\n",
    "    listSTD_paramM_dict[m] = listSTD_param_m\n",
    "    listGP_paramM_dict[m] = listGP_param_m\n",
    "    listSTD_paramW_dict[m] = listSTD_param_w\n",
    "    listGP_paramW_dict[m] = listGP_param_w\n",
    "\n",
    "print \"I'm done\"\n"
   ]
  },
  {
   "cell_type": "markdown",
   "metadata": {},
   "source": [
    "### Save or load (if previously saved) signal parameters"
   ]
  },
  {
   "cell_type": "code",
   "execution_count": 28,
   "metadata": {
    "collapsed": false
   },
   "outputs": [],
   "source": [
    "massDict = {3000: 5000,\n",
    "            5500: 50}\n",
    "\n",
    "\n",
    "listSTD_paramN_dict={}\n",
    "listGP_paramN_dict={}\n",
    "listSTD_paramM_dict={}\n",
    "listGP_paramM_dict={}\n",
    "listSTD_paramW_dict={}\n",
    "listGP_paramW_dict={}\n",
    "\n",
    "for m in massDict.keys():\n",
    "    '''\n",
    "    np.save(\"newoutputs/STD_paramN_varyN_\"+str(m), listSTD_paramN_dict[m])\n",
    "    np.save(\"newoutputs/STD_paramM_varyN_\"+str(m), listSTD_paramM_dict[m])\n",
    "    np.save(\"newoutputs/STD_paramW_varyN_\"+str(m), listSTD_paramW_dict[m])\n",
    "    np.save(\"newoutputs/GP_paramN_varyN_\"+str(m), listGP_paramN_dict[m])\n",
    "    np.save(\"newoutputs/GP_paramM_varyN_\"+str(m), listGP_paramM_dict[m])\n",
    "    np.save(\"newoutputs/GP_paramW_varyN_\"+str(m), listGP_paramW_dict[m])\n",
    "    '''\n",
    "\n",
    "\n",
    "    listSTD_paramN_dict[m] = np.load(\"newoutputs/STD_paramN_varyN_\"+str(m)+\".npy\")\n",
    "    listSTD_paramM_dict[m] = np.load(\"newoutputs/STD_paramM_varyN_\"+str(m)+\".npy\")\n",
    "    listSTD_paramW_dict[m] = np.load(\"newoutputs/STD_paramW_varyN_\"+str(m)+\".npy\")\n",
    "    listGP_paramN_dict[m] = np.load(\"newoutputs/GP_paramN_varyN_\"+str(m)+\".npy\")\n",
    "    listGP_paramM_dict[m] = np.load(\"newoutputs/GP_paramM_varyN_\"+str(m)+\".npy\")\n",
    "    listGP_paramW_dict[m] = np.load(\"newoutputs/GP_paramW_varyN_\"+str(m)+\".npy\")\n"
   ]
  },
  {
   "cell_type": "markdown",
   "metadata": {},
   "source": [
    "### Plot mean and standard deviation of amplitude of all fits"
   ]
  },
  {
   "cell_type": "code",
   "execution_count": 42,
   "metadata": {
    "collapsed": false,
    "deletable": true,
    "editable": true
   },
   "outputs": [
    {
     "data": {
      "image/png": "[encoded data removed]",
      "text/plain": [
       "<matplotlib.figure.Figure at 0x128041090>"
      ]
     },
     "metadata": {},
     "output_type": "display_data"
    },
    {
     "data": {
      "image/png": "[encoded data removed]",
      "text/plain": [
       "<matplotlib.figure.Figure at 0x1266203d0>"
      ]
     },
     "metadata": {},
     "output_type": "display_data"
    }
   ],
   "source": [
    "massDict = {3000: [5000, 2500, 2000, 1500, 1000, 500], \n",
    "            5500: [200, 150, 100, 50, 25]}\n",
    "\n",
    "\n",
    "sortMass = sorted(massDict.keys())\n",
    "\n",
    "for m in sortMass:\n",
    "    nparamSets = massDict[m]\n",
    "\n",
    "    f, ax1 = plt.subplots()\n",
    "    ax1.set_title(r\"$m_{jj}$ = \" + str(m) + \" GeV, $\\sigma$ = 250 GeV\", fontsize=25, y=1.07)\n",
    "    ax1.errorbar(nparamSets,[listGP_paramN_dict[m][i][0] for i in range(len(nparamSets))],yerr = np.sqrt([listGP_paramN_dict[m][i][1] for i in range(len(nparamSets))]),color=\"r\", lw=2, label=\"Gaussian Process model\")\n",
    "    ax1.errorbar(nparamSets,[listSTD_paramN_dict[m][i][0] for i in range(len(nparamSets))],yerr = np.sqrt([listSTD_paramN_dict[m][i][1] for i in range(len(nparamSets))]),color=\"b\", lw=2, label=\"ad-hoc fit\")\n",
    "    ax1.plot([0]+nparamSets+[1e4], [0]+nparamSets+[1e4], ls='-', lw=2, color='black')\n",
    "    ax1.set_xlabel('N true', fontsize=25)\n",
    "    ax1.set_ylabel('N extracted', fontsize=25)\n",
    "    ax1.tick_params(axis='x', labelsize=25)\n",
    "    ax1.tick_params(axis='y', labelsize=25)\n",
    "    ax1.set_xlim([nparamSets[-1]*.25, nparamSets[0]*1.1])\n",
    "    ax1.set_xscale('log')\n",
    "    ax1.set_yscale('log')\n",
    "    if m == 3000:\n",
    "        ax1.set_xlim([400,6000])\n",
    "        ax1.set_ylim([400,6000])\n",
    "        ax1.set_xticks([500, 1000, 5000])\n",
    "        ax1.get_xaxis().set_major_formatter(matplotlib.ticker.ScalarFormatter())\n",
    "        ax1.set_yticks([500, 1000, 5000])\n",
    "        ax1.get_yaxis().set_major_formatter(matplotlib.ticker.ScalarFormatter())\n",
    "    \n",
    "    else:\n",
    "        ax1.set_xlim([20,300])\n",
    "        ax1.set_ylim([20,300])\n",
    "        ax1.set_xticks([30, 100, 200])\n",
    "        ax1.get_xaxis().set_major_formatter(matplotlib.ticker.ScalarFormatter())\n",
    "        ax1.set_yticks([30, 100, 200])\n",
    "        ax1.get_yaxis().set_major_formatter(matplotlib.ticker.ScalarFormatter())\n",
    "    plt.legend(loc=2, prop={'size':14})\n",
    "    "
   ]
  },
  {
   "cell_type": "code",
   "execution_count": null,
   "metadata": {
    "collapsed": true
   },
   "outputs": [],
   "source": []
  }
 ],
 "metadata": {
  "anaconda-cloud": {},
  "kernelspec": {
   "display_name": "Python [Root]",
   "language": "python",
   "name": "Python [Root]"
  },
  "language_info": {
   "codemirror_mode": {
    "name": "ipython",
    "version": 2
   },
   "file_extension": ".py",
   "mimetype": "text/x-python",
   "name": "python",
   "nbconvert_exporter": "python",
   "pygments_lexer": "ipython2",
   "version": "2.7.12"
  }
 },
 "nbformat": 4,
 "nbformat_minor": 0
}
