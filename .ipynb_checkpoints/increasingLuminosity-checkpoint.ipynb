{
 "cells": [
  {
   "cell_type": "markdown",
   "metadata": {
    "deletable": true,
    "editable": true
   },
   "source": [
    "## This does the comparison between fit function and GP fitting on 3.6fb-1 of data and injecting a Gaussian signal based on a fit to our q* samples"
   ]
  },
  {
   "cell_type": "code",
   "execution_count": 1,
   "metadata": {
    "collapsed": false,
    "deletable": true,
    "editable": true
   },
   "outputs": [
    {
     "name": "stdout",
     "output_type": "stream",
     "text": [
      "Populating the interactive namespace from numpy and matplotlib\n"
     ]
    }
   ],
   "source": [
    "%pylab inline --no-import-all"
   ]
  },
  {
   "cell_type": "code",
   "execution_count": 2,
   "metadata": {
    "collapsed": false,
    "deletable": true,
    "editable": true
   },
   "outputs": [],
   "source": [
    "import george\n",
    "from george.kernels import MyDijetKernelSimp\n",
    "\n",
    "\n",
    "import math\n",
    "import time\n",
    "import numpy as np\n",
    "import scipy.stats as ss\n",
    "import scipy.special as ssp\n",
    "from iminuit import Minuit\n",
    "\n",
    "#import ROOT as r\n",
    "#import warnings\n",
    "#from rootpy.plotting import Hist, Hist2D, Legend, Canvas\n",
    "#import rootpy.plotting.root2matplotlib as rplt"
   ]
  },
  {
   "cell_type": "markdown",
   "metadata": {
    "deletable": true,
    "editable": true
   },
   "source": [
    "## Section 1: including and visualizing 13 TeV dataset"
   ]
  },
  {
   "cell_type": "code",
   "execution_count": null,
   "metadata": {
    "collapsed": true,
    "deletable": true,
    "editable": true
   },
   "outputs": [],
   "source": [
    "xvalO = np.load(\"xvalO.npy\")\n",
    "yvalO = np.load(\"yvalO.npy\")\n",
    "xerrO = np.load(\"xerrO.npy\")\n",
    "xlowO = np.load(\"xlowO.npy\")\n",
    "xval = np.load(\"xval.npy\")\n",
    "yval = np.load(\"yval.npy\")\n",
    "xerr = np.load(\"xerr.npy\")\n",
    "\n",
    "toyList = np.load(\"toyList.npy\")\n",
    "lumiToDict = np.load(\"lumiToyList.npy\")\n",
    "meanGPnom = np.load(\"initialGPfit.npy\")\n",
    "fixedHyperparams = np.load(\"fixedHyperparams.npy\")"
   ]
  },
  {
   "cell_type": "markdown",
   "metadata": {
    "deletable": true,
    "editable": true
   },
   "source": [
    "### 4 parameters fit function"
   ]
  },
  {
   "cell_type": "code",
   "execution_count": 7,
   "metadata": {
    "collapsed": true,
    "deletable": true,
    "editable": true
   },
   "outputs": [],
   "source": [
    "def model_3param(t, params, xErr=xerr): \n",
    "    p0, p1, p2 = params\n",
    "    sqrts = 13000.\n",
    "    return (p0 * ((1.-t/sqrts)**p1) * (t/sqrts)**(p2))*(xErr)  #1./(t/sqrts)\n"
   ]
  },
  {
   "cell_type": "markdown",
   "metadata": {
    "deletable": true,
    "editable": true
   },
   "source": [
    "## Set up minimization. Look at GP and fit function background only fits to data, and GP and fit function signal+background fits to data+signal"
   ]
  },
  {
   "cell_type": "markdown",
   "metadata": {
    "deletable": true,
    "editable": true
   },
   "source": [
    "### Calculate bin by bin significance\n",
    "### calculate bin p value, convert to significance (z). If z is negative, set to 0. If bkg < data, make z negative"
   ]
  },
  {
   "cell_type": "code",
   "execution_count": 36,
   "metadata": {
    "collapsed": true,
    "deletable": true,
    "editable": true
   },
   "outputs": [],
   "source": [
    "def calcSignificance(Data, Bkg):\n",
    "    pvals = []\n",
    "    zvals = []\n",
    "    chi2 = 0\n",
    "    for i, nD in enumerate(Data):\n",
    "        nB = Bkg[i]\n",
    "        if nD != 0:\n",
    "            if nB > nD:\n",
    "                #pval = 1.-r.TMath.Gamma(nD+1.,nB)\n",
    "                pval = 1.-ssp.gammainc(nD+1.,nB)\n",
    "            else:\n",
    "                #pval = pval = r.TMath.Gamma(nD,nB)\n",
    "                pval = ssp.gammainc(nD,nB)\n",
    "            prob = 1-2*pval\n",
    "            if prob > -1 and prob < 1:\n",
    "                #zval = math.sqrt(2.)*r.TMath.ErfInverse(prob)\n",
    "                zval = math.sqrt(2.)*ssp.erfinv(prob)\n",
    "            else:\n",
    "                zval = np.inf\n",
    "                #print \"crap\"\n",
    "            if zval > 100: zval = 20\n",
    "            if zval < 0: zval = 0\n",
    "            if (nD < nB): zval = -zval\n",
    "        else: zval = 0\n",
    "            \n",
    "        zvals.append(zval)\n",
    "        chi2 += ((nD - nB) ** 2 / abs(nB)) \n",
    "    return zvals, chi2\n",
    "\n",
    "\n",
    "\n",
    "def simpleLogPoisson(x, par):\n",
    "    if x < 0: \n",
    "        #print \"crap\"\n",
    "        return np.inf\n",
    "    elif (x == 0): return -1.*par\n",
    "    else:\n",
    "        #lnpoisson = x*np.log(par)-par-r.TMath.LnGamma(x+1.)\n",
    "        lnpoisson = x*np.log(par)-par-ssp.gammaln(x+1.)\n",
    "        return lnpoisson\n",
    "    \n",
    "def makeToys(dataset, nPseudo=1000, lumi = 3.6):\n",
    "    toys = []\n",
    "    for n in range(nPseudo):\n",
    "        pseudo = np.random.poisson(dataset*lumi/3.6)\n",
    "        toys.append(pseudo)\n",
    "    return toys\n",
    "\n",
    "def removeZeros(data):\n",
    "    indices = [i for i, x in enumerate(data) if x == 0]\n",
    "    newylist=[]\n",
    "    newxlist=[]\n",
    "    newxerrlist=[]\n",
    "    for k in range(len(data)):\n",
    "        if k not in indices:\n",
    "            newylist.append(data[k])\n",
    "            newxlist.append(xvalO[k])\n",
    "            newxerrlist.append(xerrO[k])\n",
    "    return np.array(newylist), np.array(newxlist), np.array(newxerrlist)"
   ]
  },
  {
   "cell_type": "code",
   "execution_count": 11,
   "metadata": {
    "collapsed": false,
    "deletable": true,
    "editable": true
   },
   "outputs": [],
   "source": [
    "#background only plots\n",
    "def makePrettyPlots_chi2(GPchi2, BKGchi2, title, drawchi2=False, xname=r'$\\chi^{2}$', label1 = \"Gaussian Process\", label2 = \"Fit Function\"):\n",
    "    f, (ax1, ax2) = plt.subplots(2, figsize=(12,12), gridspec_kw = {'height_ratios':[1, 1]})\n",
    "    f.suptitle(title, fontsize=30)\n",
    "\n",
    "    lowx = min(min(GPchi2), min(BKGchi2))\n",
    "    highx = max(max(GPchi2), max(BKGchi2))\n",
    "    bins = np.linspace(lowx, highx, 200)\n",
    "    \n",
    "    '''\n",
    "    hGP = Hist(200, lowx-1, highx+1,markersize=0)\n",
    "    for chi2 in GPchi2:    \n",
    "        hGP.Fill(chi2)\n",
    "    hBKG = Hist(200, lowx-1, highx+1,markersize=0)\n",
    "    for chi2 in BKGchi2:    \n",
    "        hBKG.Fill(chi2)\n",
    "        \n",
    "    hGP.fillstyle = 'solid'\n",
    "    hGP.fillcolor = 'green'\n",
    "    hGP.linecolor = 'black'\n",
    "    hGP.linewidth = 1\n",
    "    hGP.Draw(\"histX0\")\n",
    "    gphist = rplt.bar(hGP, xerr=None, yerr=None, axes=ax1, label=label1)\n",
    "    ax1.tick_params(axis='y', labelsize=20)\n",
    "    ax1.tick_params(axis='x', labelsize=20)\n",
    "    ax1.set_title(label1, fontsize=20)\n",
    "    \n",
    "    if drawchi2:\n",
    "        xbins=[]\n",
    "        ys =[]\n",
    "        for i in range(hGP.GetNbinsX()):\n",
    "            xbins.append(hGP.GetBinCenter(i))\n",
    "            ys.append(hGP.GetBinContent(i))\n",
    "        #chiPDF=5.*ss.chi2.pdf(xbins , 1)\n",
    "        \n",
    "        bf_params, bf_cov = op.curve_fit(ncchi, xbins, ys)\n",
    "        print \"nc, amp \", bf_params\n",
    "        chiPDF = bf_params[1]*ss.ncx2.pdf(xbins, 1., bf_params[0])\n",
    "\n",
    "        ax1.plot(xbins, chiPDF, c='r', linewidth=3)\n",
    "    \n",
    "    hBKG.fillstyle = 'solid'\n",
    "    hBKG.fillcolor = 'blue'\n",
    "    hBKG.linecolor = 'black'\n",
    "    hBKG.linewidth = 1\n",
    "    hBKG.Draw(\"histX0\")\n",
    "    bkghist = rplt.bar(hBKG, xerr=None, yerr=None, axes=ax2, label=label2)\n",
    "    ax2.tick_params(axis='y', labelsize=20)\n",
    "    ax2.tick_params(axis='x', labelsize=20)\n",
    "    ax2.set_xlabel(xname, fontsize=30)\n",
    "    ax2.set_title(label2, fontsize=20)\n",
    "    \n",
    "    if drawchi2:\n",
    "        xbins=[]\n",
    "        ys=[]\n",
    "        for i in range(hBKG.GetNbinsX()):\n",
    "            xbins.append(hBKG.GetBinCenter(i))\n",
    "            ys.append(hBKG.GetBinContent(i))\n",
    "        #chiPDF=5.*ss.chi2.pdf(xbins , 1)\n",
    "        \n",
    "        bf_params, bf_cov = op.curve_fit(ncchi, xbins, ys)\n",
    "        print \"nc, amp \", bf_params\n",
    "        chiPDF = bf_params[1]*ss.ncx2.pdf(xbins, 1., bf_params[0])\n",
    "        \n",
    "        ax2.plot(xbins, chiPDF, c='r', linewidth=3)\n",
    "    \n",
    "    \n",
    "    '''\n",
    "\n",
    "\n",
    "    hGP, _, _ =ax1.hist(GPchi2, bins=bins, c=\"b\")\n",
    "    ax1.tick_params(axis='y', labelsize=20)\n",
    "    ax1.tick_params(axis='x', labelsize=20)\n",
    "    ax1.set_title(label1, fontsize=20)\n",
    "    \n",
    "    hBKG, _, _ =ax2.hist(BKGchi2, bins=bins, c='g')\n",
    "    ax2.tick_params(axis='y', labelsize=20)\n",
    "    ax2.tick_params(axis='x', labelsize=20)\n",
    "    ax2.set_xlabel(xname, fontsize=30)\n",
    "    ax2.set_title(label2, fontsize=20)\n",
    "    \n",
    "    plt.show()\n",
    "\n"
   ]
  },
  {
   "cell_type": "code",
   "execution_count": null,
   "metadata": {
    "collapsed": true
   },
   "outputs": [],
   "source": [
    "def makePrettyPlots_chi2Lumi(lumis, GPchi2, BKGchi2, GPchi2var, BKGchi2var, title):\n",
    "    f, (ax1, ax2) = plt.subplots(2, figsize=(12,12), gridspec_kw = {'height_ratios':[1, 1]})\n",
    "    f.suptitle(title, fontsize=30)\n",
    "    gpPlot = ax1.errorbar(lumis, GPchi2, marker='o', ls='None', yerr = GPchi2var, c='green',  markersize=10, label=\"Gaussian Process\")\n",
    "    bkgPlot = ax2.errorbar(lumis, BKGchi2, marker='o', ls='None', yerr = BKGchi2var, c='blue',  markersize=10, label=\"3 param fit function\")\n",
    "    ax1.legend()\n",
    "    ax1.set_ylabel(r'average $\\chi^{2}$', fontsize=20)\n",
    "    ax1.tick_params(axis='x', labelsize=20)\n",
    "    ax1.tick_params(axis='y', labelsize=20)\n",
    "    ax1.set_xlim([0, 55])\n",
    "    \n",
    "    ax2.legend()\n",
    "    ax2.tick_params(axis='y', labelsize=20)\n",
    "    ax2.tick_params(axis='x', labelsize=20)\n",
    "    ax2.set_xlabel(r'luminosity $fb^{-1}$', fontsize=20)\n",
    "    ax2.set_ylabel(r'average $\\chi^{2}$', fontsize=20)\n",
    "    ax2.set_xlim([0, 55])\n",
    " \n",
    "    plt.show()"
   ]
  },
  {
   "cell_type": "markdown",
   "metadata": {
    "deletable": true,
    "editable": true
   },
   "source": [
    "### Calculate NLL for fit function using poisson statistics - with or without signal. lnprob functions calls logLike function to calculate NLL."
   ]
  },
  {
   "cell_type": "code",
   "execution_count": 16,
   "metadata": {
    "collapsed": false,
    "deletable": true,
    "editable": true
   },
   "outputs": [],
   "source": [
    "class logLike_3ff:\n",
    "    def __init__(self, x, y, xe):\n",
    "        self.x = x\n",
    "        self.y = y\n",
    "        self.xe = xe\n",
    "    def __call__(self, p0, p1, p2):\n",
    "        params = p0, p1, p2\n",
    "        bkgFunc = model_3param(self.x, params, self.xe)       \n",
    "        logL = 0\n",
    "        for ibin in range(len(self.y)):\n",
    "            data = self.y[ibin]\n",
    "            bkg = bkgFunc[ibin]\n",
    "            logL += -simpleLogPoisson(data, bkg)\n",
    "        try:\n",
    "            logL\n",
    "            return logL\n",
    "        except:\n",
    "            return np.inf\n",
    "    \n",
    "\n",
    "    \n",
    "def fit_3ff(num,lnprob, Print = True):\n",
    "  #  np.random.seed(1234)\n",
    "    bestval = np.inf\n",
    "    bestargs = (0., 0., 0.)\n",
    "    for i in range(num):\n",
    "        init0 = np.random.random() * 1.\n",
    "        init1 = np.random.random() * 8.\n",
    "        init2 = np.random.random() * 6.\n",
    "        m = Minuit(lnprob, throw_nan = False, pedantic = False, print_level = 0,\n",
    "                  p0 = init0, p1 = init1, p2 = init2,\n",
    "                  error_p0 = 1e-2, error_p1 = 1e-1, error_p2 = 1e-1, \n",
    "                  limit_p0 = (0, 100.), limit_p1 = (-100., 100.), limit_p2 = (-100., 100.))\n",
    "        m.migrad()\n",
    "        if m.fval < bestval:\n",
    "            bestval = m.fval\n",
    "            bestargs = m.args \n",
    "    if Print:\n",
    "        print \"min LL\",bestval\n",
    "        print \"best fit vals\", bestargs\n",
    "    return bestval, bestargs\n",
    "\n"
   ]
  },
  {
   "cell_type": "code",
   "execution_count": 19,
   "metadata": {
    "collapsed": true,
    "deletable": true,
    "editable": true
   },
   "outputs": [],
   "source": [
    "def model_gp(params, t, xerr=xerr): \n",
    "    #global xerr\n",
    "    p0, p1, p2 = params\n",
    "    sqrts = 13000.\n",
    "    return (p0 * (1.-t/sqrts)**p1 * (t/sqrts)**(p2))*xerr\n",
    "\n",
    "def fit_gp_minuit(num, lnprob, Print = True):\n",
    "    #np.random.seed(1234)\n",
    "    bestval = np.inf\n",
    "    bestargs = (0, 0, 0, 0, 0, 0, 0, 0)\n",
    "    for i in range(num):\n",
    "        init0 = np.random.random() * 1e6+1\n",
    "        init1 = np.random.random() * 400.\n",
    "        init2 = np.random.random() * 10. \n",
    "        init3 = np.random.random() * -100.\n",
    "        init4 = np.random.random() * 650.\n",
    "        init5 = np.random.random() * 1.\n",
    "        init6 = np.random.random() * 1.\n",
    "        init7 = np.random.random() * -1.\n",
    "        m = Minuit(lnprob, throw_nan = False, pedantic = False, print_level = 0,\n",
    "                  Amp = init0, decay = init1, length = init2, power = init3, sub = init4, \n",
    "                   p0 = init5, p1 = init6, p2 = init7,\n",
    "                  error_Amp = 1e1, error_decay = 1e1, error_length = 1e-1, error_power = 1e-1, \n",
    "                   error_sub = 1e-1, error_p0 = 1e-2, error_p1 = 1e-2, error_p2 = 1e-2,\n",
    "                  limit_Amp = (1, 1e15), limit_decay = (0, 500), limit_length = (0, 200), \n",
    "                   limit_power = (-200, 200), limit_sub = (0, 1000), limit_p0 = (0,10), \n",
    "                   limit_p1 = (0, 10), limit_p2 = (-10,0)) \n",
    "        m.migrad()\n",
    "        if m.fval < bestval:\n",
    "            bestval = m.fval\n",
    "            bestargs = m.args \n",
    "    if Print:\n",
    "        print \"min LL\", bestval\n",
    "        print \"best fit vals\",bestargs\n",
    "    return bestval, bestargs\n",
    "\n",
    "\n",
    "class logLike_gp:\n",
    "    def __init__(self, x, y, xerr):\n",
    "        self.x = x\n",
    "        self.y = y\n",
    "        self.xerr = xerr\n",
    "    def __call__(self, Amp, decay, length, power, sub, p0, p1, p2):\n",
    "        kernel = Amp * MyDijetKernelSimp(a = decay, b = length, c = power, d = sub)\n",
    "        gp = george.GP(kernel)\n",
    "        try:\n",
    "            gp.compute(self.x, np.sqrt(self.y))\n",
    "            return -gp.lnlikelihood(self.y - model_gp((p0,p1,p2), self.x, self.xerr))\n",
    "        except:\n",
    "            return np.inf\n"
   ]
  },
  {
   "cell_type": "code",
   "execution_count": null,
   "metadata": {
    "collapsed": true,
    "deletable": true,
    "editable": true
   },
   "outputs": [],
   "source": [
    "print(\"Fitting gp only\")\n",
    "warnings.simplefilter(\"ignore\")\n",
    "\n",
    "btime = time.time()\n",
    "lumiList = [5.0, 10.0, 15.0, 20.0, 25., 30., 35., 40., 45., 50.]\n",
    "\n",
    "\n",
    "GPtotlist={}\n",
    "BKGtotlist={}\n",
    "\n",
    "for lum in lumiList:\n",
    "    print \"lumi\", lum\n",
    "    tList = lumiToyDict[()][lum]\n",
    "    print tList[0]\n",
    "\n",
    "    GPtotlist[lum]=[]\n",
    "    BKGtotlist[lum]=[]\n",
    "        \n",
    "    for itoy, toy in enumerate(tList[:2]):\n",
    "        print itoy\n",
    "        if not itoy%1:\n",
    "            print \"toy: \", itoy\n",
    "        lnProb = logLike_3ff(xvalO,toy,xerrO)\n",
    "        bestvalff, best_fit_ff = fit_3ff(100, lnProb)\n",
    "        bkg = model_3param(xvalO, best_fit_ff, xerrO)\n",
    "        zvalsff, chi2ff = calcSignificance(toy, bkg)\n",
    "       \n",
    "        if not itoy%1:\n",
    "            print \"ff: \", best_fit_ff\n",
    "\n",
    "    \n",
    "        ytoy, xtoy, xtoyerr = removeZeros(toy)\n",
    "        if itoy == 0:\n",
    "            lnProb = logLike_gp(xtoy,ytoy,xtoyerr)\n",
    "            bestvalgp, best_fit_gp = fit_gp_minuit(100, lnProb)\n",
    "            print \"best fit GP\", best_fit_gp\n",
    "            Amp, decay, length, power, sub, p0, p1, p2 = best_fit_gp\n",
    "            kernel = Amp * MyDijetKernelSimp(a = decay, b = length, c = power, d=sub)\n",
    "            gp = george.GP(kernel)\n",
    "            gp.compute(xtoy, np.sqrt(ytoy))\n",
    "            meanGPp, covGP = gp.predict(ytoy - model_gp((p0,p1,p2),xtoy, xtoyerr), xvalO)\n",
    "            meanGP = meanGPp+ model_3param(xvalO,(p0,p1,p2),xerrO)\n",
    "        else:\n",
    "            gp.compute(xtoy, np.sqrt(ytoy))\n",
    "            meanGPp, covGP = gp.predict(ytoy - model_gp((p0,p1,p2),xtoy, xtoyerr), xvalO)\n",
    "            meanGP = meanGPp+ model_3param(xvalO,(p0,p1,p2),xerrO)\n",
    "        zvalsgp, chi2gp = calcSignificance(toy, meanGP)\n",
    "\n",
    "\n",
    "        GPtotlist[lum].append(chi2gp/(len(toy)-1-8))\n",
    "        BKGtotlist[lum].append(chi2ff/(len(toy)-1-3))\n",
    "            \n",
    "\n",
    "        if not itoy%1:\n",
    "            print \"bkg NLL\", bestvalff\n",
    "            print \"GP NLL\", bestvalgp\n",
    "            print \"GP\", GPtotlist[lum]\n",
    "            print \"BKG\", BKGtotlist[lum]\n",
    "\n",
    "\n",
    "etime = time.time()\n",
    "print \"took \"+str(etime-btime) + \"seconds\"\n",
    "print \"done with toys, making plot\"\n",
    "print \"checking\", GPtotlist[50.]"
   ]
  },
  {
   "cell_type": "code",
   "execution_count": null,
   "metadata": {
    "collapsed": true
   },
   "outputs": [],
   "source": [
    "print \"done with toys, making plot\"\n",
    "print \"checking\", GPtotlist[50.]\n",
    "label = \"lumi vs chi2\"\n",
    "GPchi2avList=[]\n",
    "BKGchi2avList=[]\n",
    "for lum in lumiList:\n",
    "    chi2GPListp = GPtotlist[lum]\n",
    "    chi2BKGListp = BKGtotlist[lum]\n",
    "    print \"GP avg\", np.mean(np.array(chi2GPListp)), np.std(np.array(chi2GPListp)/np.sqrt(len(chi2GPListp)))\n",
    "    print \"BKG avg\", np.mean(np.array(chi2BKGListp)), np.std(np.array(chi2BKGListp)/np.sqrt(len(chi2GPListp)))\n",
    "    GPchi2avList.append([np.mean(np.array(chi2GPListp)), np.std(np.array(chi2GPListp))/np.sqrt(len(chi2GPListp))])\n",
    "    BKGchi2avList.append([np.mean(np.array(chi2BKGListp)), np.std(np.array(chi2BKGListp))/np.sqrt(len(chi2GPListp))])\n",
    "makePrettyPlots_chi2Lumi(lumiList, [GPchi2avList[i][0] for i in range(len(lumiList))], [BKGchi2avList[i][0] for i in range(len(lumiList))], [GPchi2avList[i][1] for i in range(len(lumiList))], [BKGchi2avList[i][1] for i in range(len(lumiList))], label)"
   ]
  },
  {
   "cell_type": "code",
   "execution_count": null,
   "metadata": {
    "collapsed": true
   },
   "outputs": [],
   "source": [
    "for  b in lumiList:\n",
    "    label = \"chi2/NDoF \"+str(int(b))+\"invfb\"\n",
    "    makePrettyPlots_chi2(GPtotlist[b], BKGtotlist[b], label, False)"
   ]
  }
 ],
 "metadata": {
  "anaconda-cloud": {},
  "kernelspec": {
   "display_name": "Python 2",
   "language": "python",
   "name": "python2"
  },
  "language_info": {
   "codemirror_mode": {
    "name": "ipython",
    "version": 2
   },
   "file_extension": ".py",
   "mimetype": "text/x-python",
   "name": "python",
   "nbconvert_exporter": "python",
   "pygments_lexer": "ipython2",
   "version": "2.7.13"
  }
 },
 "nbformat": 4,
 "nbformat_minor": 0
}
