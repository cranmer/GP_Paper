{
 "cells": [
  {
   "cell_type": "markdown",
   "metadata": {
    "deletable": true,
    "editable": true
   },
   "source": [
    "## This does the comparison between fit function and GP fitting on 3.6fb-1 of data and injecting a Gaussian signal based on a fit to our q* samples"
   ]
  },
  {
   "cell_type": "code",
   "execution_count": 2,
   "metadata": {
    "collapsed": false,
    "deletable": true,
    "editable": true
   },
   "outputs": [
    {
     "name": "stdout",
     "output_type": "stream",
     "text": [
      "Populating the interactive namespace from numpy and matplotlib\n"
     ]
    }
   ],
   "source": [
    "%pylab inline --no-import-all"
   ]
  },
  {
   "cell_type": "code",
   "execution_count": 1,
   "metadata": {
    "collapsed": false,
    "deletable": true,
    "editable": true
   },
   "outputs": [],
   "source": [
    "import george\n",
    "from george.kernels import MyDijetKernelSimp\n",
    "\n",
    "import math\n",
    "import time\n",
    "import numpy as np\n",
    "import scipy.stats as ss\n",
    "import scipy.special as ssp\n",
    "import scipy.optimize as op\n",
    "from iminuit import Minuit\n",
    "#pl = plt\n",
    "#import ROOT as r\n",
    "#from rootpy.plotting import Hist, Hist2D, Legend, Canvas\n",
    "#import rootpy.plotting.root2matplotlib as rplt\n",
    "\n"
   ]
  },
  {
   "cell_type": "markdown",
   "metadata": {
    "deletable": true,
    "editable": true
   },
   "source": [
    "## Section 1: including and visualizing 13 TeV dataset"
   ]
  },
  {
   "cell_type": "markdown",
   "metadata": {
    "deletable": true,
    "editable": true
   },
   "source": [
    "### This set has all bins that equal 0 removed. These 0 points really bias the GP"
   ]
  },
  {
   "cell_type": "code",
   "execution_count": 2,
   "metadata": {
    "collapsed": false,
    "deletable": true,
    "editable": true
   },
   "outputs": [],
   "source": [
    "#bin center\n",
    "xval = np.array([1116.5, 1149.5, \n",
    "        1183.0, 1217.0, 1251.5, 1287.0, 1323.0, 1359.5, 1397.0, 1435.0, 1473.5, 1513.0, 1553.0, 1593.5, 1635.0, \n",
    "        1677.0, 1719.5, 1763.0, 1807.5, 1852.5, 1898.0, 1944.5, 1992.0, 2040.5, 2089.5, 2139.0, 2189.5, 2241.0, \n",
    "        2293.5, 2347.0, 2401.5, 2457.0, 2513.5, 2571.0, 2629.5, 2689.0, 2749.5, 2811.0, 2873.5, 2937.0, 3001.5, \n",
    "        3067.0, 3133.5, 3201.0, 3270.0, 3340.5, 3412.0, 3484.5, 3558.5, 3634.0, 3710.5, 3788.0, 3867.0, 3947.5, \n",
    "        4029.0, 4112.0, 4196.5, 4282.5, 4370.0, 4459.0, 4549.5, 4641.5, 4735.0, 4830.0, 4926.5, 5024.5,\n",
    "        5226.0, 5329.0, 5434.0, 5541.0, 5761.0, 5874.0, 5989.0, 6985.0])\n",
    "\n",
    "#bin width\n",
    "xerr = np.array([33.0, 33.0, 34.0, 34.0, 35.0, 36.0, 36.0, 37.0, 38.0, \n",
    "           38.0, 39.0, 40.0, 40.0, 41.0, 42.0, 42.0, 43.0, 44.0, 45.0, 45.0, 46.0, 47.0, 48.0, 49.0, 49.0, 50.0, \n",
    "           51.0, 52.0, 53.0, 54.0, 55.0, 56.0, 57.0, 58.0, 59.0, 60.0, 61.0, 62.0, 63.0, 64.0, 65.0, 66.0, 67.0, \n",
    "           68.0, 70.0, 71.0, 72.0, 73.0, 75.0, 76.0, 77.0, 78.0, 80.0, 81.0, 82.0, 84.0, 85.0, 87.0, 88.0, 90.0,\n",
    "           91.0, 93.0, 94.0, 96.0, 97.0, 99.0, 102.0, 104.0, 106.0, 108.0, 112.0, 114.0, 116.0, 134.0])\n",
    "#events\n",
    "yval = np.array([94818.0, 79694.0, 68785.0, 57904.0, 49639.0, 43560.0, 36824.0, 31977.0, 27754.0, 23474.0, 20189.0,\n",
    "                 17655.0, 15195.0, 13104.0, 11297.0, 9533.0, 8263.0, 7120.0, 6222.0, 5253.0, 4678.0, 4035.0, 3545.0,\n",
    "                 2977.0, 2611.0, 2253.0, 1931.0, 1737.0, 1516.0, 1264.0, 1069.0, 958.0, 796.0, 690.0, 632.0, 527.0,\n",
    "                 446.0, 386.0, 352.0, 296.0, 260.0, 223.0, 191.0, 142.0, 134.0, 120.0, 90.0, 87.0, 76.0, 69.0, 58.0,\n",
    "                 46.0, 39.0, 29.0, 32.0, 23.0, 18.0, 11.0, 14.0, 10.0, 11.0, 4.0, 6.0, 5.0, 6.0, 2.0, 3.0, 4.0,\n",
    "                 3.0, 1.0, 1.0, 1.0, 2.0, 1.0])\n",
    "\n"
   ]
  },
  {
   "cell_type": "markdown",
   "metadata": {
    "deletable": true,
    "editable": true
   },
   "source": [
    "### This set has bins with 0 included"
   ]
  },
  {
   "cell_type": "code",
   "execution_count": 3,
   "metadata": {
    "collapsed": true,
    "deletable": true,
    "editable": true
   },
   "outputs": [],
   "source": [
    "xvalO = np.array([1116.5, 1149.5,1183.0, 1217.0, 1251.5, 1287.0, 1323.0, 1359.5, 1397.0, 1435.0, 1473.5, 1513.0, \n",
    "                  1553.0, 1593.5, 1635.0, 1677.0, 1719.5, 1763.0, 1807.5, 1852.5, 1898.0, 1944.5, 1992.0, 2040.5,\n",
    "                  2089.5, 2139.0, 2189.5, 2241.0, 2293.5, 2347.0, 2401.5, 2457.0, 2513.5, 2571.0, 2629.5, 2689.0, \n",
    "                  2749.5, 2811.0, 2873.5, 2937.0, 3001.5, 3067.0, 3133.5, 3201.0, 3270.0, 3340.5, 3412.0, 3484.5, \n",
    "                  3558.5, 3634.0, 3710.5, 3788.0, 3867.0, 3947.5, 4029.0, 4112.0, 4196.5, 4282.5, 4370.0, 4459.0, \n",
    "                  4549.5, 4641.5, 4735.0, 4830.0, 4926.5, 5024.5, 5124.5, 5226.0, 5329.0, 5434.0, 5541.0, 5650.0, \n",
    "                  5761.0, 5874.0, 5989.0, 6106.0, 6225.0, 6346.0, 6469.0, 6594.5, 6722.5, 6852.5, 6985.0])\n",
    "yvalO =np.array([94818.0, 79694.0, 68785.0, 57904.0, 49639.0, 43560.0, 36824.0, 31977.0, 27754.0, 23474.0, 20189.0,\n",
    "                 17655.0, 15195.0, 13104.0, 11297.0, 9533.0, 8263.0, 7120.0, 6222.0, 5253.0, 4678.0, 4035.0, 3545.0,\n",
    "                 2977.0, 2611.0, 2253.0, 1931.0, 1737.0, 1516.0, 1264.0, 1069.0, 958.0, 796.0, 690.0, 632.0, 527.0,\n",
    "                 446.0, 386.0, 352.0, 296.0, 260.0, 223.0, 191.0, 142.0, 134.0, 120.0, 90.0, 87.0, 76.0, 69.0, 58.0,\n",
    "                 46.0, 39.0, 29.0, 32.0, 23.0, 18.0, 11.0, 14.0, 10.0, 11.0, 4.0, 6.0, 5.0, 6.0, 2.0, 0.0, 3.0, 4.0,\n",
    "                 3.0, 1.0, 0.0, 1.0, 1.0, 2.0, 0.0, 0.0, 0.0, 0.0, 0.0, 0.0, 0.0, 1.0])\n",
    "xerrO = np.array([33.0, 33.0, 34.0, 34.0, 35.0, 36.0, 36.0, 37.0, 38.0, 38.0, 39.0, 40.0, 40.0, 41.0, 42.0, 42.0, \n",
    "                  43.0, 44.0, 45.0, 45.0, 46.0, 47.0, 48.0, 49.0, 49.0, 50.0, 51.0, 52.0, 53.0, 54.0, 55.0, 56.0, \n",
    "                  57.0, 58.0, 59.0, 60.0, 61.0, 62.0, 63.0, 64.0, 65.0, 66.0, 67.0, 68.0, 70.0, 71.0, 72.0, 73.0, \n",
    "                  75.0, 76.0, 77.0, 78.0, 80.0, 81.0, 82.0, 84.0, 85.0, 87.0, 88.0, 90.0, 91.0, 93.0, 94.0, 96.0,\n",
    "                  97.0, 99.0, 101.0, 102.0, 104.0, 106.0, 108.0, 110.0, 112.0, 114.0, 116.0, 118.0, 120.0, 122.0,\n",
    "                  124.0, 127.0, 129.0, 131.0, 134.0])\n",
    "#bin low edge\n",
    "xlowO = [1100.0, 1133.0, 1166.0, 1200.0, 1234.0, 1269.0, 1305.0, 1341.0, 1378.0, 1416.0, 1454.0, 1493.0, \n",
    "                  1533.0, 1573.0, 1614.0, 1656.0, 1698.0, 1741.0, 1785.0, 1830.0, 1875.0, 1921.0, 1968.0, 2016.0, \n",
    "                  2065.0, 2114.0, 2164.0, 2215.0, 2267.0, 2320.0, 2374.0, 2429.0, 2485.0, 2542.0, 2600.0, 2659.0, \n",
    "                  2719.0, 2780.0, 2842.0, 2905.0, 2969.0, 3034.0, 3100.0, 3167.0, 3235.0, 3305.0, 3376.0, 3448.0,\n",
    "                  3521.0, 3596.0, 3672.0, 3749.0, 3827.0, 3907.0, 3988.0, 4070.0, 4154.0, 4239.0, 4326.0, 4414.0,\n",
    "                  4504.0, 4595.0, 4688.0, 4782.0, 4878.0, 4975.0, 5074.0, 5175.0, 5277.0, 5381.0, 5487.0, 5595.0,\n",
    "                  5705.0, 5817.0, 5931.0, 6047.0, 6165.0, 6285.0, 6407.0, 6531.0, 6658.0, 6787.0, 6918.0, 7052.0]"
   ]
  },
  {
   "cell_type": "code",
   "execution_count": 6,
   "metadata": {
    "collapsed": false,
    "deletable": true,
    "editable": true
   },
   "outputs": [
    {
     "name": "stdout",
     "output_type": "stream",
     "text": [
      "0.0\n",
      "0.0\n",
      "0.0\n",
      "0.0\n",
      "0.0\n",
      "0.0\n",
      "0.0\n",
      "0.0\n",
      "0.0\n",
      "[1100.0, 1133.0, 1166.0, 1200.0, 1234.0, 1269.0, 1305.0, 1341.0, 1378.0, 1416.0, 1454.0, 1493.0, 1533.0, 1573.0, 1614.0, 1656.0, 1698.0, 1741.0, 1785.0, 1830.0, 1875.0, 1921.0, 1968.0, 2016.0, 2065.0, 2114.0, 2164.0, 2215.0, 2267.0, 2320.0, 2374.0, 2429.0, 2485.0, 2542.0, 2600.0, 2659.0, 2719.0, 2780.0, 2842.0, 2905.0, 2969.0, 3034.0, 3100.0, 3167.0, 3235.0, 3305.0, 3376.0, 3448.0, 3521.0, 3596.0, 3672.0, 3749.0, 3827.0, 3907.0, 3988.0, 4070.0, 4154.0, 4239.0, 4326.0, 4414.0, 4504.0, 4595.0, 4688.0, 4782.0, 4878.0, 4975.0, 5175.0, 5277.0, 5381.0, 5487.0, 5705.0, 5817.0, 5931.0, 6918.0]\n"
     ]
    }
   ],
   "source": [
    "newxlow=[]\n",
    "for ibin, binn in enumerate(xlowO[:-1]):\n",
    "    if yvalO[ibin] < 1:\n",
    "        print yvalO[ibin]\n",
    "        continue\n",
    "    else: newxlow.append(binn)\n",
    "print newxlow\n",
    "        "
   ]
  },
  {
   "cell_type": "code",
   "execution_count": 4,
   "metadata": {
    "collapsed": true,
    "deletable": true,
    "editable": true
   },
   "outputs": [],
   "source": [
    "np.save(\"xvalO\",xvalO)\n",
    "np.save(\"yvalO\", yvalO)\n",
    "np.save(\"xerrO\", xerrO)\n",
    "np.save(\"xlowO\", xlowO)\n",
    "np.save(\"xval\",xval)\n",
    "np.save(\"yval\", yval)\n",
    "np.save(\"xerr\", xerr)"
   ]
  },
  {
   "cell_type": "markdown",
   "metadata": {
    "deletable": true,
    "editable": true
   },
   "source": [
    "### 4 parameters fit function"
   ]
  },
  {
   "cell_type": "code",
   "execution_count": null,
   "metadata": {
    "collapsed": true
   },
   "outputs": [],
   "source": [
    "def sig_model(x, N=1e5, mass=2000., width=100., xErr=xerr):\n",
    "    return N*(np.exp(-(x-mass)**2/2/width/width)/np.sqrt(2*np.pi)/width)*xErr"
   ]
  },
  {
   "cell_type": "code",
   "execution_count": 8,
   "metadata": {
    "collapsed": true,
    "deletable": true,
    "editable": true
   },
   "outputs": [],
   "source": [
    "def model_3param(t, params, xErr=xerr): \n",
    "    p0, p1, p2 = params\n",
    "    sqrts = 13000.\n",
    "    return (p0 * ((1.-t/sqrts)**p1) * (t/sqrts)**(p2))*(xErr)  #1./(t/sqrts)\n",
    "\n",
    "def model_5param(t, params, xErr=xerr): \n",
    "    p0, p1, p2, p3, p4 = params\n",
    "    sqrts = 13000.\n",
    "    return (p0 * ((1.-t/sqrts)**p1) * (t/sqrts)**(p2+p3*np.log(t/sqrts)+p4*np.log(t/sqrts)**2))*(xErr)"
   ]
  },
  {
   "cell_type": "markdown",
   "metadata": {
    "deletable": true,
    "editable": true
   },
   "source": [
    "## Set up minimization. Look at GP and fit function background only fits to data, and GP and fit function signal+background fits to data+signal"
   ]
  },
  {
   "cell_type": "markdown",
   "metadata": {
    "deletable": true,
    "editable": true
   },
   "source": [
    "### Calculate bin by bin significance\n",
    "### calculate bin p value, convert to significance (z). If z is negative, set to 0. If bkg < data, make z negative"
   ]
  },
  {
   "cell_type": "code",
   "execution_count": 9,
   "metadata": {
    "collapsed": true,
    "deletable": true,
    "editable": true
   },
   "outputs": [],
   "source": [
    "def calcSignificance(Data, Bkg):\n",
    "    pvals = []\n",
    "    zvals = []\n",
    "    chi2 = 0\n",
    "    for i, nD in enumerate(Data):\n",
    "        nB = Bkg[i]\n",
    "        if nD != 0:\n",
    "            if nB > nD:\n",
    "                #pval = 1.-r.TMath.Gamma(nD+1.,nB)\n",
    "                pval = 1.-ssp.gammainc(nD+1.,nB)\n",
    "            else:\n",
    "                #pval = pval = r.TMath.Gamma(nD,nB)\n",
    "                pval = ssp.gammainc(nD,nB)\n",
    "            prob = 1-2*pval\n",
    "            if prob > -1 and prob < 1:\n",
    "                #zval = math.sqrt(2.)*r.TMath.ErfInverse(prob)\n",
    "                zval = math.sqrt(2.)*ssp.erfinv(prob)\n",
    "            else:\n",
    "                zval = np.inf\n",
    "               \n",
    "            if zval > 100: zval = 20\n",
    "            if zval < 0: zval = 0\n",
    "            if (nD < nB): zval = -zval\n",
    "        else: zval = 0\n",
    "            \n",
    "        zvals.append(zval)\n",
    "        chi2 += ((nD - nB) ** 2 / abs(nB))\n",
    "    return zvals, chi2\n",
    "\n",
    "\n",
    "def simpleLogPoisson(x, par):\n",
    "    if x < 0: \n",
    "        return np.inf\n",
    "    elif (x == 0): return -1.*par\n",
    "    else:\n",
    "        #lnpoisson = x*np.log(par)-par-r.TMath.LnGamma(x+1.)\n",
    "        lnpoisson = x*np.log(par)-par-ssp.gammaln(x+1.)\n",
    "        return lnpoisson\n",
    "    \n",
    "def makeToys(dataset, nPseudo=1000, lumi = 3.6):\n",
    "    toys = []\n",
    "    for n in range(nPseudo):\n",
    "        pseudo = np.random.poisson(dataset*lumi/3.6)\n",
    "        toys.append(pseudo)\n",
    "    return toys\n",
    "\n",
    "def removeZeros(data):\n",
    "    indices = [i for i, x in enumerate(data) if x == 0]\n",
    "    newylist=[]\n",
    "    newxlist=[]\n",
    "    newxerrlist=[]\n",
    "    for k in range(len(data)):\n",
    "        if k not in indices:\n",
    "            newylist.append(data[k])\n",
    "            newxlist.append(xvalO[k])\n",
    "            newxerrlist.append(xerrO[k])\n",
    "    return np.array(newylist), np.array(newxlist), np.array(newxerrlist)"
   ]
  },
  {
   "cell_type": "code",
   "execution_count": 10,
   "metadata": {
    "collapsed": false,
    "deletable": true,
    "editable": true
   },
   "outputs": [],
   "source": [
    "#background only plots\n",
    "def makePrettyPlots(xs, ys, bkgs, title, col = 'g', ymax = 2e5):\n",
    "    f, (ax1, ax2) = plt.subplots(2, sharex=True, figsize=(12,12), gridspec_kw = {'height_ratios':[3, 1]})\n",
    "    f.suptitle(title, fontsize=30)\n",
    "    dataPlot = ax1.errorbar(xs, ys, marker='o', ls='None', yerr = np.sqrt(ys), c='black', markersize=10, label=\"data+signal\")\n",
    "    bkgPlot, =ax1.plot(xs, bkgs, color=col, linewidth=3.0, label=\"bkg only\")\n",
    "    ax1.legend()\n",
    "    ax1.set_ylabel('Events', fontsize=20)\n",
    "    ax1.tick_params(axis='y', labelsize=20)\n",
    "    ax1.set_yscale('log', nonposy=\"clip\")\n",
    "    ax1.set_xscale('log')\n",
    "    ax1.set_xlim([1000, 7500])\n",
    "    ax1.set_ylim([0.01, ymax])\n",
    "\n",
    "\n",
    "  \n",
    "    #bin by bin significance    \n",
    "    zvals, chi2 = calcSignificance(ys, bkgs)\n",
    "    print \"chi2\", chi2\n",
    "    h1 = Hist(xlowO,markersize=0)\n",
    "    for x in range(len(zvals)):\n",
    "        if zvals[x] == np.inf or zvals[x] == -np.inf: h1[x] = 20\n",
    "        else: h1[x] = zvals[x]  \n",
    "\n",
    "    \n",
    "    h1.fillstyle = 'solid'\n",
    "    if col == 'g':\n",
    "         h1.fillcolor = 'green'\n",
    "    elif col == 'b':\n",
    "         h1.fillcolor = 'blue'\n",
    "    elif col == 'r':\n",
    "         h1.fillcolor = 'red'\n",
    "    else:\n",
    "        h1.fillcolor = 'black'\n",
    "    h1.linecolor = 'black'\n",
    "    h1.linewidth = 1\n",
    "    h1.Draw(\"histX0\")\n",
    "    rplt.bar(h1, xerr=None, yerr=None)\n",
    "    ax2.axhline(0, color='black', lw=1)\n",
    "    ax2.tick_params(axis='x', labelsize=20)\n",
    "    ax2.tick_params(axis='y', labelsize=20)\n",
    "    ax2.set_xlabel(r\"$m_{jj}$ [TeV]\", fontsize=30)\n",
    "    ax2.set_ylabel('Significance', fontsize=20)\n",
    "    ax2.set_xscale('log')\n",
    "    ax2.set_xlim([1000, 7500])\n",
    "    ax2.set_xticks([1000, 2000, 3000, 4000, 5000, 6000, 7000])\n",
    "    ax2.get_xaxis().set_major_formatter(matplotlib.ticker.ScalarFormatter())\n",
    "    minor_ticks = np.arange(1000, 7500, 100)\n",
    "    ax2.set_xticks(minor_ticks, minor=True)  \n",
    "    labels = [\"1\",\"2\",\"3\",\"4\",\"5\",\"6\",\"7\"]\n",
    "    ax2.set_xticklabels(labels)\n",
    "    ax2.set_ylim([-5, 5])\n",
    "    \n",
    "    f.subplots_adjust(hspace=0)\n",
    "    plt.setp([a.get_xticklabels() for a in f.axes[:-1]], visible=False)    \n",
    "    plt.show()\n"
   ]
  },
  {
   "cell_type": "code",
   "execution_count": 11,
   "metadata": {
    "collapsed": false,
    "deletable": true,
    "editable": true
   },
   "outputs": [],
   "source": [
    "#comparing background only and background + signal fit to data + siganl\n",
    "def makePrettyPlots_compare(xs, ys, bkggp, bkgff, title, ymax = 2e5):\n",
    "    f, (ax1, ax2, ax3) = plt.subplots(3, sharex=True, figsize=(12,12), gridspec_kw = {'height_ratios':[3, 1, 1]})\n",
    "    f.suptitle(title, fontsize=30)\n",
    "    dataPlot = ax1.errorbar(xs, ys, marker='o', ls='None', yerr = np.sqrt(ys), c='black', markersize=10, label=\"Data\")\n",
    "    bkg1Plot, = ax1.plot(xs, bkggp, color='g', linewidth=3.0, label=\"Gaussian Process\")\n",
    "    bkg2Plot, = ax1.plot(xs, bkgff, color='b', linewidth=3.0, label=\"3 Parameter Fit Function\")\n",
    "    ax1.legend()\n",
    "    ax1.set_ylabel('Events', fontsize=20)\n",
    "    ax1.set_yscale('log', nonposy=\"clip\")\n",
    "    ax1.set_xscale('log')\n",
    "    ax1.set_xlim([1000, 7500])\n",
    "    ax1.set_ylim([0.3, ymax])\n",
    "    ax1.tick_params(axis='y', labelsize=20)\n",
    "\n",
    "    #bin by bin significance   \n",
    "    zvals_1, chi2_1 = calcSignificance(ys, bkggp)\n",
    "    print \"chi2 bkg+signal mu=0\", chi2_1\n",
    "    h1 = Hist(xlowO,markersize=0)\n",
    "    for x in range(len(zvals_1)):\n",
    "        if zvals_1[x] == np.inf or zvals_1[x] == -np.inf: h1[x] = 20\n",
    "        else: h1[x] = zvals_1[x]  \n",
    "    h1.fillstyle = 'solid'\n",
    "    h1.fillcolor = 'green'\n",
    "    h1.linecolor = 'black'\n",
    "    h1.linewidth = 1\n",
    "    h1.Draw(\"histX0\")\n",
    "\n",
    "    rplt.bar(h1, xerr=None, yerr=None, axes=ax2)\n",
    "    ax2.axhline(0, color='black', lw=1)\n",
    "    ax2.set_ylabel('Significance', fontsize=20)\n",
    "    ax2.set_xscale('log')\n",
    "    ax2.tick_params(axis='y', labelsize=20)\n",
    "    ax2.set_xlim([1000, 7500])\n",
    "    ax2.set_ylim([-5, 5])\n",
    "\n",
    "\n",
    "    zvals_2, chi2_2 = calcSignificance(ys, bkgff)\n",
    "    print \"chi2 bkg+signal\", chi2_2\n",
    "    h2 = Hist(xlowO,markersize=0)\n",
    "    for x in range(len(zvals_2)):\n",
    "        if zvals_2[x] == np.inf or zvals_2[x] == -np.inf: h2[x] = 20\n",
    "        else: h2[x] = zvals_2[x]  \n",
    "    h2.fillstyle = 'solid'\n",
    "    h2.fillcolor = 'blue'\n",
    "    h2.linecolor = 'black'\n",
    "    h2.linewidth = 1\n",
    "    h2.Draw(\"histX0\")\n",
    "    rplt.bar(h2, xerr=None, yerr=None, axes=ax3)\n",
    "    ax3.axhline(0, color='black', lw=1)\n",
    "    ax3.set_xlabel(r\"$m_{jj}$ [TeV]\", fontsize=30)\n",
    "    ax3.set_ylabel('Significance', fontsize=20)\n",
    "    ax3.set_xscale('log')\n",
    "    ax3.tick_params(axis='y', labelsize=20)\n",
    "    ax3.tick_params(axis='x', labelsize=20)\n",
    "    ax3.set_ylim([-5, 5])\n",
    "    ax3.set_xlim([1000, 7500])\n",
    "    \n",
    "\n",
    "    ax3.set_xticks([1000, 2000, 3000, 4000, 5000, 6000, 7000])\n",
    "    ax3.get_xaxis().set_major_formatter(matplotlib.ticker.ScalarFormatter())\n",
    "    minor_ticks = np.arange(1000, 7500, 100)\n",
    "    ax3.set_xticks(minor_ticks, minor=True)  \n",
    "    labels = [\"1\",\"2\",\"3\",\"4\",\"5\",\"6\",\"7\"]\n",
    "    ax3.set_xticklabels(labels)\n",
    "    \n",
    "    f.subplots_adjust(hspace=0)\n",
    "    plt.setp([a.get_xticklabels() for a in f.axes[:-1]], visible=False)    \n",
    "    plt.show()\n"
   ]
  },
  {
   "cell_type": "markdown",
   "metadata": {
    "deletable": true,
    "editable": true
   },
   "source": [
    "### Calculate NLL for fit function using poisson statistics - with or without signal. lnprob functions calls logLike function to calculate NLL."
   ]
  },
  {
   "cell_type": "code",
   "execution_count": 12,
   "metadata": {
    "collapsed": false,
    "deletable": true,
    "editable": true
   },
   "outputs": [],
   "source": [
    "class logLike_3ff:\n",
    "    def __init__(self, x, y, xe):\n",
    "        self.x = x\n",
    "        self.y = y\n",
    "        self.xe = xe\n",
    "    def __call__(self, p0, p1, p2):\n",
    "        params = p0, p1, p2\n",
    "        bkgFunc = model_3param(self.x, params, self.xe)       \n",
    "        logL = 0\n",
    "        for ibin in range(len(self.y)):\n",
    "            data = self.y[ibin]\n",
    "            bkg = bkgFunc[ibin]\n",
    "            logL += -simpleLogPoisson(data, bkg)\n",
    "        try:\n",
    "            logL\n",
    "            return logL\n",
    "        except:\n",
    "            return np.inf\n",
    "    \n",
    "\n",
    "\n",
    "class logLike_5ff:\n",
    "    def __init__(self, x, y, xe):\n",
    "        self.x = x\n",
    "        self.y = y\n",
    "        self.xe = xe\n",
    "    def __call__(self, p0, p1, p2, p3, p4):\n",
    "        params = p0, p1, p2, p3, p4\n",
    "        bkgFunc = model_5param(self.x, params, self.xe)       \n",
    "        logL = 0\n",
    "        for ibin in range(len(self.y)):\n",
    "            data = self.y[ibin]\n",
    "            bkg = bkgFunc[ibin] \n",
    "            logL += -simpleLogPoisson(data, bkg)\n",
    "        try:\n",
    "            logL\n",
    "            return logL\n",
    "        except:\n",
    "            return np.inf\n",
    "    \n",
    "class logLike_5ff_sig:\n",
    "    def __init__(self, x, y, xe, sigTemp):\n",
    "        self.x = x\n",
    "        self.y = y\n",
    "        self.xe = xe\n",
    "        self.sigTemp = sigTemp\n",
    "    def __call__(self, p0, p1, p2, p3, p4, N):\n",
    "        params = p0, p1, p2, p3, p4\n",
    "        nSignal = N\n",
    "        bkgFunc = model_5param(self.x, params, self.xe)       \n",
    "        logL = 0\n",
    "        sig=0\n",
    "        for ibin in range(len(self.y)):\n",
    "            data = self.y[ibin]\n",
    "            bkg = bkgFunc[ibin] \n",
    "            sig = self.sigTemp[ibin]*nSignal\n",
    "            logL += -simpleLogPoisson(data, bkg+sig)\n",
    "        try:\n",
    "            logL\n",
    "            return logL\n",
    "        except:\n",
    "            return np.inf"
   ]
  },
  {
   "cell_type": "markdown",
   "metadata": {
    "deletable": true,
    "editable": true
   },
   "source": [
    "### Minimize NLL of fit function.  fit functions call Minuit to minimize lnLike functions. Kick initial parameters, constrain parameters.  Minimize NLL of fit function with signal - add in signal strength parameter"
   ]
  },
  {
   "cell_type": "code",
   "execution_count": 13,
   "metadata": {
    "collapsed": true,
    "deletable": true,
    "editable": true
   },
   "outputs": [],
   "source": [
    "def fit_3ff(num,lnprob, Print=True):\n",
    "  #  np.random.seed(1234)\n",
    "    bestval = np.inf\n",
    "    bestargs = (0., 0., 0.)\n",
    "    for i in range(num):\n",
    "        init0 = np.random.random() * 1.\n",
    "        init1 = np.random.random() * 8.\n",
    "        init2 = np.random.random() * 6.\n",
    "        m = Minuit(lnprob, throw_nan = False, pedantic = False, print_level = 0,\n",
    "                  p0 = init0, p1 = init1, p2 = init2,\n",
    "                  error_p0 = 1e-2, error_p1 = 1e-1, error_p2 = 1e-1, \n",
    "                  limit_p0 = (0, 100.), limit_p1 = (-100., 100.), limit_p2 = (-100., 100.))\n",
    "        m.migrad()\n",
    "        if m.fval < bestval:\n",
    "            bestval = m.fval\n",
    "            bestargs = m.args \n",
    "    if Print:\n",
    "        print \"min LL\", bestval\n",
    "        print \"best fit vals\", bestargs\n",
    "    return bestval, bestargs\n",
    "\n",
    "\n",
    "def fit_5ff(num,lnprob, Print = True):\n",
    "    bestval = np.inf\n",
    "    bestargs = (0., 0., 0., 0., 0.)\n",
    "    for i in range(num):\n",
    "        init0 = np.random.random() * 1.\n",
    "        init1 = np.random.random() * 8.\n",
    "        init2 = np.random.random() * 6.\n",
    "        init3 = np.random.random() * 1.\n",
    "        init4 = np.random.random() * 1.\n",
    "        m = Minuit(lnprob, throw_nan = False, pedantic = False, print_level = 0,\n",
    "                  p0 = init0, p1 = init1, p2 = init2, p3 = init3, p4 = init4,\n",
    "                  error_p0 = 1e-2, error_p1 = 1e-1, error_p2 = 1e-1, error_p3 = 1e-2, error_p4 = 1e-2,\n",
    "                  limit_p0 = (0, 10), limit_p1 = (-20, 20), limit_p2 = (-20, 20), \n",
    "                   limit_p3 = (-20, 20), limit_p4 = (0, 50))\n",
    "        m.migrad()\n",
    "        if m.fval < bestval:\n",
    "            bestval = m.fval\n",
    "            bestargs = m.args \n",
    "    if Print:\n",
    "        print \"min LL\",bestval\n",
    "        print \"best fit vals\", bestargs\n",
    "    return bestval, bestargs\n",
    "\n"
   ]
  },
  {
   "cell_type": "markdown",
   "metadata": {
    "deletable": true,
    "editable": true
   },
   "source": [
    "### Minimize NLL of GP using george lnlikelihood function - logLike functions calls gp.lnlikelihood to calculate NLL. "
   ]
  },
  {
   "cell_type": "markdown",
   "metadata": {
    "deletable": true,
    "editable": true
   },
   "source": [
    "### Minimize NLL of GP. call Minuit to minimize logLike functions. Kick initial parameters, constrain parameters. Minimize NLL of GP with signal - add in signal strength parameter"
   ]
  },
  {
   "cell_type": "code",
   "execution_count": 14,
   "metadata": {
    "collapsed": true,
    "deletable": true,
    "editable": true
   },
   "outputs": [],
   "source": [
    "def model_gp(params, t, xerr=xerr): \n",
    "    p0, p1, p2 = params\n",
    "    sqrts = 13000.\n",
    "    return (p0 * (1.-t/sqrts)**p1 * (t/sqrts)**(p2))*xerr\n",
    "\n",
    "def fit_gp_minuit(num, lnprob):\n",
    "    bestval = np.inf\n",
    "    bestargs = (0, 0, 0, 0, 0, 0, 0, 0)\n",
    "    for i in range(num):\n",
    "        init0 = np.random.random() * 1e6+1\n",
    "        init1 = np.random.random() * 400.\n",
    "        init2 = np.random.random() * 10. \n",
    "        init3 = np.random.random() * -100.\n",
    "        init4 = np.random.random() * 650.\n",
    "        init5 = np.random.random() * 1.\n",
    "        init6 = np.random.random() * 1.\n",
    "        init7 = np.random.random() * -1.\n",
    "        m = Minuit(lnprob, throw_nan = False, pedantic = False, print_level = 0,\n",
    "                  Amp = init0, decay = init1, length = init2, power = init3, sub = init4, \n",
    "                   p0 = init5, p1 = init6, p2 = init7,\n",
    "                  error_Amp = 1e1, error_decay = 1e1, error_length = 1e-1, error_power = 1e-1, \n",
    "                   error_sub = 1e-1, error_p0 = 1e-2, error_p1 = 1e-2, error_p2 = 1e-2,\n",
    "                  limit_Amp = (1, 1e15), limit_decay = (0, 500), limit_length = (0, 200), \n",
    "                   limit_power = (-200, 200), limit_sub = (0, 1000), limit_p0 = (0,10), \n",
    "                   limit_p1 = (0, 10), limit_p2 = (-10,0)) \n",
    "        m.migrad()\n",
    "        if m.fval < bestval:\n",
    "            bestval = m.fval\n",
    "            bestargs = m.args \n",
    "    print \"min LL\", bestval\n",
    "    print \"best fit vals\",bestargs\n",
    "    return bestval, bestargs\n",
    "\n",
    "\n",
    "class logLike_gp:\n",
    "    def __init__(self, x, y, xerr):\n",
    "        self.x = x\n",
    "        self.y = y\n",
    "        self.xerr = xerr\n",
    "    def __call__(self, Amp, decay, length, power, sub, p0, p1, p2):\n",
    "        kernel = Amp * MyDijetKernelSimp(a = decay, b = length, c = power, d = sub)\n",
    "        gp = george.GP(kernel)\n",
    "        try:\n",
    "            gp.compute(self.x, np.sqrt(self.y))\n",
    "            return -gp.lnlikelihood(self.y - model_gp((p0,p1,p2), self.x, self.xerr))\n",
    "        except:\n",
    "            return np.inf\n"
   ]
  },
  {
   "cell_type": "code",
   "execution_count": 15,
   "metadata": {
    "collapsed": true,
    "deletable": true,
    "editable": true
   },
   "outputs": [],
   "source": [
    "def basicPlot(xs, ys, bkgs, title, col='g'):\n",
    "    f, (ax1) = plt.subplots(1, sharex=True, figsize=(12,12))\n",
    "    f.suptitle(title, fontsize=30)\n",
    "    dataPlot = ax1.errorbar(xs, ys, marker='o', ls='None', yerr = np.sqrt(ys), c='black', markersize=10, label=\"QCD MC\")\n",
    "    bkgPlot, = ax1.plot(xs, bkgs, color=col, linewidth=3.0, label=\"GP fit\")\n",
    "    ax1.legend()\n",
    "    ax1.set_ylabel('Events', fontsize=20)\n",
    "    ax1.tick_params(axis='y', labelsize=20)\n",
    "    ax1.set_yscale('log', nonposy=\"clip\")\n",
    "    ax1.set_xscale('log')\n",
    "    ax1.set_xlim([1000, 7500])\n",
    "    ax1.set_ylim([0.01, 2e6])"
   ]
  },
  {
   "cell_type": "code",
   "execution_count": 16,
   "metadata": {
    "collapsed": false,
    "deletable": true,
    "editable": true
   },
   "outputs": [
    {
     "name": "stdout",
     "output_type": "stream",
     "text": [
      "min LL 310.696327057\n",
      "best fit vals (718920.2019474426, 37.331535884180646, 1.080043419692489, 138.5222480910038, 593.5690141991803, 0.016613741583890174, 8.463394099881334, -5.222521874486664)\n",
      "hyperparams (718920.2019474426, 37.331535884180646, 1.080043419692489, 138.5222480910038, 593.5690141991803, 0.016613741583890174, 8.463394099881334, -5.222521874486664)\n"
     ]
    }
   ],
   "source": [
    "\n",
    "lnProb = logLike_gp(xval,yval, xerr)\n",
    "bestval, best_fit_gp = fit_gp_minuit(100, lnProb)\n",
    "fixedHyperparams = best_fit_gp\n",
    "print \"hyperparams\", fixedHyperparams\n",
    "Amp, decay, length, power, sub, p0, p1, p2 = best_fit_gp\n",
    "kernel = Amp * MyDijetKernelSimp(a = decay, b = length, c = power, d=sub)\n",
    "gp = george.GP(kernel)\n",
    "gp.compute(xval, np.sqrt(yval))\n",
    "meanGP, covGP = gp.predict(yval - model_gp(best_fit_gp[5:],xval, xerr), xvalO)\n",
    "meanGPnom = meanGP+ model_3param(xvalO,best_fit_gp[5:],xerrO)\n",
    "\n"
   ]
  },
  {
   "cell_type": "code",
   "execution_count": 17,
   "metadata": {
    "collapsed": false,
    "deletable": true,
    "editable": true
   },
   "outputs": [
    {
     "data": {
      "image/png": "[encoded data removed]",
      "text/plain": [
       "<matplotlib.figure.Figure at 0x10e4e40d0>"
      ]
     },
     "metadata": {},
     "output_type": "display_data"
    }
   ],
   "source": [
    "label = \"GP fit\"\n",
    "basicPlot(xvalO, yvalO, meanGPnom, label)"
   ]
  },
  {
   "cell_type": "code",
   "execution_count": 19,
   "metadata": {
    "collapsed": false,
    "deletable": true,
    "editable": true
   },
   "outputs": [],
   "source": [
    "#label = \"GP fit\"\n",
    "#makePrettyPlots(xvalO, yvalO, meanGPnom, label)"
   ]
  },
  {
   "cell_type": "markdown",
   "metadata": {
    "deletable": true,
    "editable": true
   },
   "source": [
    "### Fit GP to data only (fixed hyperparameters set here)"
   ]
  },
  {
   "cell_type": "code",
   "execution_count": 20,
   "metadata": {
    "collapsed": false,
    "deletable": true,
    "editable": true
   },
   "outputs": [
    {
     "name": "stdout",
     "output_type": "stream",
     "text": [
      "min LL 318.093381124\n",
      "best fit vals (0.016091208196611362, 8.383074445078222, -5.232683498904734)\n",
      "(0.016091208196611362, 8.383074445078222, -5.232683498904734)\n"
     ]
    }
   ],
   "source": [
    "lnProb = logLike_3ff(xvalO,yvalO,xerrO)\n",
    "bestval, best_fit_new = fit_3ff(100, lnProb)\n",
    "#background with best fit parameters\n",
    "bkg3param = model_3param(xvalO, best_fit_new, xerrO)\n",
    "print best_fit_new\n",
    "label = \"3 parameter fit\"\n",
    "#makePrettyPlots(xvalO, yvalO, bkg3param, label, 'b')"
   ]
  },
  {
   "cell_type": "code",
   "execution_count": 21,
   "metadata": {
    "collapsed": false,
    "deletable": true,
    "editable": true
   },
   "outputs": [
    {
     "name": "stdout",
     "output_type": "stream",
     "text": [
      "min LL 318.043407611\n",
      "best fit vals (0.12790596548533706, 10.013717745927657, -3.303170590253707, 0.6789296470019934, 0.08663894897719127)\n",
      "(0.12790596548533706, 10.013717745927657, -3.303170590253707, 0.6789296470019934, 0.08663894897719127)\n"
     ]
    }
   ],
   "source": [
    "lnProb = logLike_5ff(xvalO,yvalO,xerrO)\n",
    "bestval, best_fit_new = fit_5ff(100, lnProb)\n",
    "#background with best fit parameters\n",
    "bkg5param = model_5param(xvalO, best_fit_new, xerrO)\n",
    "\n",
    "print best_fit_new\n",
    "label = \"5 parameter fit\"\n",
    "#makePrettyPlots(xvalO, yvalO, bkg5param, label, 'b')"
   ]
  },
  {
   "cell_type": "code",
   "execution_count": 24,
   "metadata": {
    "collapsed": false,
    "deletable": true,
    "editable": true
   },
   "outputs": [],
   "source": [
    "toyList = makeToys(bkg5param, 1000)\n",
    "lumiList = [5., 10., 15., 20., 25., 30., 35., 40., 45., 50.]\n",
    "lumiToyDict={}\n",
    "for lum in lumiList:\n",
    "    lumiToyDict[lum] = makeToys(bkg5param, 1000, lum)\n",
    "standardParamSets = [(1500,2000,250), (750 ,2500, 250), (200, 3000, 250), (75, 3500, 250), (50, 4000, 250), \n",
    "             (25, 4500, 250), (20, 5000, 250), (15,5500, 250), (15, 6000,250)]\n",
    "np.save(\"toyList\",toyList)\n",
    "np.save(\"lumiToyList\", lumiToyDict)\n",
    "np.save(\"initialGPfit\", meanGPnom)\n",
    "np.save(\"fixedHyperparams\", fixedHyperparams)\n"
   ]
  },
  {
   "cell_type": "code",
   "execution_count": 25,
   "metadata": {
    "collapsed": false,
    "deletable": true,
    "editable": true,
    "scrolled": true
   },
   "outputs": [],
   "source": [
    "#label = \"Background only fit to 13 TeV data\"\n",
    "#makePrettyPlots_compare(xvalO, yvalO, meanGPnom, bkg5param, label)"
   ]
  },
  {
   "cell_type": "code",
   "execution_count": null,
   "metadata": {
    "collapsed": true,
    "deletable": true,
    "editable": true
   },
   "outputs": [],
   "source": [
    "sigDict={}\n",
    "sigDictO={}\n",
    "for pSet in standardParamSets:\n",
    "    n, m, w = pSet\n",
    "    sigDict[m]=[]\n",
    "    sigDictO[m]=[]\n",
    "    for itoy, toy in enumerate(toyList):        \n",
    "        signalTemplate = sig_model(xtoy, n, m, w, xtoyerr)\n",
    "        signalTemplate = np.random.poisson(np.around(signalTemplate))\n",
    "        sigDict[m].append(signalTemplate)\n",
    "        \n",
    "        signalTemplateO = sig_model(xvalO, n, m, w, xerrO)\n",
    "        signalTemplateO = np.random.poisson(np.around(signalTemplateO))\n",
    "        sigDictO[m].append(signalTemplateO)"
   ]
  }
 ],
 "metadata": {
  "anaconda-cloud": {},
  "kernelspec": {
   "display_name": "Python 2",
   "language": "python",
   "name": "python2"
  },
  "language_info": {
   "codemirror_mode": {
    "name": "ipython",
    "version": 2
   },
   "file_extension": ".py",
   "mimetype": "text/x-python",
   "name": "python",
   "nbconvert_exporter": "python",
   "pygments_lexer": "ipython2",
   "version": "2.7.13"
  }
 },
 "nbformat": 4,
 "nbformat_minor": 0
}
