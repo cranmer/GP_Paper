{
 "cells": [
  {
   "cell_type": "markdown",
   "metadata": {
    "deletable": true,
    "editable": true
   },
   "source": [
    "## This does the comparison between fit function and GP fitting on 3.6fb-1 of data and injecting a Gaussian signal based on a fit to our q* samples"
   ]
  },
  {
   "cell_type": "code",
   "execution_count": 1,
   "metadata": {
    "collapsed": false,
    "deletable": true,
    "editable": true
   },
   "outputs": [
    {
     "name": "stdout",
     "output_type": "stream",
     "text": [
      "Populating the interactive namespace from numpy and matplotlib\n"
     ]
    }
   ],
   "source": [
    "%pylab inline --no-import-all"
   ]
  },
  {
   "cell_type": "code",
   "execution_count": 2,
   "metadata": {
    "collapsed": false,
    "deletable": true,
    "editable": true
   },
   "outputs": [],
   "source": [
    "import george\n",
    "from george.kernels import MyDijetKernelSimp, ExpSquaredCenteredKernel, ExpSquaredKernel\n",
    "\n",
    "\n",
    "import math\n",
    "import time\n",
    "import numpy as np\n",
    "import scipy.stats as ss\n",
    "import scipy.special as ssp\n",
    "import scipy.optimize as op\n",
    "from iminuit import Minuit\n",
    "\n",
    "#import ROOT as r\n",
    "#import warnings\n",
    "#from rootpy.plotting import Hist, Hist2D, Legend, Canvas\n",
    "#import rootpy.plotting.root2matplotlib as rplt"
   ]
  },
  {
   "cell_type": "markdown",
   "metadata": {
    "deletable": true,
    "editable": true
   },
   "source": [
    "## Section 1: including and visualizing 13 TeV dataset"
   ]
  },
  {
   "cell_type": "code",
   "execution_count": 3,
   "metadata": {
    "collapsed": true
   },
   "outputs": [],
   "source": [
    "xvalO = np.load(\"xvalO.npy\")\n",
    "yvalO = np.load(\"yvalO.npy\")\n",
    "xerrO = np.load(\"xerrO.npy\")\n",
    "xlowO = np.load(\"xlowO.npy\")\n",
    "xval = np.load(\"xval.npy\")\n",
    "yval = np.load(\"yval.npy\")\n",
    "xerr = np.load(\"xerr.npy\")\n",
    "\n",
    "toyList = np.load(\"toyList.npy\")\n",
    "lumiToyDict = np.load(\"lumiToyList.npy\")\n",
    "meanGPnom = np.load(\"initialGPfit.npy\")\n",
    "fixedHyperparams = np.load(\"fixedHyperparams.npy\")\n",
    "sigToys = np.load(\"signalToys.npy\")\n",
    "sigToysO = np.load(\"signalToysO.npy\")\n",
    "\n",
    "standardParamSets = [(1500,2000,250), (750 ,2500, 250), (200, 3000, 250), (75, 3500, 250), (50, 4000, 250), \n",
    "             (25, 4500, 250), (20, 5000, 250), (15,5500, 250), (15, 6000,250)]"
   ]
  },
  {
   "cell_type": "code",
   "execution_count": 4,
   "metadata": {
    "collapsed": true
   },
   "outputs": [],
   "source": [
    "def sig_model(x, N=1e5, mass=2000., width=100., xErr=xerr):\n",
    "    return N*(np.exp(-(x-mass)**2/2/width/width)/np.sqrt(2*np.pi)/width)*xErr"
   ]
  },
  {
   "cell_type": "code",
   "execution_count": 13,
   "metadata": {
    "collapsed": true
   },
   "outputs": [],
   "source": [
    "def model_3param(t, params, xErr=xerr): \n",
    "    p0, p1, p2 = params\n",
    "    sqrts = 13000.\n",
    "    return (p0 * ((1.-t/sqrts)**p1) * (t/sqrts)**(p2))*(xErr)  #1./(t/sqrts)"
   ]
  },
  {
   "cell_type": "code",
   "execution_count": 5,
   "metadata": {
    "collapsed": true
   },
   "outputs": [],
   "source": [
    "def calcSignificance(Data, Bkg):\n",
    "    pvals = []\n",
    "    zvals = []\n",
    "    chi2 = 0\n",
    "    for i, nD in enumerate(Data):\n",
    "        nB = Bkg[i]\n",
    "        if nD != 0:\n",
    "            if nB > nD:\n",
    "                #pval = 1.-r.TMath.Gamma(nD+1.,nB)\n",
    "                pval = 1.-ssp.gammainc(nD+1.,nB)\n",
    "            else:\n",
    "                #pval = pval = r.TMath.Gamma(nD,nB)\n",
    "                pval = ssp.gammainc(nD,nB)\n",
    "            prob = 1-2*pval\n",
    "            if prob > -1 and prob < 1:\n",
    "                #zval = math.sqrt(2.)*r.TMath.ErfInverse(prob)\n",
    "                zval = math.sqrt(2.)*ssp.erfinv(prob)\n",
    "            else:\n",
    "                zval = np.inf\n",
    "                #print \"crap\"\n",
    "            if zval > 100: zval = 20\n",
    "            if zval < 0: zval = 0\n",
    "            if (nD < nB): zval = -zval\n",
    "        else: zval = 0\n",
    "            \n",
    "        zvals.append(zval)\n",
    "        chi2 += ((nD - nB) ** 2 / abs(nB)) \n",
    "    return zvals, chi2\n",
    "\n",
    "\n",
    "\n",
    "def simpleLogPoisson(x, par):\n",
    "    if x < 0: \n",
    "        #print \"crap\"\n",
    "        return np.inf\n",
    "    elif (x == 0): return -1.*par\n",
    "    else:\n",
    "        #lnpoisson = x*np.log(par)-par-r.TMath.LnGamma(x+1.)\n",
    "        lnpoisson = x*np.log(par)-par-ssp.gammaln(x+1.)\n",
    "        return lnpoisson\n",
    "    \n",
    "def makeToys(dataset, nPseudo=1000, lumi = 3.6):\n",
    "    toys = []\n",
    "    for n in range(nPseudo):\n",
    "        pseudo = np.random.poisson(dataset*lumi/3.6)\n",
    "        toys.append(pseudo)\n",
    "    return toys\n",
    "\n",
    "def removeZeros(data):\n",
    "    indices = [i for i, x in enumerate(data) if x == 0]\n",
    "    newylist=[]\n",
    "    newxlist=[]\n",
    "    newxerrlist=[]\n",
    "    for k in range(len(data)):\n",
    "        if k not in indices:\n",
    "            newylist.append(data[k])\n",
    "            newxlist.append(xvalO[k])\n",
    "            newxerrlist.append(xerrO[k])\n",
    "    return np.array(newylist), np.array(newxlist), np.array(newxerrlist)"
   ]
  },
  {
   "cell_type": "code",
   "execution_count": null,
   "metadata": {
    "collapsed": true
   },
   "outputs": [],
   "source": []
  },
  {
   "cell_type": "markdown",
   "metadata": {
    "deletable": true,
    "editable": true
   },
   "source": [
    "### This set has all bins that equal 0 removed. These 0 points really bias the GP"
   ]
  },
  {
   "cell_type": "markdown",
   "metadata": {
    "deletable": true,
    "editable": true
   },
   "source": [
    "## GP SIGNAL FIGURE 8"
   ]
  },
  {
   "cell_type": "code",
   "execution_count": 6,
   "metadata": {
    "collapsed": true,
    "deletable": true,
    "editable": true
   },
   "outputs": [],
   "source": [
    "def makePrettyPlots_sb(xs_long, xs_short, ys_long, ys_short, yd_short, bkgs, bkgsigs,xlow_short, title, ymax = 2e5):\n",
    "    f, (ax1, ax2, ax3, ax4) = plt.subplots(4, sharex=True, figsize=(12,12), gridspec_kw = {'height_ratios':[3, 1, 1, 1]})\n",
    "    f.suptitle(title, fontsize=30)\n",
    "    dataPlot = ax1.errorbar(xs_long, ys_long, marker='o', ls='None', yerr = np.sqrt(ys_long), c='black', markersize=10, label=\"data+signal\")\n",
    "    bkg1Plot, = ax1.plot(xs_short, bkgs, color='g', linewidth=3.0, label=\"bkg only\")\n",
    "    bkg2Plot, = ax1.plot(xs_long, bkgsigs, color='b', linewidth=3.0, label=\"bkg+signal\")\n",
    "    ax1.legend()\n",
    "    ax1.set_ylabel('Events', fontsize=20)\n",
    "    ax1.set_yscale('log', nonposy=\"clip\")\n",
    "    ax1.set_xscale('log')\n",
    "    ax1.set_xlim([1000, 7500])\n",
    "    ax1.set_ylim([0.3, ymax])\n",
    "    ax1.tick_params(axis='y', labelsize=20)\n",
    "\n",
    "    #bin by bin significance   \n",
    "    zvals_1, chi2_1 = calcSignificance(ys_short, bkgs)\n",
    "    print \"chi2 bkg+signal mu=0\", chi2_1\n",
    "    h1 = Hist(xlow_short,markersize=0)\n",
    "    for x in range(len(zvals_1)):\n",
    "        if zvals_1[x] == np.inf or zvals_1[x] == -np.inf: h1[x] = 20\n",
    "        else: h1[x] = zvals_1[x]  \n",
    "    h1.fillstyle = 'solid'\n",
    "    h1.fillcolor = 'green'\n",
    "    h1.linecolor = 'black'\n",
    "    h1.linewidth = 1\n",
    "    h1.Draw(\"histX0\")\n",
    "    #print h1[:]\n",
    "    rplt.bar(h1, xerr=None, yerr=None, axes=ax2)\n",
    "    ax2.axhline(0, color='black', lw=1)\n",
    "    ax2.set_ylabel('Significance', fontsize=20)\n",
    "    ax2.set_xscale('log')\n",
    "    ax2.tick_params(axis='y', labelsize=20)\n",
    "    ax2.set_xlim([1000, 7500])\n",
    "    ax2.set_ylim([-5, 5])\n",
    "    #ax2.set_ylim([-2, 8])\n",
    "\n",
    "    zvals_2, chi2_2 = calcSignificance(ys_long, bkgsigs)\n",
    "    print \"chi2 bkg+signal\", chi2_2\n",
    "    h2 = Hist(xlowO,markersize=0)\n",
    "    for x in range(len(zvals_2)):\n",
    "        if zvals_2[x] == np.inf or zvals_2[x] == -np.inf: h2[x] = 20\n",
    "        else: h2[x] = zvals_2[x]  \n",
    "    h2.fillstyle = 'solid'\n",
    "    h2.fillcolor = 'blue'\n",
    "    h2.linecolor = 'black'\n",
    "    h2.linewidth = 1\n",
    "    h2.Draw(\"histX0\")\n",
    "    rplt.bar(h2, xerr=None, yerr=None, axes=ax3)\n",
    "    ax3.axhline(0, color='black', lw=1)\n",
    "    ax3.set_xlabel(r\"$m_{jj}$ [TeV]\", fontsize=30)\n",
    "    ax3.set_ylabel('Significance', fontsize=20)\n",
    "    ax3.set_xscale('log')\n",
    "    ax3.tick_params(axis='y', labelsize=20)\n",
    "    ax3.tick_params(axis='x', labelsize=20)\n",
    "    ax3.set_ylim([-5, 5])\n",
    "    ax3.set_xlim([1000, 7500])\n",
    "    \n",
    "    print len(yd_short), len(bkgs)\n",
    "    zvals_3, chi2_3 = calcSignificance(yd_short, bkgs)\n",
    "    print \"chi2 bkg+signal\", chi2_3\n",
    "    h3 = Hist(xlow_short,markersize=0)\n",
    "    for x in range(len(zvals_3)):\n",
    "        if zvals_3[x] == np.inf or zvals_3[x] == -np.inf: h3[x] = 20\n",
    "        else: h3[x] = zvals_3[x]  \n",
    "    h3.fillstyle = 'solid'\n",
    "    h3.fillcolor = 'red'\n",
    "    h3.linecolor = 'black'\n",
    "    h3.linewidth = 1\n",
    "    h3.Draw(\"histX0\")\n",
    "    rplt.bar(h3, xerr=None, yerr=None, axes=ax4)\n",
    "    ax4.axhline(0, color='black', lw=1)\n",
    "    ax4.set_xlabel(r\"$m_{jj}$ [TeV]\", fontsize=30)\n",
    "    ax4.set_ylabel('Significance', fontsize=20)\n",
    "    ax4.set_xscale('log')\n",
    "    ax4.tick_params(axis='y', labelsize=20)\n",
    "    ax4.tick_params(axis='x', labelsize=20)\n",
    "    ax4.set_ylim([-5, 5])\n",
    "    ax4.set_xlim([1000, 7500])\n",
    "\n",
    "    ax4.set_xticks([1000, 2000, 3000, 4000, 5000, 6000, 7000])\n",
    "    ax4.get_xaxis().set_major_formatter(matplotlib.ticker.ScalarFormatter())\n",
    "    minor_ticks = np.arange(1000, 7500, 100)\n",
    "    ax4.set_xticks(minor_ticks, minor=True)  \n",
    "    labels = [\"1\",\"2\",\"3\",\"4\",\"5\",\"6\",\"7\"]\n",
    "    ax4.set_xticklabels(labels)\n",
    "    \n",
    "    f.subplots_adjust(hspace=0)\n",
    "    plt.setp([a.get_xticklabels() for a in f.axes[:-1]], visible=False)    \n",
    "    plt.show()\n",
    "    \n",
    "def makePrettyPlots_signalOnly(xs, ys, bkgs, title, ymax = 2e5):\n",
    "    f, (ax1, ax2) = plt.subplots(2, sharex=True, figsize=(12,12), gridspec_kw = {'height_ratios':[3, 1]})\n",
    "    f.suptitle(title, fontsize=30)\n",
    "    dataPlot = ax1.errorbar(xs, ys, marker='o', ls='None', yerr = np.sqrt(ys), c='black', markersize=10, label=\"data+signal\")\n",
    "    bkgPlot, =ax1.plot(xs, bkgs, color='g', linewidth=3.0, label=\"bkg only\")\n",
    "    ax1.legend()\n",
    "    ax1.set_ylabel('Events', fontsize=20)\n",
    "    ax1.tick_params(axis='y', labelsize=20)\n",
    "    ax1.set_yscale('log', nonposy=\"clip\")\n",
    "    ax1.set_xscale('log')\n",
    "    ax1.set_xlim([1000, 7500])\n",
    "    ax1.set_ylim([0.01, ymax])\n",
    "\n",
    "    \n",
    "    #bin by bin significance    \n",
    "    zvals, chi2 = calcSignificance(ys, bkgs)\n",
    "    print \"chi2\", chi2\n",
    "    h1 = Hist(xlowO,markersize=0)\n",
    "    for x in range(len(zvals)):\n",
    "        if zvals[x] == np.inf or zvals[x] == -np.inf: h1[x] = 20\n",
    "        else: h1[x] = zvals[x]  \n",
    "\n",
    "    h1.fillstyle = 'solid'\n",
    "    h1.fillcolor = 'blue'\n",
    "    h1.linecolor = 'black'\n",
    "    h1.linewidth = 1\n",
    "    h1.Draw(\"histX0\")\n",
    "    rplt.bar(h1, xerr=None, yerr=None)\n",
    "    ax2.axhline(0, color='black', lw=1)\n",
    "    ax2.tick_params(axis='x', labelsize=20)\n",
    "    ax2.tick_params(axis='y', labelsize=20)\n",
    "    ax2.set_xlabel(r\"$m_{jj}$ [TeV]\", fontsize=30)\n",
    "    ax2.set_ylabel('Significance', fontsize=20)\n",
    "    ax2.set_xscale('log')\n",
    "    ax2.set_xlim([1000, 7500])\n",
    "    ax2.set_xticks([1000, 2000, 3000, 4000, 5000, 6000, 7000])\n",
    "    ax2.get_xaxis().set_major_formatter(matplotlib.ticker.ScalarFormatter())\n",
    "    minor_ticks = np.arange(1000, 7500, 100)\n",
    "    ax2.set_xticks(minor_ticks, minor=True)  \n",
    "    labels = [\"1\",\"2\",\"3\",\"4\",\"5\",\"6\",\"7\"]\n",
    "    ax2.set_xticklabels(labels)\n",
    "    ax2.set_ylim([-5, 5])\n",
    "    \n",
    "    f.subplots_adjust(hspace=0)\n",
    "    plt.setp([a.get_xticklabels() for a in f.axes[:-1]], visible=False)    \n",
    "    plt.show()"
   ]
  },
  {
   "cell_type": "code",
   "execution_count": 10,
   "metadata": {
    "collapsed": true
   },
   "outputs": [],
   "source": [
    "def model_gp(params, t, xerr=xerr): \n",
    "    #global xerr\n",
    "    p0, p1, p2 = params\n",
    "    sqrts = 13000.\n",
    "    return (p0 * (1.-t/sqrts)**p1 * (t/sqrts)**(p2))*xerr"
   ]
  },
  {
   "cell_type": "code",
   "execution_count": 19,
   "metadata": {
    "collapsed": true,
    "deletable": true,
    "editable": true
   },
   "outputs": [],
   "source": [
    "class logLike_gp_fitgpsig:\n",
    "    def __init__(self, x, y, xerr):\n",
    "        self.x = x\n",
    "        self.y = y\n",
    "        self.xerr = xerr\n",
    "    def __call__(self, A, mass, tau):\n",
    "        Amp, decay, length, power, sub, p0, p1, p2 = fixedHyperparams\n",
    "        kernel1 = Amp * MyDijetKernelSimp(a = decay, b = length, c = power, d=sub)\n",
    "        kernel2 = A * ExpSquaredCenteredKernel(m = mass, t = tau)\n",
    "        kernel = kernel1+kernel2\n",
    "        gp = george.GP(kernel)\n",
    "        try:\n",
    "            gp.compute(self.x, np.sqrt(self.y))\n",
    "            return -gp.lnlikelihood(self.y - model_gp((p0,p1,p2), self.x, self.xerr))\n",
    "        except:\n",
    "            return np.inf  \n",
    "        \n",
    "def fit_gp_fitgpsig_minuit(lnprob, Print = True):\n",
    "    #np.random.seed(1234)\n",
    "    bestval = np.inf\n",
    "    bestargs = (0, 0, 0)\n",
    "    passedFit = False\n",
    "    numRetries = 0\n",
    "    #while not passedFit and numRetries < 5:\n",
    "\n",
    "    for i in range(100):\n",
    "        init0 = np.random.random() * 500.\n",
    "        init1 = np.random.random() * 4000.\n",
    "        init2 = np.random.random() * 200.\n",
    "        m = Minuit(lnprob, throw_nan = False, pedantic = False, print_level = 0, errordef = 0.5,\n",
    "                  A = init0, mass = init1, tau = init2, \n",
    "                  error_A = 1., error_mass = 1., error_tau = 1.,\n",
    "                  limit_A = (1, 1e5), limit_mass = (1000, 7000), limit_tau = (100, 500))\n",
    "        fit = m.migrad()\n",
    "        if m.fval < bestval:\n",
    "            bestval = m.fval\n",
    "            bestargs = m.args   \n",
    "        '''\n",
    "        if fit[0]['is_valid']: \n",
    "            passedFit=True\n",
    "        if numRetries == 4: \n",
    "            print \"retry number = \", 5, \": failed fits\"\n",
    "            bestval=np.inf\n",
    "            bestargs=(0, 0, 0, 0, 0, 0, 0, 0)\n",
    "        numRetries+=1 \n",
    "        '''\n",
    "\n",
    "    if Print:\n",
    "        print \"min LL\", bestval\n",
    "        print \"best fit vals\",bestargs\n",
    "    return bestval, bestargs"
   ]
  },
  {
   "cell_type": "code",
   "execution_count": 21,
   "metadata": {
    "collapsed": false,
    "deletable": true,
    "editable": true
   },
   "outputs": [
    {
     "name": "stdout",
     "output_type": "stream",
     "text": [
      "parameters (1500, 2000, 250)\n",
      "0\n",
      "10\n"
     ]
    },
    {
     "name": "stderr",
     "output_type": "stream",
     "text": [
      "/Users/Darren/miniconda2/lib/python2.7/site-packages/ipykernel_launcher.py:27: RuntimeWarning: invalid value encountered in double_scalars\n"
     ]
    },
    {
     "name": "stdout",
     "output_type": "stream",
     "text": [
      "20\n",
      "30\n",
      "40\n",
      "50\n",
      "60\n",
      "70\n",
      "80\n",
      "90\n",
      "parameters (750, 2500, 250)\n",
      "0\n",
      "10\n",
      "20\n",
      "30\n",
      "40\n",
      "50\n",
      "60\n",
      "70\n",
      "80\n",
      "90\n",
      "parameters (200, 3000, 250)\n",
      "0\n",
      "10\n",
      "20\n",
      "30\n",
      "40\n",
      "50\n",
      "60\n",
      "70\n",
      "80\n",
      "90\n",
      "parameters (75, 3500, 250)\n",
      "0\n",
      "10\n",
      "20\n",
      "30\n",
      "40\n",
      "50\n",
      "60\n",
      "70\n",
      "80\n",
      "90\n",
      "parameters (50, 4000, 250)\n",
      "0\n",
      "10\n",
      "20\n",
      "30\n",
      "40\n",
      "50\n",
      "60\n",
      "70\n",
      "80\n",
      "90\n",
      "parameters (25, 4500, 250)\n",
      "0\n",
      "10\n",
      "20\n",
      "30\n",
      "40\n",
      "50\n",
      "60\n",
      "70\n",
      "80\n",
      "90\n",
      "parameters (20, 5000, 250)\n",
      "0\n",
      "10\n",
      "20\n"
     ]
    },
    {
     "name": "stderr",
     "output_type": "stream",
     "text": [
      "/Users/Darren/miniconda2/lib/python2.7/site-packages/ipykernel_launcher.py:27: RuntimeWarning: overflow encountered in double_scalars\n",
      "/Users/Darren/miniconda2/lib/python2.7/site-packages/ipykernel_launcher.py:27: RuntimeWarning: divide by zero encountered in double_scalars\n"
     ]
    },
    {
     "name": "stdout",
     "output_type": "stream",
     "text": [
      "30\n",
      "40\n",
      "50\n",
      "60\n",
      "70\n",
      "80\n",
      "90\n",
      "parameters (15, 5500, 250)\n",
      "0\n",
      "10\n",
      "20\n",
      "30\n",
      "40\n",
      "50\n",
      "60\n",
      "70\n",
      "80\n",
      "90\n",
      "parameters (15, 6000, 250)\n",
      "0\n",
      "10\n",
      "20\n",
      "30\n",
      "40\n",
      "50\n",
      "60\n",
      "70\n",
      "80\n",
      "90\n"
     ]
    }
   ],
   "source": [
    "chi_GP_sig={}\n",
    "chi_GP_bkg={}\n",
    "chi_GP_sb={}\n",
    "aa={}\n",
    "mm={}\n",
    "ww={}\n",
    "for pSet in standardParamSets:\n",
    "    n, m, w = pSet\n",
    "    print \"parameters\", pSet\n",
    "\n",
    "    chi_GP_sig[m]=[]\n",
    "    chi_GP_bkg[m]=[]\n",
    "    chi_GP_sb[m]=[]\n",
    "    aa[m]=[]\n",
    "    mm[m]=[]\n",
    "    ww[m]=[]\n",
    "    for itoy, toy in enumerate(toyList[:100]):\n",
    "        if itoy%10 ==0: print itoy\n",
    "        \n",
    "        ytoy, xtoy, xtoyerr = removeZeros(toy)\n",
    "        xtoylow = list(xtoy-xtoyerr/2.)\n",
    "\n",
    "        signalTemplate = sigToys[()][m][itoy]\n",
    "        ydata = ytoy + signalTemplate\n",
    "\n",
    "        signalTemplateO = sigToysO[()][m][itoy]\n",
    "        ydataO = toy + signalTemplateO\n",
    "\n",
    "        \n",
    "        Amp, decay, length, power, sub, p0, p1, p2 = fixedHyperparams\n",
    "        lnProb = logLike_gp_fitgpsig(xtoy,ydata, xtoyerr)\n",
    "        bestval, best_fit_new = fit_gp_fitgpsig_minuit(lnProb, False)\n",
    "        if np.isinf(bestval): \n",
    "            print \"failed\"\n",
    "            continue\n",
    "        \n",
    "        A, mass, tau = best_fit_new \n",
    "        aa[m].append(A)\n",
    "        mm[m].append(mass)\n",
    "        ww[m].append(tau)\n",
    "        #print \"A, mass, tau\", A, mass, tau\n",
    "        kernel2 = A * ExpSquaredCenteredKernel(m = mass, t = tau)\n",
    "        kernel1 = Amp * MyDijetKernelSimp(a = decay, b = length, c = power, d=sub)\n",
    "\n",
    "        kernel = kernel1 + kernel2\n",
    "        gp = george.GP(kernel)\n",
    "        gp.compute(xtoy, np.sqrt(ydata))\n",
    "        meanGPp = gp.predict( ydata - model_gp((p0,p1,p2),xtoy, xtoyerr), xvalO)[0]\n",
    "        meanGP = meanGPp + model_3param(xvalO,(p0,p1,p2),xerrO)\n",
    "\n",
    "        gp2 = george.GP(kernel)\n",
    "        gp2.compute(xtoy, np.sqrt(ydata))\n",
    "        K1 = kernel1.get_value(np.atleast_2d(xtoy).T)\n",
    "        mu1 = np.dot(K1, gp2.solver.apply_inverse(ydata- model_gp((p0,p1,p2),xtoy, xtoyerr))) + model_3param(xtoy, (p0,p1, p2), xtoyerr)\n",
    "        K2 = kernel2.get_value(np.atleast_2d(xtoy).T)\n",
    "        mu2 = np.dot(K2, gp2.solver.apply_inverse(ydata- model_gp((p0,p1,p2),xtoy, xtoyerr)))\n",
    "\n",
    "    \n",
    "        zvalsig, chi2sig = calcSignificance(signalTemplate, mu2)\n",
    "        zvalsb, chi2sb = calcSignificance(ydataO, meanGP)\n",
    "        zvalbkg, chi2bkg = calcSignificance(ytoy, mu1)\n",
    "        chi_GP_sig[m].append(chi2sig) \n",
    "        chi_GP_sb[m].append(chi2sb) \n",
    "        chi_GP_bkg[m].append(chi2bkg) \n",
    "        \n",
    "\n",
    "\n",
    "   # label=\"GP bkg+signal: N=\"+str(n)+\" m=\"+str(m)+\" width=\"+str(w) + \"\\n Fit params:\"+\" m=\"+str(round(mass,1))+\" width=\"+str(round(tau,1))\n",
    "   # makePrettyPlots_sb(xvalO, xtoy, ydataO, ydata, ytoy, mu1, meanGP, xtoylow, label)\n",
    "    \n",
    "   # label=\"Signal only: N=\"+str(n)+\" m=\"+str(m)+\" width=\"+str(w) + \"\\n Fit params:\"+\" m=\"+str(round(mass,1))+\" width=\"+str(round(tau,1))\n",
    "   # makePrettyPlots_signalOnly(xtoy, signalTemplate, mu2, label, n)\n",
    "        "
   ]
  },
  {
   "cell_type": "code",
   "execution_count": 23,
   "metadata": {
    "collapsed": false
   },
   "outputs": [
    {
     "name": "stdout",
     "output_type": "stream",
     "text": [
      "parameters (1500, 2000, 250)\n",
      "15067.0643645 2036.92513952 242.884387149\n",
      "parameters (750, 2500, 250)\n",
      "5074.67093663 2516.29421701 257.851477881\n",
      "parameters (200, 3000, 250)\n",
      "709.448613717 3210.98923313 225.746718275\n",
      "parameters (75, 3500, 250)\n",
      "726.029940549 3562.88758486 191.053994807\n",
      "parameters (50, 4000, 250)\n",
      "1944.14443984 3868.12108777 183.744751774\n",
      "parameters (25, 4500, 250)\n",
      "3422.21628296 3719.65437962 150.635175257\n",
      "parameters (20, 5000, 250)\n",
      "4551.46933484 3785.34237168 164.28300932\n",
      "parameters (15, 5500, 250)\n",
      "1090.14827872 4336.76433285 194.476684844\n",
      "parameters (15, 6000, 250)\n",
      "1892.18368669 4374.46668927 202.411164576\n"
     ]
    }
   ],
   "source": [
    "for pSet in standardParamSets:\n",
    "    n, m, w = pSet\n",
    "    print \"parameters\", pSet\n",
    "    print np.mean(aa[m]), np.mean(mm[m]), np.mean(ww[m])\n",
    "    "
   ]
  },
  {
   "cell_type": "code",
   "execution_count": 24,
   "metadata": {
    "collapsed": true
   },
   "outputs": [],
   "source": [
    "class logLike_gp_fitgpsig2:\n",
    "    def __init__(self, x, y, xerr):\n",
    "        self.x = x\n",
    "        self.y = y\n",
    "        self.xerr = xerr\n",
    "    def __call__(self, A, mass, tau, A1, w1):\n",
    "        Amp, decay, length, power, sub, p0, p1, p2 = fixedHyperparams\n",
    "        kernel1 = Amp * MyDijetKernelSimp(a = decay, b = length, c = power, d=sub)\n",
    "        kernel2 = A * ExpSquaredCenteredKernel(m = mass, t = tau)\n",
    "        kernel = kernel1+kernel2\n",
    "        gp = george.GP(kernel)\n",
    "        try:\n",
    "            gp.compute(self.x, np.sqrt(self.y))\n",
    "            #print \"hi\", model_gp((p0,p1,p2), self.x, self.xerr)\n",
    "            return -gp.lnlikelihood(self.y - model_gp((p0,p1,p2), self.x, self.xerr) - sig_model(self.x, A1, mass, w1, self.xerr))\n",
    "        except:\n",
    "            return np.inf  \n",
    "        \n",
    "def fit_gp_fitgpsig_minuit2(lnprob, Print = True):\n",
    "    bestval = np.inf\n",
    "    bestargs = (0, 0, 0, 0, 0)\n",
    "    for i in range(100):\n",
    "        init0 = np.random.random() * 500.\n",
    "        init1 = np.random.random() * 4000.\n",
    "        init2 = np.random.random() * 200.\n",
    "        init3 = np.random.random() * 500.\n",
    "        #init4 = np.random.random() * 4000.\n",
    "        init4 = np.random.random() * 200.\n",
    "        m = Minuit(lnprob, throw_nan = False, pedantic = False, print_level = 0,\n",
    "                  A = init0, mass = init1, tau = init2, A1 = init3, w1 = init4,\n",
    "                  error_A = 100., error_mass = 10., error_tau = 5., error_A1 = 100., error_w1 = 5.,\n",
    "                  limit_A = (1, 1e5), limit_mass = (1000, 7000), limit_tau = (100, 500), limit_A1 = (1, 1e5), \n",
    "                  limit_w1 = (100, 500))\n",
    "        m.migrad()\n",
    "        if m.fval < bestval:\n",
    "            bestval = m.fval\n",
    "            bestargs = m.args\n",
    "    if Print:\n",
    "        print \"min LL\", bestval\n",
    "        print \"best fit vals\",bestargs\n",
    "    return bestval, bestargs"
   ]
  },
  {
   "cell_type": "code",
   "execution_count": null,
   "metadata": {
    "collapsed": false,
    "deletable": true,
    "editable": true
   },
   "outputs": [
    {
     "name": "stdout",
     "output_type": "stream",
     "text": [
      "[  2.58152631e+07   1.62331670e+02   1.19749544e-01  -1.33472298e+02\n",
      "   2.18750064e+00   1.64801807e-02   8.44386637e+00  -5.22509390e+00]\n",
      "parameters (1500, 2000, 250)\n",
      "0\n",
      "A, mass, tau 1.00090878371 1988.45718149 100.000024697 1634.10945274 253.731937409\n"
     ]
    }
   ],
   "source": [
    "chi_GP_sig2={}\n",
    "chi_GP_bkg2={}\n",
    "chi_GP_sb2={}\n",
    "aa2={}\n",
    "mm2={}\n",
    "ww2={}\n",
    "print fixedHyperparams\n",
    "for pSet in standardParamSets:\n",
    "    n, m, w = pSet\n",
    "    print \"parameters\", pSet\n",
    "\n",
    "    chi_GP_sig2[m]=[]\n",
    "    chi_GP_bkg2[m]=[]\n",
    "    chi_GP_sb2[m]=[]\n",
    "    aa2[m]=[]\n",
    "    mm2[m]=[]\n",
    "    ww2[m]=[]\n",
    "    for itoy, toy in enumerate(toyList[:10]):\n",
    "        if itoy%10 ==0: print itoy\n",
    "        \n",
    "        ytoy, xtoy, xtoyerr = removeZeros(toy)\n",
    "        xtoylow = list(xtoy-xtoyerr/2.)\n",
    "\n",
    "        signalTemplate = sigToys[()][m][itoy]\n",
    "        ydata = ytoy + signalTemplate\n",
    "\n",
    "        signalTemplateO = sigToysO[()][m][itoy]\n",
    "        ydataO = toy + signalTemplateO\n",
    "\n",
    "        \n",
    "        Amp, decay, length, power, sub, p0, p1, p2 = fixedHyperparams\n",
    "        lnProb = logLike_gp_fitgpsig2(xtoy,ydata, xtoyerr)\n",
    "        bestval, best_fit_new = fit_gp_fitgpsig_minuit2(lnProb, False)\n",
    "        if np.isinf(bestval): \n",
    "            print \"failed\"\n",
    "            continue\n",
    "        \n",
    "        \n",
    "        A, mass, tau, A1, w1 = best_fit_new \n",
    "        print \"A, mass, tau\", A, mass, tau, A1, w1\n",
    "\n",
    "        #A, mass, tau = best_fit_new \n",
    "        aa2[m].append(A1)\n",
    "        mm2[m].append(mass)\n",
    "        ww2[m].append(w1)\n",
    "        #print \"A, mass, tau\", A, mass, tau\n",
    "        kernel2 = A * ExpSquaredCenteredKernel(m = mass, t = tau)\n",
    "        kernel1 = Amp * MyDijetKernelSimp(a = decay, b = length, c = power, d=sub)\n",
    "\n",
    "        kernel = kernel1 + kernel2\n",
    "        gp = george.GP(kernel)\n",
    "        gp.compute(xtoy, np.sqrt(ydata))\n",
    "        \n",
    "        meanGPp = gp.predict( ydata - model_gp((p0,p1,p2),xtoy, xtoyerr)-sig_model(xtoy, A1, mass, w1, xtoyerr), xvalO)[0]\n",
    "        meanGP = meanGPp + model_3param(xvalO,(p0,p1,p2),xerrO) + sig_model(xvalO, A1, mass, w1, xerrO)\n",
    "      #  meanGPp = gp.predict( ydata - model_gp((p0,p1,p2),xtoy, xtoyerr), xvalO)[0]\n",
    "      #  meanGP = meanGPp + model_3param(xvalO,(p0,p1,p2),xerrO)\n",
    "\n",
    "        gp2 = george.GP(kernel)\n",
    "        gp2.compute(xtoy, np.sqrt(ydata))\n",
    "        K1 = kernel1.get_value(np.atleast_2d(xtoy).T)\n",
    "        mu1 = np.dot(K1, gp2.solver.apply_inverse(ydata- model_gp((p0,p1,p2),xtoy, xtoyerr))) + model_3param(xtoy, (p0,p1, p2), xtoyerr)\n",
    "        K2 = kernel2.get_value(np.atleast_2d(xtoy).T)\n",
    "        mu2 = np.dot(K2, gp2.solver.apply_inverse(ydata- model_gp((p0,p1,p2),xtoy, xtoyerr))) + sig_model(xtoy, A1, mass, w1, xtoyerr)\n",
    "\n",
    "    \n",
    "        zvalsig, chi2sig = calcSignificance(signalTemplate, mu2)\n",
    "        zvalsb, chi2sb = calcSignificance(ydataO, meanGP)\n",
    "        zvalbkg, chi2bkg = calcSignificance(ytoy, mu1)\n",
    "        chi_GP_sig2[m].append(chi2sig) \n",
    "        chi_GP_sb2[m].append(chi2sb) \n",
    "        chi_GP_bkg2[m].append(chi2bkg) \n",
    "        \n",
    "\n",
    "\n",
    "   # label=\"GP bkg+signal: N=\"+str(n)+\" m=\"+str(m)+\" width=\"+str(w) + \"\\n Fit params:\"+\" m=\"+str(round(mass,1))+\" width=\"+str(round(tau,1))\n",
    "   # makePrettyPlots_sb(xvalO, xtoy, ydataO, ydata, ytoy, mu1, meanGP, xtoylow, label)\n",
    "    \n",
    "   # label=\"Signal only: N=\"+str(n)+\" m=\"+str(m)+\" width=\"+str(w) + \"\\n Fit params:\"+\" m=\"+str(round(mass,1))+\" width=\"+str(round(tau,1))\n",
    "   # makePrettyPlots_signalOnly(xtoy, signalTemplate, mu2, label, n)\n",
    "        "
   ]
  },
  {
   "cell_type": "code",
   "execution_count": 47,
   "metadata": {
    "collapsed": false,
    "deletable": true,
    "editable": true
   },
   "outputs": [
    {
     "data": {
      "text/plain": [
       "<matplotlib.text.Text at 0x11d1e8510>"
      ]
     },
     "execution_count": 47,
     "metadata": {},
     "output_type": "execute_result"
    },
    {
     "data": {
      "image/png": "[encoded data removed]",
      "text/plain": [
       "<matplotlib.figure.Figure at 0x11c30f6d0>"
      ]
     },
     "metadata": {},
     "output_type": "display_data"
    }
   ],
   "source": [
    "\n",
    "plt.title(\"background only\", fontsize=20)\n",
    "plt.errorbar(msignals,[chi_GP_bkg[i][0] for i in range(len(chi_GP_bkg))],yerr = [chi_GP_bkg[i][2] for i in range(len(chi_GP_bkg))], marker=\".\", linestyle=\"-\")\n",
    "plt.xlabel('mass', fontsize=15)\n",
    "plt.ylabel('chi2', fontsize=15)\n",
    "#plt.set_xscale('log')\n",
    "#plt.set_yscale('log')\n",
    "\n",
    "\n",
    "#plt.errorbar([1900, 2400, 2800, 3300, 3800, 4300, 4700, 5300],[chi_GP_sig[i][0] for i in range(len(chi_GP_sig)-1)],yerr = [chi_GP_sig[i][2] for i in range(len(chi_GP_sig)-1)], marker=\".\", linestyle=\"-\")\n",
    "#plt.xlabel('mass', fontsize=15)\n",
    "#plt.ylabel('chi2', fontsize=15)"
   ]
  },
  {
   "cell_type": "code",
   "execution_count": 48,
   "metadata": {
    "collapsed": false,
    "deletable": true,
    "editable": true
   },
   "outputs": [
    {
     "data": {
      "text/plain": [
       "<matplotlib.text.Text at 0x11fe2a750>"
      ]
     },
     "execution_count": 48,
     "metadata": {},
     "output_type": "execute_result"
    },
    {
     "data": {
      "image/png": "[encoded data removed]",
      "text/plain": [
       "<matplotlib.figure.Figure at 0x11c523090>"
      ]
     },
     "metadata": {},
     "output_type": "display_data"
    }
   ],
   "source": [
    "plt.title(\"background + signal\", fontsize=20)\n",
    "plt.errorbar(msignals,[chi_GP_sb[i][0] for i in range(len(chi_GP_sb))],yerr = [chi_GP_sb[i][2] for i in range(len(chi_GP_sb))], marker=\".\", linestyle=\"-\")\n",
    "plt.xlabel('mass', fontsize=15)\n",
    "plt.ylabel('chi2', fontsize=15)"
   ]
  }
 ],
 "metadata": {
  "anaconda-cloud": {},
  "kernelspec": {
   "display_name": "Python 2",
   "language": "python",
   "name": "python2"
  },
  "language_info": {
   "codemirror_mode": {
    "name": "ipython",
    "version": 2
   },
   "file_extension": ".py",
   "mimetype": "text/x-python",
   "name": "python",
   "nbconvert_exporter": "python",
   "pygments_lexer": "ipython2",
   "version": "2.7.13"
  }
 },
 "nbformat": 4,
 "nbformat_minor": 0
}
